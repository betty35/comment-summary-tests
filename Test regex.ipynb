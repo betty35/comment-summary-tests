{
 "cells": [
  {
   "cell_type": "code",
   "execution_count": 1,
   "metadata": {},
   "outputs": [],
   "source": [
    "import re"
   ]
  },
  {
   "cell_type": "code",
   "execution_count": 7,
   "metadata": {},
   "outputs": [
    {
     "data": {
      "text/plain": [
       "\"It's - cool and nice application\""
      ]
     },
     "execution_count": 7,
     "metadata": {},
     "output_type": "execute_result"
    }
   ],
   "source": [
    "def remove_consecutive(text):\n",
    "    one = re.sub(r\"([eoEO])\\1\\1+\",r\"\\1\\1\",text)\n",
    "    return re.sub(r\"([^eoEO])\\1\\1+\",r\"\\1\",one)\n",
    "\n",
    "a = \"It's ------------- ccccccccoooooooooooooooooool and nnnnnnnniiiiiiiiiiiiice application\"\n",
    "\n",
    "remove_consecutive(a)"
   ]
  },
  {
   "cell_type": "code",
   "execution_count": 18,
   "metadata": {},
   "outputs": [
    {
     "data": {
      "text/plain": [
       "'aaaaaa'"
      ]
     },
     "execution_count": 18,
     "metadata": {},
     "output_type": "execute_result"
    }
   ],
   "source": [
    "result='aaaaaa_'\n",
    "result=result[0:len(result)-1]\n",
    "result"
   ]
  },
  {
   "cell_type": "code",
   "execution_count": 15,
   "metadata": {},
   "outputs": [],
   "source": [
    "def space_before_punct(text):\n",
    "    text = re.sub(\"([,.!?;$])\",r\" \\1\",text)\n",
    "    text = re.sub(' +', ' ',text)\n",
    "    return text"
   ]
  },
  {
   "cell_type": "code",
   "execution_count": 16,
   "metadata": {},
   "outputs": [
    {
     "name": "stdout",
     "output_type": "stream",
     "text": [
      "aa , and bb ? They are moved to c . . . .\n"
     ]
    }
   ],
   "source": [
    "text = 'aa, and bb ? They are moved to c....'\n",
    "print(space_before_punct(text))"
   ]
  },
  {
   "cell_type": "code",
   "execution_count": null,
   "metadata": {},
   "outputs": [],
   "source": []
  }
 ],
 "metadata": {
  "kernelspec": {
   "display_name": "Python 3",
   "language": "python",
   "name": "python3"
  },
  "language_info": {
   "codemirror_mode": {
    "name": "ipython",
    "version": 3
   },
   "file_extension": ".py",
   "mimetype": "text/x-python",
   "name": "python",
   "nbconvert_exporter": "python",
   "pygments_lexer": "ipython3",
   "version": "3.7.3"
  }
 },
 "nbformat": 4,
 "nbformat_minor": 2
}
