{
 "cells": [
  {
   "cell_type": "code",
   "execution_count": 1,
   "metadata": {},
   "outputs": [],
   "source": [
    "### Utils\n",
    "import pandas as pd\n",
    "import time\n",
    "\n",
    "### Tensorflow related\n",
    "import tensorflow as tf\n",
    "from tensorflow.contrib import rnn  #cell that we would use\n",
    "import tensorlayer as tl"
   ]
  },
  {
   "cell_type": "code",
   "execution_count": 2,
   "metadata": {},
   "outputs": [],
   "source": [
    "### load the small dataset\n",
    "df = pd.read_csv('output/corpus/processed_2.csv')\n",
    "contents = df.content.tolist()\n",
    "summaries = df.summary.tolist()"
   ]
  },
  {
   "cell_type": "code",
   "execution_count": 3,
   "metadata": {},
   "outputs": [
    {
     "name": "stdout",
     "output_type": "stream",
     "text": [
      "count lines of contents: 134982\n",
      "count lines of summaries: 134982\n"
     ]
    }
   ],
   "source": [
    "print('count lines of contents:', len(contents))\n",
    "print('count lines of summaries:', len(summaries))"
   ]
  },
  {
   "cell_type": "code",
   "execution_count": 25,
   "metadata": {},
   "outputs": [
    {
     "name": "stdout",
     "output_type": "stream",
     "text": [
      "Size of all words: 22575961\n"
     ]
    }
   ],
   "source": [
    "all_words = []\n",
    "for line in contents+summaries:\n",
    "    for word in line.split():\n",
    "        all_words.append(word)\n",
    "\n",
    "print('Size of all words:',len(all_words))"
   ]
  },
  {
   "cell_type": "code",
   "execution_count": 26,
   "metadata": {},
   "outputs": [
    {
     "name": "stdout",
     "output_type": "stream",
     "text": [
      "[TL] Real vocabulary size    279503\n",
      "[TL] Limited vocabulary size 150000\n"
     ]
    }
   ],
   "source": [
    "vocabulary_size = 150000\n",
    "data, count, dictionary, reverse_dictionary = tl.nlp.build_words_dataset(all_words, vocabulary_size)"
   ]
  },
  {
   "cell_type": "code",
   "execution_count": 30,
   "metadata": {},
   "outputs": [
    {
     "data": {
      "text/plain": [
       "[('rakudo', 1),\n",
       " ('perl5', 1),\n",
       " ('lemonyay', 1),\n",
       " ('liddles', 1),\n",
       " ('stantdard', 1),\n",
       " ('alfala', 1),\n",
       " ('snpier', 1),\n",
       " ('camargo', 1),\n",
       " ('pinehurst', 1),\n",
       " ('pasatiempo', 1),\n",
       " ('carnoustie', 1),\n",
       " ('^laughing', 1),\n",
       " ('^migration', 1),\n",
       " ('^fly', 1),\n",
       " ('^south', 1),\n",
       " ('^winter', 1),\n",
       " ('medullas', 1),\n",
       " ('melchios', 1),\n",
       " ('innitially', 1),\n",
       " ('melonite', 1)]"
      ]
     },
     "execution_count": 30,
     "metadata": {},
     "output_type": "execute_result"
    }
   ],
   "source": [
    "count[149980:150000]"
   ]
  },
  {
   "cell_type": "code",
   "execution_count": null,
   "metadata": {},
   "outputs": [],
   "source": []
  }
 ],
 "metadata": {
  "kernelspec": {
   "display_name": "Python 3",
   "language": "python",
   "name": "python3"
  },
  "language_info": {
   "codemirror_mode": {
    "name": "ipython",
    "version": 3
   },
   "file_extension": ".py",
   "mimetype": "text/x-python",
   "name": "python",
   "nbconvert_exporter": "python",
   "pygments_lexer": "ipython3",
   "version": "3.7.3"
  }
 },
 "nbformat": 4,
 "nbformat_minor": 2
}
