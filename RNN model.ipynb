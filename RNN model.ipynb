{
 "cells": [
  {
   "cell_type": "code",
   "execution_count": 1,
   "metadata": {},
   "outputs": [],
   "source": [
    "### Utils\n",
    "import pandas as pd\n",
    "import time\n",
    "\n",
    "### Tensorflow related\n",
    "import tensorflow as tf\n",
    "from tensorflow.contrib import rnn  #cell that we would use\n",
    "import tensorlayer as tl"
   ]
  },
  {
   "cell_type": "code",
   "execution_count": 2,
   "metadata": {},
   "outputs": [],
   "source": [
    "### load the small dataset\n",
    "df = pd.read_csv('output/corpus/processed_2.csv')\n",
    "contents = df.content.tolist()\n",
    "summaries = df.summary.tolist()"
   ]
  },
  {
   "cell_type": "code",
   "execution_count": 3,
   "metadata": {},
   "outputs": [
    {
     "name": "stdout",
     "output_type": "stream",
     "text": [
      "count lines of contents: 134982\n",
      "count lines of summaries: 134982\n"
     ]
    }
   ],
   "source": [
    "print('count lines of contents:', len(contents))\n",
    "print('count lines of summaries:', len(summaries))"
   ]
  },
  {
   "cell_type": "code",
   "execution_count": 4,
   "metadata": {},
   "outputs": [
    {
     "name": "stdout",
     "output_type": "stream",
     "text": [
      "Size of all words: 22547098\n"
     ]
    }
   ],
   "source": [
    "all_words = []\n",
    "for line in contents+summaries:\n",
    "    for word in line.split():\n",
    "        all_words.append(word)\n",
    "\n",
    "print('Size of all words:',len(all_words))"
   ]
  },
  {
   "cell_type": "code",
   "execution_count": 11,
   "metadata": {},
   "outputs": [
    {
     "name": "stdout",
     "output_type": "stream",
     "text": [
      "[TL] Real vocabulary size    261193\n",
      "[TL] Limited vocabulary size 100000\n"
     ]
    }
   ],
   "source": [
    "vocabulary_size = 100000\n",
    "data, count, dictionary, reverse_dictionary = tl.nlp.build_words_dataset(all_words, vocabulary_size)"
   ]
  },
  {
   "cell_type": "code",
   "execution_count": 12,
   "metadata": {},
   "outputs": [
    {
     "data": {
      "text/plain": [
       "[('semiannual', 3),\n",
       " ('audeze', 3),\n",
       " ('enmasse', 3),\n",
       " ('erryday', 3),\n",
       " ('atlassian', 3),\n",
       " ('greenhopper', 3),\n",
       " ('skillevel', 3),\n",
       " ('sportsbooks', 3),\n",
       " ('sportsbook', 3),\n",
       " ('precompiled', 3)]"
      ]
     },
     "execution_count": 12,
     "metadata": {},
     "output_type": "execute_result"
    }
   ],
   "source": [
    "count[99990:100000]"
   ]
  },
  {
   "cell_type": "code",
   "execution_count": null,
   "metadata": {},
   "outputs": [],
   "source": []
  }
 ],
 "metadata": {
  "kernelspec": {
   "display_name": "Python 3",
   "language": "python",
   "name": "python3"
  },
  "language_info": {
   "codemirror_mode": {
    "name": "ipython",
    "version": 3
   },
   "file_extension": ".py",
   "mimetype": "text/x-python",
   "name": "python",
   "nbconvert_exporter": "python",
   "pygments_lexer": "ipython3",
   "version": "3.7.3"
  }
 },
 "nbformat": 4,
 "nbformat_minor": 2
}
