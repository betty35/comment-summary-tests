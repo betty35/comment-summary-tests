{
 "cells": [
  {
   "cell_type": "markdown",
   "metadata": {},
   "source": [
    "# Page for trying out the data"
   ]
  },
  {
   "cell_type": "code",
   "execution_count": 1,
   "metadata": {},
   "outputs": [
    {
     "name": "stderr",
     "output_type": "stream",
     "text": [
      "WARNING: Logging before flag parsing goes to stderr.\n",
      "W0511 16:00:32.411990  8600 __init__.py:56] Some hub symbols are not available because TensorFlow version is less than 1.14\n"
     ]
    }
   ],
   "source": [
    "import pandas as pd\n",
    "import time, os, shutil\n",
    "import nltk\n",
    "import re\n",
    "import tensorflow as tf\n",
    "import tensorflow_hub as hub\n",
    "import numpy as np  \n",
    "from sklearn.cluster import KMeans  \n",
    "from sklearn.cluster import DBSCAN\n"
   ]
  },
  {
   "cell_type": "code",
   "execution_count": 4,
   "metadata": {},
   "outputs": [
    {
     "name": "stderr",
     "output_type": "stream",
     "text": [
      "b'Skipping line 9076: expected 15 fields, saw 22\\nSkipping line 19256: expected 15 fields, saw 22\\nSkipping line 24313: expected 15 fields, saw 22\\nSkipping line 47211: expected 15 fields, saw 22\\nSkipping line 54295: expected 15 fields, saw 22\\nSkipping line 56641: expected 15 fields, saw 22\\nSkipping line 63067: expected 15 fields, saw 22\\n'\n",
      "b'Skipping line 93796: expected 15 fields, saw 22\\n'\n",
      "b'Skipping line 132806: expected 15 fields, saw 22\\nSkipping line 164631: expected 15 fields, saw 22\\nSkipping line 167019: expected 15 fields, saw 22\\nSkipping line 167212: expected 15 fields, saw 22\\n'\n",
      "b'Skipping line 198103: expected 15 fields, saw 22\\nSkipping line 199191: expected 15 fields, saw 22\\nSkipping line 202841: expected 15 fields, saw 22\\nSkipping line 218228: expected 15 fields, saw 22\\nSkipping line 235900: expected 15 fields, saw 22\\n'\n",
      "b'Skipping line 277761: expected 15 fields, saw 22\\nSkipping line 304582: expected 15 fields, saw 22\\nSkipping line 312029: expected 15 fields, saw 22\\n'\n",
      "b'Skipping line 343692: expected 15 fields, saw 22\\nSkipping line 352291: expected 15 fields, saw 22\\nSkipping line 363414: expected 15 fields, saw 22\\nSkipping line 378087: expected 15 fields, saw 22\\nSkipping line 378720: expected 15 fields, saw 22\\nSkipping line 378760: expected 15 fields, saw 22\\nSkipping line 379336: expected 15 fields, saw 22\\n'\n",
      "b'Skipping line 402682: expected 15 fields, saw 22\\n'\n",
      "b'Skipping line 466560: expected 15 fields, saw 22\\nSkipping line 486823: expected 15 fields, saw 22\\nSkipping line 489036: expected 15 fields, saw 22\\nSkipping line 496148: expected 15 fields, saw 22\\nSkipping line 522330: expected 15 fields, saw 22\\n'\n",
      "b'Skipping line 552961: expected 15 fields, saw 22\\nSkipping line 577388: expected 15 fields, saw 22\\nSkipping line 582182: expected 15 fields, saw 22\\n'\n",
      "b'Skipping line 590653: expected 15 fields, saw 22\\nSkipping line 608846: expected 15 fields, saw 22\\nSkipping line 615442: expected 15 fields, saw 22\\nSkipping line 645607: expected 15 fields, saw 22\\nSkipping line 654323: expected 15 fields, saw 22\\n'\n",
      "b'Skipping line 714935: expected 15 fields, saw 22\\n'\n",
      "b'Skipping line 749608: expected 15 fields, saw 22\\nSkipping line 753868: expected 15 fields, saw 22\\nSkipping line 762504: expected 15 fields, saw 22\\nSkipping line 771706: expected 15 fields, saw 22\\nSkipping line 773376: expected 15 fields, saw 22\\n'\n",
      "b'Skipping line 792407: expected 15 fields, saw 22\\nSkipping line 793933: expected 15 fields, saw 22\\nSkipping line 813269: expected 15 fields, saw 22\\nSkipping line 835491: expected 15 fields, saw 22\\nSkipping line 841176: expected 15 fields, saw 22\\nSkipping line 844604: expected 15 fields, saw 22\\n'\n",
      "b'Skipping line 857952: expected 15 fields, saw 22\\nSkipping line 859568: expected 15 fields, saw 22\\nSkipping line 860789: expected 15 fields, saw 22\\nSkipping line 863093: expected 15 fields, saw 22\\nSkipping line 881608: expected 15 fields, saw 22\\nSkipping line 891157: expected 15 fields, saw 22\\nSkipping line 893799: expected 15 fields, saw 22\\nSkipping line 906438: expected 15 fields, saw 22\\nSkipping line 914856: expected 15 fields, saw 22\\n'\n",
      "b'Skipping line 940736: expected 15 fields, saw 22\\nSkipping line 965818: expected 15 fields, saw 22\\n'\n",
      "b'Skipping line 993840: expected 15 fields, saw 22\\nSkipping line 1019036: expected 15 fields, saw 22\\nSkipping line 1019205: expected 15 fields, saw 22\\n'\n",
      "b'Skipping line 1058122: expected 15 fields, saw 22\\n'\n",
      "b'Skipping line 1144887: expected 15 fields, saw 22\\nSkipping line 1147255: expected 15 fields, saw 22\\nSkipping line 1164497: expected 15 fields, saw 22\\nSkipping line 1166930: expected 15 fields, saw 22\\n'\n",
      "b'Skipping line 1218319: expected 15 fields, saw 22\\nSkipping line 1232868: expected 15 fields, saw 22\\n'\n",
      "b'Skipping line 1307335: expected 15 fields, saw 22\\n'\n",
      "b'Skipping line 1621422: expected 15 fields, saw 22\\n'\n",
      "b'Skipping line 1857720: expected 15 fields, saw 22\\n'\n",
      "b'Skipping line 1935753: expected 15 fields, saw 22\\n'\n",
      "b'Skipping line 1988449: expected 15 fields, saw 22\\n'\n"
     ]
    }
   ],
   "source": [
    "#df1 = pd.read_csv('amazon_reviews_us_Mobile_Electronics_v1_00.tsv',sep=\"\\t\", error_bad_lines=False)\n",
    "# bad lines exist......\n",
    "#data_source = 'amazon_reviews_us_Mobile_Electronics_v1_00.tsv'\n",
    "#data_source='amazon_reviews_us_PC_v1_00.tsv.gz'\n",
    "#data_source='amazon_reviews_us_Musical_Instruments_v1_00.tsv.gz'\n",
    "data_source = 'amazon_reviews_us_Electronics_v1_00.tsv.gz'\n",
    "#data_source = 'amazon_reviews_us_Major_Appliances_v1_00.tsv.gz'\n",
    "df1 = pd.read_csv(data_source,sep=\"\\t\", error_bad_lines=False)"
   ]
  },
  {
   "cell_type": "markdown",
   "metadata": {},
   "source": [
    "### DATA COLUMNS:\n",
    "marketplace       - 2 letter country code of the marketplace where the review was written.  \n",
    "customer_id       - Random identifier that can be used to aggregate reviews written by a single author.  \n",
    "review_id         - The unique ID of the review.  \n",
    "product_id        - The unique Product ID the review pertains to. In the multilingual dataset the reviews\n",
    "                    for the same product in different countries can be grouped by the same product_id.  \n",
    "product_parent    - Random identifier that can be used to aggregate reviews for the same product.  \n",
    "product_title     - Title of the product.  \n",
    "product_category  - Broad product category that can be used to group reviews  \n",
    "                    (also used to group the dataset into coherent parts).  \n",
    "star_rating       - The 1-5 star rating of the review.  \n",
    "helpful_votes     - Number of helpful votes.  \n",
    "total_votes       - Number of total votes the review received.  \n",
    "vine              - Review was written as part of the Vine program.  \n",
    "verified_purchase - The review is on a verified purchase.  \n",
    "review_headline   - The title of the review.  \n",
    "review_body       - The review text.  \n",
    "review_date       - The date the review was written.  "
   ]
  },
  {
   "cell_type": "markdown",
   "metadata": {},
   "source": [
    "Filter out the ones not versified and get a subset of the data"
   ]
  },
  {
   "cell_type": "code",
   "execution_count": 5,
   "metadata": {},
   "outputs": [],
   "source": [
    "df1 = df1.loc[df1['verified_purchase']=='Y',['product_title', 'helpful_votes','review_headline', 'review_body']]"
   ]
  },
  {
   "cell_type": "code",
   "execution_count": 6,
   "metadata": {},
   "outputs": [],
   "source": [
    "df2 = df1.loc[:,['review_headline', 'review_body']]"
   ]
  },
  {
   "cell_type": "code",
   "execution_count": 7,
   "metadata": {},
   "outputs": [],
   "source": [
    "def clean_html(text):\n",
    "    cleanr = re.compile('<.*?>')\n",
    "    cleantext = re.sub(cleanr, '', text)\n",
    "    return cleantext"
   ]
  },
  {
   "cell_type": "code",
   "execution_count": 8,
   "metadata": {},
   "outputs": [],
   "source": [
    "df2['summary'] = df2.review_headline\n",
    "df2['text'] = df2.review_body\n",
    "df2 = df2.loc[:,['text','summary']].reset_index(drop='True')"
   ]
  },
  {
   "cell_type": "code",
   "execution_count": 9,
   "metadata": {},
   "outputs": [],
   "source": [
    "df2 = pd.DataFrame(df2)"
   ]
  },
  {
   "cell_type": "code",
   "execution_count": 10,
   "metadata": {},
   "outputs": [
    {
     "data": {
      "text/html": [
       "<div>\n",
       "<style scoped>\n",
       "    .dataframe tbody tr th:only-of-type {\n",
       "        vertical-align: middle;\n",
       "    }\n",
       "\n",
       "    .dataframe tbody tr th {\n",
       "        vertical-align: top;\n",
       "    }\n",
       "\n",
       "    .dataframe thead th {\n",
       "        text-align: right;\n",
       "    }\n",
       "</style>\n",
       "<table border=\"1\" class=\"dataframe\">\n",
       "  <thead>\n",
       "    <tr style=\"text-align: right;\">\n",
       "      <th></th>\n",
       "      <th>text</th>\n",
       "      <th>summary</th>\n",
       "    </tr>\n",
       "  </thead>\n",
       "  <tbody>\n",
       "    <tr>\n",
       "      <th>0</th>\n",
       "      <td>As described.</td>\n",
       "      <td>Five Stars</td>\n",
       "    </tr>\n",
       "    <tr>\n",
       "      <th>1</th>\n",
       "      <td>It works as advertising.</td>\n",
       "      <td>It works as advertising.</td>\n",
       "    </tr>\n",
       "    <tr>\n",
       "      <th>2</th>\n",
       "      <td>Works pissa</td>\n",
       "      <td>Five Stars</td>\n",
       "    </tr>\n",
       "    <tr>\n",
       "      <th>3</th>\n",
       "      <td>Did not work at all.</td>\n",
       "      <td>One Star</td>\n",
       "    </tr>\n",
       "    <tr>\n",
       "      <th>4</th>\n",
       "      <td>Works well. Bass is somewhat lacking but is pr...</td>\n",
       "      <td>Overall pleased with the item</td>\n",
       "    </tr>\n",
       "  </tbody>\n",
       "</table>\n",
       "</div>"
      ],
      "text/plain": [
       "                                                text  \\\n",
       "0                                      As described.   \n",
       "1                           It works as advertising.   \n",
       "2                                        Works pissa   \n",
       "3                               Did not work at all.   \n",
       "4  Works well. Bass is somewhat lacking but is pr...   \n",
       "\n",
       "                         summary  \n",
       "0                     Five Stars  \n",
       "1       It works as advertising.  \n",
       "2                     Five Stars  \n",
       "3                       One Star  \n",
       "4  Overall pleased with the item  "
      ]
     },
     "execution_count": 10,
     "metadata": {},
     "output_type": "execute_result"
    }
   ],
   "source": [
    "df2[:5]"
   ]
  },
  {
   "cell_type": "code",
   "execution_count": 11,
   "metadata": {},
   "outputs": [],
   "source": [
    "df2['c_text'] = df2['text'].apply(lambda x: clean_html(str(x)))"
   ]
  },
  {
   "cell_type": "code",
   "execution_count": 12,
   "metadata": {},
   "outputs": [],
   "source": [
    "df2['c_summary'] = df2['summary'].apply(lambda x: clean_html(str(x)))"
   ]
  },
  {
   "cell_type": "code",
   "execution_count": 13,
   "metadata": {},
   "outputs": [],
   "source": [
    "df2 = df2.loc[:,['c_text','c_summary']]"
   ]
  },
  {
   "cell_type": "code",
   "execution_count": 14,
   "metadata": {},
   "outputs": [],
   "source": [
    "df2['text'] = df2['c_text']\n",
    "df2['summary'] = df2['c_summary']\n",
    "df2 = df2.loc[:,['text','summary']]"
   ]
  },
  {
   "cell_type": "code",
   "execution_count": 15,
   "metadata": {
    "scrolled": true
   },
   "outputs": [
    {
     "data": {
      "text/html": [
       "<div>\n",
       "<style scoped>\n",
       "    .dataframe tbody tr th:only-of-type {\n",
       "        vertical-align: middle;\n",
       "    }\n",
       "\n",
       "    .dataframe tbody tr th {\n",
       "        vertical-align: top;\n",
       "    }\n",
       "\n",
       "    .dataframe thead th {\n",
       "        text-align: right;\n",
       "    }\n",
       "</style>\n",
       "<table border=\"1\" class=\"dataframe\">\n",
       "  <thead>\n",
       "    <tr style=\"text-align: right;\">\n",
       "      <th></th>\n",
       "      <th>text</th>\n",
       "      <th>summary</th>\n",
       "      <th>len_text</th>\n",
       "      <th>len_summary</th>\n",
       "    </tr>\n",
       "  </thead>\n",
       "  <tbody>\n",
       "    <tr>\n",
       "      <th>0</th>\n",
       "      <td>As described.</td>\n",
       "      <td>Five Stars</td>\n",
       "      <td>2</td>\n",
       "      <td>2</td>\n",
       "    </tr>\n",
       "    <tr>\n",
       "      <th>1</th>\n",
       "      <td>It works as advertising.</td>\n",
       "      <td>It works as advertising.</td>\n",
       "      <td>4</td>\n",
       "      <td>4</td>\n",
       "    </tr>\n",
       "    <tr>\n",
       "      <th>2</th>\n",
       "      <td>Works pissa</td>\n",
       "      <td>Five Stars</td>\n",
       "      <td>2</td>\n",
       "      <td>2</td>\n",
       "    </tr>\n",
       "    <tr>\n",
       "      <th>3</th>\n",
       "      <td>Did not work at all.</td>\n",
       "      <td>One Star</td>\n",
       "      <td>5</td>\n",
       "      <td>2</td>\n",
       "    </tr>\n",
       "    <tr>\n",
       "      <th>4</th>\n",
       "      <td>Works well. Bass is somewhat lacking but is pr...</td>\n",
       "      <td>Overall pleased with the item</td>\n",
       "      <td>14</td>\n",
       "      <td>5</td>\n",
       "    </tr>\n",
       "    <tr>\n",
       "      <th>5</th>\n",
       "      <td>The quality on these speakers is insanely good...</td>\n",
       "      <td>Five Stars</td>\n",
       "      <td>19</td>\n",
       "      <td>2</td>\n",
       "    </tr>\n",
       "    <tr>\n",
       "      <th>6</th>\n",
       "      <td>Wish I could give this product more than five ...</td>\n",
       "      <td>Lifesaver</td>\n",
       "      <td>11</td>\n",
       "      <td>1</td>\n",
       "    </tr>\n",
       "    <tr>\n",
       "      <th>7</th>\n",
       "      <td>works great</td>\n",
       "      <td>Five Stars</td>\n",
       "      <td>2</td>\n",
       "      <td>2</td>\n",
       "    </tr>\n",
       "    <tr>\n",
       "      <th>8</th>\n",
       "      <td>Great sound and compact. Battery life seems go...</td>\n",
       "      <td>Four Stars</td>\n",
       "      <td>12</td>\n",
       "      <td>2</td>\n",
       "    </tr>\n",
       "    <tr>\n",
       "      <th>9</th>\n",
       "      <td>It works well~~~</td>\n",
       "      <td>Four Stars</td>\n",
       "      <td>3</td>\n",
       "      <td>2</td>\n",
       "    </tr>\n",
       "  </tbody>\n",
       "</table>\n",
       "</div>"
      ],
      "text/plain": [
       "                                                text  \\\n",
       "0                                      As described.   \n",
       "1                           It works as advertising.   \n",
       "2                                        Works pissa   \n",
       "3                               Did not work at all.   \n",
       "4  Works well. Bass is somewhat lacking but is pr...   \n",
       "5  The quality on these speakers is insanely good...   \n",
       "6  Wish I could give this product more than five ...   \n",
       "7                                        works great   \n",
       "8  Great sound and compact. Battery life seems go...   \n",
       "9                                   It works well~~~   \n",
       "\n",
       "                         summary  len_text  len_summary  \n",
       "0                     Five Stars         2            2  \n",
       "1       It works as advertising.         4            4  \n",
       "2                     Five Stars         2            2  \n",
       "3                       One Star         5            2  \n",
       "4  Overall pleased with the item        14            5  \n",
       "5                     Five Stars        19            2  \n",
       "6                      Lifesaver        11            1  \n",
       "7                     Five Stars         2            2  \n",
       "8                     Four Stars        12            2  \n",
       "9                     Four Stars         3            2  "
      ]
     },
     "execution_count": 15,
     "metadata": {},
     "output_type": "execute_result"
    }
   ],
   "source": [
    "df2['len_text'] = df2['text'].apply(lambda x: len(x.split()))\n",
    "df2['len_summary'] = df2['summary'].apply(lambda x: len(x.split()))\n",
    "df2[:10]"
   ]
  },
  {
   "cell_type": "code",
   "execution_count": null,
   "metadata": {},
   "outputs": [],
   "source": [
    "#df2.to_csv('output/sub-set/origin_PC.csv',index=False)\n",
    "#df2.to_csv('output/sub-set/origin_elec.csv',index=False)"
   ]
  },
  {
   "cell_type": "code",
   "execution_count": 16,
   "metadata": {},
   "outputs": [
    {
     "data": {
      "text/plain": [
       "count    2597626.000000\n",
       "mean          56.189222\n",
       "std           87.952698\n",
       "min            1.000000\n",
       "25%           17.000000\n",
       "50%           31.000000\n",
       "75%           65.000000\n",
       "max         8106.000000\n",
       "Name: len_text, dtype: object"
      ]
     },
     "execution_count": 16,
     "metadata": {},
     "output_type": "execute_result"
    }
   ],
   "source": [
    "df2.len_text.describe(include=\"all\").apply(lambda x: format(x, 'f'))"
   ]
  },
  {
   "cell_type": "code",
   "execution_count": 17,
   "metadata": {},
   "outputs": [
    {
     "data": {
      "text/plain": [
       "count    2597626.000000\n",
       "mean           4.291171\n",
       "std            9.218908\n",
       "min            0.000000\n",
       "25%            2.000000\n",
       "50%            3.000000\n",
       "75%            5.000000\n",
       "max         9261.000000\n",
       "Name: len_summary, dtype: object"
      ]
     },
     "execution_count": 17,
     "metadata": {},
     "output_type": "execute_result"
    }
   ],
   "source": [
    "df2.len_summary.describe(include=\"all\").apply(lambda x: format(x, 'f'))"
   ]
  },
  {
   "cell_type": "code",
   "execution_count": 18,
   "metadata": {},
   "outputs": [],
   "source": [
    "df3 = df2[df2.len_summary>=10].reset_index(drop=True)"
   ]
  },
  {
   "cell_type": "code",
   "execution_count": 19,
   "metadata": {},
   "outputs": [],
   "source": [
    "df3 = df3[df3.len_text>=50].reset_index(drop=True)"
   ]
  },
  {
   "cell_type": "code",
   "execution_count": 20,
   "metadata": {},
   "outputs": [],
   "source": [
    "df3 = df3[df3.len_text<=300].reset_index(drop=True)"
   ]
  },
  {
   "cell_type": "code",
   "execution_count": 21,
   "metadata": {},
   "outputs": [
    {
     "data": {
      "text/plain": [
       "count    92567.000000\n",
       "mean        12.996770\n",
       "std         26.573464\n",
       "min         10.000000\n",
       "25%         10.000000\n",
       "50%         12.000000\n",
       "75%         14.000000\n",
       "max       7299.000000\n",
       "Name: len_summary, dtype: object"
      ]
     },
     "execution_count": 21,
     "metadata": {},
     "output_type": "execute_result"
    }
   ],
   "source": [
    "df3.len_summary.describe(include=\"all\").apply(lambda x: format(x, 'f'))"
   ]
  },
  {
   "cell_type": "code",
   "execution_count": 22,
   "metadata": {},
   "outputs": [
    {
     "data": {
      "text/plain": [
       "count    92567.000000\n",
       "mean       108.805363\n",
       "std         57.387654\n",
       "min         50.000000\n",
       "25%         65.000000\n",
       "50%         89.000000\n",
       "75%        136.000000\n",
       "max        300.000000\n",
       "Name: len_text, dtype: object"
      ]
     },
     "execution_count": 22,
     "metadata": {},
     "output_type": "execute_result"
    }
   ],
   "source": [
    "df3.len_text.describe(include=\"all\").apply(lambda x: format(x, 'f'))"
   ]
  },
  {
   "cell_type": "code",
   "execution_count": 23,
   "metadata": {},
   "outputs": [],
   "source": [
    "df3.to_csv('output/sub-set/word_lim_50_300_elec2.csv',index=False)"
   ]
  },
  {
   "cell_type": "markdown",
   "metadata": {},
   "source": [
    "Reload and start from here"
   ]
  },
  {
   "cell_type": "code",
   "execution_count": 24,
   "metadata": {},
   "outputs": [],
   "source": [
    "df = pd.read_csv('output/sub-set/word_lim_50_300_elec2.csv')"
   ]
  },
  {
   "cell_type": "code",
   "execution_count": 25,
   "metadata": {},
   "outputs": [
    {
     "data": {
      "text/plain": [
       "count    92567.000000\n",
       "mean       108.805363\n",
       "std         57.387654\n",
       "min         50.000000\n",
       "25%         65.000000\n",
       "50%         89.000000\n",
       "75%        136.000000\n",
       "max        300.000000\n",
       "Name: len_text, dtype: object"
      ]
     },
     "execution_count": 25,
     "metadata": {},
     "output_type": "execute_result"
    }
   ],
   "source": [
    "df.len_text.describe(include=\"all\").apply(lambda x: format(x, 'f'))                                                          "
   ]
  },
  {
   "cell_type": "code",
   "execution_count": null,
   "metadata": {},
   "outputs": [],
   "source": [
    "df.len_summary.describe(include=\"all\").apply(lambda x: format(x, 'f'))"
   ]
  },
  {
   "cell_type": "code",
   "execution_count": 26,
   "metadata": {},
   "outputs": [],
   "source": [
    "from bs4 import BeautifulSoup\n",
    "from html import unescape\n",
    "\n",
    "def clean_text(text):\n",
    "    text = re.sub(r'(https|http)?:\\/\\/(\\w|\\.|\\/|\\?|\\=|\\&|\\%)*\\b', '', text, flags=re.MULTILINE) ## remove URL\n",
    "    text = BeautifulSoup(unescape(text), 'lxml').text ## remove strange characters like &amp; \n",
    "    text = re.sub(r'[_\"\\-%()|+&=*%#@\\[\\]/\\r\\n\\t]', '', text) ## remove other unwanted characters\n",
    "    one = re.sub(r\"([eoEO])\\1\\1+\",r\"\\1\\1\",text) ## if more than 2 consecutive e or o, remove them\n",
    "    text = re.sub(r\"([^eoEO])\\1\\1+\",r\"\\1\",one) ## if more than 2 consecutive other characters, remove them\n",
    "    text = re.sub(' +', ' ',text) ## remove redundant spaces\n",
    "    return text"
   ]
  },
  {
   "cell_type": "code",
   "execution_count": 27,
   "metadata": {},
   "outputs": [],
   "source": [
    "df['text'] = df['text'].apply(lambda x: clean_text(x))"
   ]
  },
  {
   "cell_type": "code",
   "execution_count": 28,
   "metadata": {},
   "outputs": [],
   "source": [
    "df['summary'] = df['summary'].apply(lambda x: clean_text(x))"
   ]
  },
  {
   "cell_type": "code",
   "execution_count": 29,
   "metadata": {},
   "outputs": [],
   "source": [
    "df['len_text'] = df['text'].apply(lambda x: len(x.split()))\n",
    "df['len_summary'] = df['summary'].apply(lambda x: len(x.split()))"
   ]
  },
  {
   "cell_type": "code",
   "execution_count": 30,
   "metadata": {},
   "outputs": [
    {
     "data": {
      "text/plain": [
       "count    92567.000000\n",
       "mean       108.471766\n",
       "std         57.183953\n",
       "min          3.000000\n",
       "25%         65.000000\n",
       "50%         89.000000\n",
       "75%        135.000000\n",
       "max        300.000000\n",
       "Name: len_text, dtype: object"
      ]
     },
     "execution_count": 30,
     "metadata": {},
     "output_type": "execute_result"
    }
   ],
   "source": [
    "df.len_text.describe(include=\"all\").apply(lambda x: format(x, 'f'))   "
   ]
  },
  {
   "cell_type": "code",
   "execution_count": 31,
   "metadata": {},
   "outputs": [
    {
     "data": {
      "text/plain": [
       "count    92567.000000\n",
       "mean        12.862813\n",
       "std         20.033188\n",
       "min          0.000000\n",
       "25%         10.000000\n",
       "50%         12.000000\n",
       "75%         14.000000\n",
       "max       5417.000000\n",
       "Name: len_summary, dtype: object"
      ]
     },
     "execution_count": 31,
     "metadata": {},
     "output_type": "execute_result"
    }
   ],
   "source": [
    "df.len_summary.describe(include=\"all\").apply(lambda x: format(x, 'f'))   "
   ]
  },
  {
   "cell_type": "code",
   "execution_count": 32,
   "metadata": {},
   "outputs": [],
   "source": [
    "df = df.loc[df.len_summary>=10]\n",
    "df = df.loc[df.len_text>=50]\n",
    "df = df.loc[df.len_summary<=20]\n",
    "df = df.loc[df.len_text<=200]"
   ]
  },
  {
   "cell_type": "code",
   "execution_count": 33,
   "metadata": {
    "scrolled": true
   },
   "outputs": [
    {
     "data": {
      "text/html": [
       "<div>\n",
       "<style scoped>\n",
       "    .dataframe tbody tr th:only-of-type {\n",
       "        vertical-align: middle;\n",
       "    }\n",
       "\n",
       "    .dataframe tbody tr th {\n",
       "        vertical-align: top;\n",
       "    }\n",
       "\n",
       "    .dataframe thead th {\n",
       "        text-align: right;\n",
       "    }\n",
       "</style>\n",
       "<table border=\"1\" class=\"dataframe\">\n",
       "  <thead>\n",
       "    <tr style=\"text-align: right;\">\n",
       "      <th></th>\n",
       "      <th>text</th>\n",
       "      <th>summary</th>\n",
       "      <th>len_text</th>\n",
       "      <th>len_summary</th>\n",
       "    </tr>\n",
       "  </thead>\n",
       "  <tbody>\n",
       "    <tr>\n",
       "      <th>0</th>\n",
       "      <td>It does not copy CDR s to USB as advertised. M...</td>\n",
       "      <td>It does not copy CDR s to USB as advertised .</td>\n",
       "      <td>51</td>\n",
       "      <td>11</td>\n",
       "    </tr>\n",
       "    <tr>\n",
       "      <th>1</th>\n",
       "      <td>Appears to work just great. Used it to connect...</td>\n",
       "      <td>Easy installation and setup use USB on your TV...</td>\n",
       "      <td>79</td>\n",
       "      <td>14</td>\n",
       "    </tr>\n",
       "    <tr>\n",
       "      <th>2</th>\n",
       "      <td>I got these and used them a couple o times to ...</td>\n",
       "      <td>I got these and used them a couple o times .</td>\n",
       "      <td>79</td>\n",
       "      <td>11</td>\n",
       "    </tr>\n",
       "    <tr>\n",
       "      <th>3</th>\n",
       "      <td>I'm really not qualified to review headphones,...</td>\n",
       "      <td>but some members on headfi gave them really go...</td>\n",
       "      <td>58</td>\n",
       "      <td>19</td>\n",
       "    </tr>\n",
       "    <tr>\n",
       "      <th>4</th>\n",
       "      <td>These do not hold as long of a charge as the g...</td>\n",
       "      <td>These do not hold as long of a charge as .</td>\n",
       "      <td>70</td>\n",
       "      <td>11</td>\n",
       "    </tr>\n",
       "    <tr>\n",
       "      <th>5</th>\n",
       "      <td>Ordered to hookup a backup camera. This thing ...</td>\n",
       "      <td>Ordered to hookup a backup camera. This thing ...</td>\n",
       "      <td>55</td>\n",
       "      <td>10</td>\n",
       "    </tr>\n",
       "    <tr>\n",
       "      <th>6</th>\n",
       "      <td>I bought this to replace a lost neoprene case ...</td>\n",
       "      <td>I bought this to replace a lost neoprene case ...</td>\n",
       "      <td>61</td>\n",
       "      <td>11</td>\n",
       "    </tr>\n",
       "    <tr>\n",
       "      <th>7</th>\n",
       "      <td>When I bought this speaker, I had one request....</td>\n",
       "      <td>Which I recommend to anyone with a relative li...</td>\n",
       "      <td>135</td>\n",
       "      <td>10</td>\n",
       "    </tr>\n",
       "    <tr>\n",
       "      <th>8</th>\n",
       "      <td>after a lightening strike wiped out my old rec...</td>\n",
       "      <td>Loving it! But that display? 1980's are callin...</td>\n",
       "      <td>198</td>\n",
       "      <td>12</td>\n",
       "    </tr>\n",
       "    <tr>\n",
       "      <th>9</th>\n",
       "      <td>Product is just okay! Volume level is not very...</td>\n",
       "      <td>Volume level is not very good, I am used to go...</td>\n",
       "      <td>77</td>\n",
       "      <td>12</td>\n",
       "    </tr>\n",
       "    <tr>\n",
       "      <th>10</th>\n",
       "      <td>Well, I purchased this Masione® Surge Protecto...</td>\n",
       "      <td>No longer labeled as surge protection after I ...</td>\n",
       "      <td>88</td>\n",
       "      <td>10</td>\n",
       "    </tr>\n",
       "    <tr>\n",
       "      <th>11</th>\n",
       "      <td>My only knock against these is that they don't...</td>\n",
       "      <td>They take up a lot of room in a bag but they'r...</td>\n",
       "      <td>106</td>\n",
       "      <td>16</td>\n",
       "    </tr>\n",
       "    <tr>\n",
       "      <th>12</th>\n",
       "      <td>The only bad part about the head phones is if ...</td>\n",
       "      <td>The only bad part about the head phones is if ...</td>\n",
       "      <td>77</td>\n",
       "      <td>13</td>\n",
       "    </tr>\n",
       "    <tr>\n",
       "      <th>13</th>\n",
       "      <td>1. The display is too bright, even on the lowe...</td>\n",
       "      <td>Not a good choice for a bedroom clock radio re...</td>\n",
       "      <td>148</td>\n",
       "      <td>10</td>\n",
       "    </tr>\n",
       "    <tr>\n",
       "      <th>14</th>\n",
       "      <td>Does exactly what I needed it to! I have an ol...</td>\n",
       "      <td>and then out to the projector using the same H...</td>\n",
       "      <td>156</td>\n",
       "      <td>19</td>\n",
       "    </tr>\n",
       "    <tr>\n",
       "      <th>15</th>\n",
       "      <td>Works Perfect. All HDMI channels work and audi...</td>\n",
       "      <td>Works Perfect. All HDMI channels work and audi...</td>\n",
       "      <td>53</td>\n",
       "      <td>11</td>\n",
       "    </tr>\n",
       "    <tr>\n",
       "      <th>16</th>\n",
       "      <td>Overall it works great and performs almost all...</td>\n",
       "      <td>Overall it works great and performs almost all...</td>\n",
       "      <td>64</td>\n",
       "      <td>14</td>\n",
       "    </tr>\n",
       "    <tr>\n",
       "      <th>17</th>\n",
       "      <td>I'm giving this product a 4 star rating becaus...</td>\n",
       "      <td>Got a replacement unit and it works fine. Will...</td>\n",
       "      <td>72</td>\n",
       "      <td>14</td>\n",
       "    </tr>\n",
       "    <tr>\n",
       "      <th>18</th>\n",
       "      <td>I had previous universal remotes that would wo...</td>\n",
       "      <td>It worked just fine with ROKU in my home theat...</td>\n",
       "      <td>59</td>\n",
       "      <td>14</td>\n",
       "    </tr>\n",
       "    <tr>\n",
       "      <th>19</th>\n",
       "      <td>I cut the cord a while ago with cable but the ...</td>\n",
       "      <td>I can't believe it works as well as it does</td>\n",
       "      <td>154</td>\n",
       "      <td>10</td>\n",
       "    </tr>\n",
       "    <tr>\n",
       "      <th>20</th>\n",
       "      <td>Ok,from what I've seen, this converter keeps a...</td>\n",
       "      <td>Great adaptor for old style RCA to new style HDMI</td>\n",
       "      <td>87</td>\n",
       "      <td>10</td>\n",
       "    </tr>\n",
       "    <tr>\n",
       "      <th>21</th>\n",
       "      <td>I used this mount to install an older, and hea...</td>\n",
       "      <td>Sturdy, easy to install and lots of adjustabil...</td>\n",
       "      <td>104</td>\n",
       "      <td>15</td>\n",
       "    </tr>\n",
       "    <tr>\n",
       "      <th>22</th>\n",
       "      <td>I purchased this as a gift for my boyfriend an...</td>\n",
       "      <td>. my boyfriend and I must say this is a great ...</td>\n",
       "      <td>148</td>\n",
       "      <td>20</td>\n",
       "    </tr>\n",
       "    <tr>\n",
       "      <th>23</th>\n",
       "      <td>This was an inexpensive replacement for my dam...</td>\n",
       "      <td>and has worked great! I did had a quality issu...</td>\n",
       "      <td>69</td>\n",
       "      <td>13</td>\n",
       "    </tr>\n",
       "    <tr>\n",
       "      <th>24</th>\n",
       "      <td>Louder than I expected and the sound quality i...</td>\n",
       "      <td>Horrible robot voice and beeping ruins a lovel...</td>\n",
       "      <td>68</td>\n",
       "      <td>10</td>\n",
       "    </tr>\n",
       "    <tr>\n",
       "      <th>25</th>\n",
       "      <td>The amplifier made almost no difference in the...</td>\n",
       "      <td>I live 1015 miles from the tower and most chan...</td>\n",
       "      <td>52</td>\n",
       "      <td>17</td>\n",
       "    </tr>\n",
       "    <tr>\n",
       "      <th>26</th>\n",
       "      <td>It's a solid cable, well designed. My only cav...</td>\n",
       "      <td>Remote nonfunctional on Motorola Droid Turbo, ...</td>\n",
       "      <td>167</td>\n",
       "      <td>14</td>\n",
       "    </tr>\n",
       "    <tr>\n",
       "      <th>27</th>\n",
       "      <td>I'm upgrading from a Yamaha Aventage 20 receiv...</td>\n",
       "      <td>. from a Yamaha Aventage 20 receiver which sti...</td>\n",
       "      <td>146</td>\n",
       "      <td>20</td>\n",
       "    </tr>\n",
       "    <tr>\n",
       "      <th>28</th>\n",
       "      <td>Never worked right from the beginning with onl...</td>\n",
       "      <td>Never worked right from the beginning with onl...</td>\n",
       "      <td>67</td>\n",
       "      <td>11</td>\n",
       "    </tr>\n",
       "    <tr>\n",
       "      <th>29</th>\n",
       "      <td>I was replacing a previous SEIKO 80 small hand...</td>\n",
       "      <td>I was replacing a previous SEIKO 80 small hand...</td>\n",
       "      <td>109</td>\n",
       "      <td>14</td>\n",
       "    </tr>\n",
       "    <tr>\n",
       "      <th>...</th>\n",
       "      <td>...</td>\n",
       "      <td>...</td>\n",
       "      <td>...</td>\n",
       "      <td>...</td>\n",
       "    </tr>\n",
       "    <tr>\n",
       "      <th>78148</th>\n",
       "      <td>I've only had it for a week, but I LOVE my new...</td>\n",
       "      <td>Retro Look Combines with Ease of Use to make a...</td>\n",
       "      <td>105</td>\n",
       "      <td>12</td>\n",
       "    </tr>\n",
       "    <tr>\n",
       "      <th>78149</th>\n",
       "      <td>This is the way to go for a seamless upload of...</td>\n",
       "      <td>easy connection from your digital video camera...</td>\n",
       "      <td>87</td>\n",
       "      <td>10</td>\n",
       "    </tr>\n",
       "    <tr>\n",
       "      <th>78150</th>\n",
       "      <td>I just returned my iPaq2 to Amazonthe problems...</td>\n",
       "      <td>Total piece of garbage with lame docs and lame...</td>\n",
       "      <td>200</td>\n",
       "      <td>10</td>\n",
       "    </tr>\n",
       "    <tr>\n",
       "      <th>78151</th>\n",
       "      <td>My system always sounded great and used to use...</td>\n",
       "      <td>I don't hear a difference but these things are...</td>\n",
       "      <td>78</td>\n",
       "      <td>11</td>\n",
       "    </tr>\n",
       "    <tr>\n",
       "      <th>78152</th>\n",
       "      <td>The big advantage od this player is its price....</td>\n",
       "      <td>transfer PC to player slow, application tends ...</td>\n",
       "      <td>177</td>\n",
       "      <td>10</td>\n",
       "    </tr>\n",
       "    <tr>\n",
       "      <th>78153</th>\n",
       "      <td>This receiver is so small it's easy to carry w...</td>\n",
       "      <td>Small enough and good enough to have with you ...</td>\n",
       "      <td>101</td>\n",
       "      <td>10</td>\n",
       "    </tr>\n",
       "    <tr>\n",
       "      <th>78154</th>\n",
       "      <td>Fine sound excellent treble you can hear that ...</td>\n",
       "      <td>Good cheap 'phones, but a can be a bit uncomfo...</td>\n",
       "      <td>98</td>\n",
       "      <td>10</td>\n",
       "    </tr>\n",
       "    <tr>\n",
       "      <th>78155</th>\n",
       "      <td>If you expect the remote control to turn the p...</td>\n",
       "      <td>THE REMOTE does not turn ON the player by design</td>\n",
       "      <td>81</td>\n",
       "      <td>10</td>\n",
       "    </tr>\n",
       "    <tr>\n",
       "      <th>78156</th>\n",
       "      <td>The exp401 is really small. Theres no weird so...</td>\n",
       "      <td>It does not get any better than this for an MP...</td>\n",
       "      <td>149</td>\n",
       "      <td>12</td>\n",
       "    </tr>\n",
       "    <tr>\n",
       "      <th>78157</th>\n",
       "      <td>I'm glad I ended up buying this unit over the ...</td>\n",
       "      <td>Almost didn't buy it because of some of the ne...</td>\n",
       "      <td>110</td>\n",
       "      <td>11</td>\n",
       "    </tr>\n",
       "    <tr>\n",
       "      <th>78158</th>\n",
       "      <td>Uses and drains 6 size \\\\C\\\\ Batteries in 38 m...</td>\n",
       "      <td>Set Fire To 4 Twenty Dollar Bills It Is Easier!</td>\n",
       "      <td>62</td>\n",
       "      <td>10</td>\n",
       "    </tr>\n",
       "    <tr>\n",
       "      <th>78159</th>\n",
       "      <td>As far as hardware goes, it's a great player t...</td>\n",
       "      <td>If this was your firts choice, go with your se...</td>\n",
       "      <td>107</td>\n",
       "      <td>10</td>\n",
       "    </tr>\n",
       "    <tr>\n",
       "      <th>78160</th>\n",
       "      <td>The price was great per CDR, so I thought I'd ...</td>\n",
       "      <td>Not a great deal when the media has too many e...</td>\n",
       "      <td>117</td>\n",
       "      <td>13</td>\n",
       "    </tr>\n",
       "    <tr>\n",
       "      <th>78161</th>\n",
       "      <td>These sheets are great. I turned a couple hund...</td>\n",
       "      <td>Great product! But one problem and not like th...</td>\n",
       "      <td>146</td>\n",
       "      <td>10</td>\n",
       "    </tr>\n",
       "    <tr>\n",
       "      <th>78162</th>\n",
       "      <td>This seems like a great little player. Until i...</td>\n",
       "      <td>Broke once, shame on them. Broke twice, shame ...</td>\n",
       "      <td>62</td>\n",
       "      <td>10</td>\n",
       "    </tr>\n",
       "    <tr>\n",
       "      <th>78163</th>\n",
       "      <td>This is a good CD player, but when you turn on...</td>\n",
       "      <td>Good CD playerbut it doesn't play burned cds a...</td>\n",
       "      <td>94</td>\n",
       "      <td>11</td>\n",
       "    </tr>\n",
       "    <tr>\n",
       "      <th>78164</th>\n",
       "      <td>You will read reviews of this product talking ...</td>\n",
       "      <td>Some reviews are of old product, some new foam...</td>\n",
       "      <td>57</td>\n",
       "      <td>11</td>\n",
       "    </tr>\n",
       "    <tr>\n",
       "      <th>78165</th>\n",
       "      <td>Although I've rated this player as a 5star ite...</td>\n",
       "      <td>MP3 files in my car Great! MP3 files as a walk...</td>\n",
       "      <td>196</td>\n",
       "      <td>12</td>\n",
       "    </tr>\n",
       "    <tr>\n",
       "      <th>78166</th>\n",
       "      <td>If you're bummed out beKoss you couldn't buy t...</td>\n",
       "      <td>A lot for a little! An update May 17, 2005</td>\n",
       "      <td>111</td>\n",
       "      <td>10</td>\n",
       "    </tr>\n",
       "    <tr>\n",
       "      <th>78167</th>\n",
       "      <td>The picture for this one is wrong. There are R...</td>\n",
       "      <td>Actually this is LR RCA and SVideo not as pict...</td>\n",
       "      <td>104</td>\n",
       "      <td>10</td>\n",
       "    </tr>\n",
       "    <tr>\n",
       "      <th>78168</th>\n",
       "      <td>I saw a lot of good reviews for this item, the...</td>\n",
       "      <td>Good for a portable but can't push a larger sy...</td>\n",
       "      <td>59</td>\n",
       "      <td>10</td>\n",
       "    </tr>\n",
       "    <tr>\n",
       "      <th>78169</th>\n",
       "      <td>The reviews I have read made me confident in p...</td>\n",
       "      <td>Can't Rate it because I can't get it to work</td>\n",
       "      <td>103</td>\n",
       "      <td>10</td>\n",
       "    </tr>\n",
       "    <tr>\n",
       "      <th>78170</th>\n",
       "      <td>The quality of sound and thoughtfulness in mak...</td>\n",
       "      <td>Except for a few glitches, this is a great pro...</td>\n",
       "      <td>124</td>\n",
       "      <td>10</td>\n",
       "    </tr>\n",
       "    <tr>\n",
       "      <th>78171</th>\n",
       "      <td>If you're looking for an exact replica of a fi...</td>\n",
       "      <td>A great homage to a classic radio of the fifties</td>\n",
       "      <td>119</td>\n",
       "      <td>10</td>\n",
       "    </tr>\n",
       "    <tr>\n",
       "      <th>78172</th>\n",
       "      <td>I've had the 2080 for two months. It's taken a...</td>\n",
       "      <td>Great sound, but lots of work to get to it</td>\n",
       "      <td>142</td>\n",
       "      <td>10</td>\n",
       "    </tr>\n",
       "    <tr>\n",
       "      <th>78173</th>\n",
       "      <td>I was pretty skeptical before buying this, but...</td>\n",
       "      <td>BEST BAG! replace my leather briefcase, and my...</td>\n",
       "      <td>57</td>\n",
       "      <td>10</td>\n",
       "    </tr>\n",
       "    <tr>\n",
       "      <th>78174</th>\n",
       "      <td>I give the Rio 5 stars in spite of some flaws....</td>\n",
       "      <td>My special use of the Rio and MP3 for speed le...</td>\n",
       "      <td>195</td>\n",
       "      <td>11</td>\n",
       "    </tr>\n",
       "    <tr>\n",
       "      <th>78175</th>\n",
       "      <td>I have been searching for a bag that could car...</td>\n",
       "      <td>The Best Purchase I have Made In A Long Time!</td>\n",
       "      <td>177</td>\n",
       "      <td>10</td>\n",
       "    </tr>\n",
       "    <tr>\n",
       "      <th>78176</th>\n",
       "      <td>like i said, i own a sony portable, and this p...</td>\n",
       "      <td>I own a Sony portable, and this one BLEW ME AWAY.</td>\n",
       "      <td>139</td>\n",
       "      <td>11</td>\n",
       "    </tr>\n",
       "    <tr>\n",
       "      <th>78177</th>\n",
       "      <td>This unique bag carries my laptop nice and sec...</td>\n",
       "      <td>Eye catching sexy this is the best bag that I ...</td>\n",
       "      <td>79</td>\n",
       "      <td>12</td>\n",
       "    </tr>\n",
       "  </tbody>\n",
       "</table>\n",
       "<p>78178 rows × 4 columns</p>\n",
       "</div>"
      ],
      "text/plain": [
       "                                                    text  \\\n",
       "0      It does not copy CDR s to USB as advertised. M...   \n",
       "1      Appears to work just great. Used it to connect...   \n",
       "2      I got these and used them a couple o times to ...   \n",
       "3      I'm really not qualified to review headphones,...   \n",
       "4      These do not hold as long of a charge as the g...   \n",
       "5      Ordered to hookup a backup camera. This thing ...   \n",
       "6      I bought this to replace a lost neoprene case ...   \n",
       "7      When I bought this speaker, I had one request....   \n",
       "8      after a lightening strike wiped out my old rec...   \n",
       "9      Product is just okay! Volume level is not very...   \n",
       "10     Well, I purchased this Masione® Surge Protecto...   \n",
       "11     My only knock against these is that they don't...   \n",
       "12     The only bad part about the head phones is if ...   \n",
       "13     1. The display is too bright, even on the lowe...   \n",
       "14     Does exactly what I needed it to! I have an ol...   \n",
       "15     Works Perfect. All HDMI channels work and audi...   \n",
       "16     Overall it works great and performs almost all...   \n",
       "17     I'm giving this product a 4 star rating becaus...   \n",
       "18     I had previous universal remotes that would wo...   \n",
       "19     I cut the cord a while ago with cable but the ...   \n",
       "20     Ok,from what I've seen, this converter keeps a...   \n",
       "21     I used this mount to install an older, and hea...   \n",
       "22     I purchased this as a gift for my boyfriend an...   \n",
       "23     This was an inexpensive replacement for my dam...   \n",
       "24     Louder than I expected and the sound quality i...   \n",
       "25     The amplifier made almost no difference in the...   \n",
       "26     It's a solid cable, well designed. My only cav...   \n",
       "27     I'm upgrading from a Yamaha Aventage 20 receiv...   \n",
       "28     Never worked right from the beginning with onl...   \n",
       "29     I was replacing a previous SEIKO 80 small hand...   \n",
       "...                                                  ...   \n",
       "78148  I've only had it for a week, but I LOVE my new...   \n",
       "78149  This is the way to go for a seamless upload of...   \n",
       "78150  I just returned my iPaq2 to Amazonthe problems...   \n",
       "78151  My system always sounded great and used to use...   \n",
       "78152  The big advantage od this player is its price....   \n",
       "78153  This receiver is so small it's easy to carry w...   \n",
       "78154  Fine sound excellent treble you can hear that ...   \n",
       "78155  If you expect the remote control to turn the p...   \n",
       "78156  The exp401 is really small. Theres no weird so...   \n",
       "78157  I'm glad I ended up buying this unit over the ...   \n",
       "78158  Uses and drains 6 size \\\\C\\\\ Batteries in 38 m...   \n",
       "78159  As far as hardware goes, it's a great player t...   \n",
       "78160  The price was great per CDR, so I thought I'd ...   \n",
       "78161  These sheets are great. I turned a couple hund...   \n",
       "78162  This seems like a great little player. Until i...   \n",
       "78163  This is a good CD player, but when you turn on...   \n",
       "78164  You will read reviews of this product talking ...   \n",
       "78165  Although I've rated this player as a 5star ite...   \n",
       "78166  If you're bummed out beKoss you couldn't buy t...   \n",
       "78167  The picture for this one is wrong. There are R...   \n",
       "78168  I saw a lot of good reviews for this item, the...   \n",
       "78169  The reviews I have read made me confident in p...   \n",
       "78170  The quality of sound and thoughtfulness in mak...   \n",
       "78171  If you're looking for an exact replica of a fi...   \n",
       "78172  I've had the 2080 for two months. It's taken a...   \n",
       "78173  I was pretty skeptical before buying this, but...   \n",
       "78174  I give the Rio 5 stars in spite of some flaws....   \n",
       "78175  I have been searching for a bag that could car...   \n",
       "78176  like i said, i own a sony portable, and this p...   \n",
       "78177  This unique bag carries my laptop nice and sec...   \n",
       "\n",
       "                                                 summary  len_text  \\\n",
       "0          It does not copy CDR s to USB as advertised .        51   \n",
       "1      Easy installation and setup use USB on your TV...        79   \n",
       "2           I got these and used them a couple o times .        79   \n",
       "3      but some members on headfi gave them really go...        58   \n",
       "4             These do not hold as long of a charge as .        70   \n",
       "5      Ordered to hookup a backup camera. This thing ...        55   \n",
       "6      I bought this to replace a lost neoprene case ...        61   \n",
       "7      Which I recommend to anyone with a relative li...       135   \n",
       "8      Loving it! But that display? 1980's are callin...       198   \n",
       "9      Volume level is not very good, I am used to go...        77   \n",
       "10     No longer labeled as surge protection after I ...        88   \n",
       "11     They take up a lot of room in a bag but they'r...       106   \n",
       "12     The only bad part about the head phones is if ...        77   \n",
       "13     Not a good choice for a bedroom clock radio re...       148   \n",
       "14     and then out to the projector using the same H...       156   \n",
       "15     Works Perfect. All HDMI channels work and audi...        53   \n",
       "16     Overall it works great and performs almost all...        64   \n",
       "17     Got a replacement unit and it works fine. Will...        72   \n",
       "18     It worked just fine with ROKU in my home theat...        59   \n",
       "19           I can't believe it works as well as it does       154   \n",
       "20     Great adaptor for old style RCA to new style HDMI        87   \n",
       "21     Sturdy, easy to install and lots of adjustabil...       104   \n",
       "22     . my boyfriend and I must say this is a great ...       148   \n",
       "23     and has worked great! I did had a quality issu...        69   \n",
       "24     Horrible robot voice and beeping ruins a lovel...        68   \n",
       "25     I live 1015 miles from the tower and most chan...        52   \n",
       "26     Remote nonfunctional on Motorola Droid Turbo, ...       167   \n",
       "27     . from a Yamaha Aventage 20 receiver which sti...       146   \n",
       "28     Never worked right from the beginning with onl...        67   \n",
       "29     I was replacing a previous SEIKO 80 small hand...       109   \n",
       "...                                                  ...       ...   \n",
       "78148  Retro Look Combines with Ease of Use to make a...       105   \n",
       "78149  easy connection from your digital video camera...        87   \n",
       "78150  Total piece of garbage with lame docs and lame...       200   \n",
       "78151  I don't hear a difference but these things are...        78   \n",
       "78152  transfer PC to player slow, application tends ...       177   \n",
       "78153  Small enough and good enough to have with you ...       101   \n",
       "78154  Good cheap 'phones, but a can be a bit uncomfo...        98   \n",
       "78155   THE REMOTE does not turn ON the player by design        81   \n",
       "78156  It does not get any better than this for an MP...       149   \n",
       "78157  Almost didn't buy it because of some of the ne...       110   \n",
       "78158    Set Fire To 4 Twenty Dollar Bills It Is Easier!        62   \n",
       "78159  If this was your firts choice, go with your se...       107   \n",
       "78160  Not a great deal when the media has too many e...       117   \n",
       "78161  Great product! But one problem and not like th...       146   \n",
       "78162  Broke once, shame on them. Broke twice, shame ...        62   \n",
       "78163  Good CD playerbut it doesn't play burned cds a...        94   \n",
       "78164  Some reviews are of old product, some new foam...        57   \n",
       "78165  MP3 files in my car Great! MP3 files as a walk...       196   \n",
       "78166         A lot for a little! An update May 17, 2005       111   \n",
       "78167  Actually this is LR RCA and SVideo not as pict...       104   \n",
       "78168  Good for a portable but can't push a larger sy...        59   \n",
       "78169       Can't Rate it because I can't get it to work       103   \n",
       "78170  Except for a few glitches, this is a great pro...       124   \n",
       "78171   A great homage to a classic radio of the fifties       119   \n",
       "78172         Great sound, but lots of work to get to it       142   \n",
       "78173  BEST BAG! replace my leather briefcase, and my...        57   \n",
       "78174  My special use of the Rio and MP3 for speed le...       195   \n",
       "78175      The Best Purchase I have Made In A Long Time!       177   \n",
       "78176  I own a Sony portable, and this one BLEW ME AWAY.       139   \n",
       "78177  Eye catching sexy this is the best bag that I ...        79   \n",
       "\n",
       "       len_summary  \n",
       "0               11  \n",
       "1               14  \n",
       "2               11  \n",
       "3               19  \n",
       "4               11  \n",
       "5               10  \n",
       "6               11  \n",
       "7               10  \n",
       "8               12  \n",
       "9               12  \n",
       "10              10  \n",
       "11              16  \n",
       "12              13  \n",
       "13              10  \n",
       "14              19  \n",
       "15              11  \n",
       "16              14  \n",
       "17              14  \n",
       "18              14  \n",
       "19              10  \n",
       "20              10  \n",
       "21              15  \n",
       "22              20  \n",
       "23              13  \n",
       "24              10  \n",
       "25              17  \n",
       "26              14  \n",
       "27              20  \n",
       "28              11  \n",
       "29              14  \n",
       "...            ...  \n",
       "78148           12  \n",
       "78149           10  \n",
       "78150           10  \n",
       "78151           11  \n",
       "78152           10  \n",
       "78153           10  \n",
       "78154           10  \n",
       "78155           10  \n",
       "78156           12  \n",
       "78157           11  \n",
       "78158           10  \n",
       "78159           10  \n",
       "78160           13  \n",
       "78161           10  \n",
       "78162           10  \n",
       "78163           11  \n",
       "78164           11  \n",
       "78165           12  \n",
       "78166           10  \n",
       "78167           10  \n",
       "78168           10  \n",
       "78169           10  \n",
       "78170           10  \n",
       "78171           10  \n",
       "78172           10  \n",
       "78173           10  \n",
       "78174           11  \n",
       "78175           10  \n",
       "78176           11  \n",
       "78177           12  \n",
       "\n",
       "[78178 rows x 4 columns]"
      ]
     },
     "execution_count": 33,
     "metadata": {},
     "output_type": "execute_result"
    }
   ],
   "source": [
    "df = df.reset_index(drop=True)\n",
    "df"
   ]
  },
  {
   "cell_type": "code",
   "execution_count": 35,
   "metadata": {},
   "outputs": [],
   "source": [
    "df.to_csv('output/amazon/clean_electronic.csv',index=False)"
   ]
  },
  {
   "cell_type": "code",
   "execution_count": 36,
   "metadata": {},
   "outputs": [],
   "source": [
    "########################## re-start work\n",
    "df = pd.read_csv('output/amazon/clean_electronic.csv')"
   ]
  },
  {
   "cell_type": "code",
   "execution_count": 37,
   "metadata": {
    "scrolled": true
   },
   "outputs": [],
   "source": [
    "from better_profanity import profanity"
   ]
  },
  {
   "cell_type": "code",
   "execution_count": 38,
   "metadata": {},
   "outputs": [],
   "source": [
    "df['text'] = df['text'].apply(lambda x: profanity.censor(x))\n",
    "df['summary'] = df['summary'].apply(lambda x: profanity.censor(x))"
   ]
  },
  {
   "cell_type": "code",
   "execution_count": 39,
   "metadata": {},
   "outputs": [],
   "source": [
    "def clean_text_again(text):\n",
    "    text = re.sub(r\"([!$*.,?:])\\1\\1+\",r\"\\1\",text) ## if more than 2 consecutive characters, remove until only one left\n",
    "    text = re.sub(r\"([,.?!:])\",r\" \\1 \",text) #s = \"This must not b3 delet3d, but the number at the end yes 134411\"\n",
    "    text = re.sub(' +', ' ',text) ## remove redundant spaces\n",
    "    return text.lower()"
   ]
  },
  {
   "cell_type": "code",
   "execution_count": 40,
   "metadata": {},
   "outputs": [
    {
     "data": {
      "text/plain": [
       "'aaaaaaaa . what ? no * ! '"
      ]
     },
     "execution_count": 40,
     "metadata": {},
     "output_type": "execute_result"
    }
   ],
   "source": [
    "str1 = 'AAAAAaaa......what??? no *****!!!!'\n",
    "clean_text_again(str1)"
   ]
  },
  {
   "cell_type": "code",
   "execution_count": 41,
   "metadata": {},
   "outputs": [],
   "source": [
    "df['text'] = df['text'].apply(lambda x: clean_text_again(x))\n",
    "df['summary'] = df['summary'].apply(lambda x: clean_text_again(x))"
   ]
  },
  {
   "cell_type": "code",
   "execution_count": 42,
   "metadata": {},
   "outputs": [],
   "source": [
    "df['len_text'] = df['text'].apply(lambda x: len(x.split()))\n",
    "df['len_summary'] = df['summary'].apply(lambda x: len(x.split()))"
   ]
  },
  {
   "cell_type": "code",
   "execution_count": 43,
   "metadata": {},
   "outputs": [
    {
     "data": {
      "text/plain": [
       "count    78178.000000\n",
       "mean        13.289826\n",
       "std          2.767031\n",
       "min         10.000000\n",
       "25%         11.000000\n",
       "50%         13.000000\n",
       "75%         15.000000\n",
       "max         33.000000\n",
       "Name: len_summary, dtype: object"
      ]
     },
     "execution_count": 43,
     "metadata": {},
     "output_type": "execute_result"
    }
   ],
   "source": [
    "df.len_summary.describe(include=\"all\").apply(lambda x: format(x, 'f'))   "
   ]
  },
  {
   "cell_type": "code",
   "execution_count": 44,
   "metadata": {},
   "outputs": [
    {
     "data": {
      "text/plain": [
       "count    78178.000000\n",
       "mean       104.804613\n",
       "std         43.230639\n",
       "min         50.000000\n",
       "25%         69.000000\n",
       "50%         92.000000\n",
       "75%        131.000000\n",
       "max        261.000000\n",
       "Name: len_text, dtype: object"
      ]
     },
     "execution_count": 44,
     "metadata": {},
     "output_type": "execute_result"
    }
   ],
   "source": [
    "df.len_text.describe(include=\"all\").apply(lambda x: format(x, 'f'))   "
   ]
  },
  {
   "cell_type": "code",
   "execution_count": 45,
   "metadata": {},
   "outputs": [],
   "source": [
    "df = df.loc[df.len_summary>=10]\n",
    "df = df.loc[df.len_text>=50]\n",
    "df = df.loc[df.len_summary<=20]\n",
    "df = df.loc[df.len_text<=200]\n",
    "df = df.reset_index(drop=True)"
   ]
  },
  {
   "cell_type": "code",
   "execution_count": null,
   "metadata": {},
   "outputs": [],
   "source": [
    "s = \"This must not b3 delet3d, but the number at the end yes 134411\"\n",
    "re.sub(r\"\\d+\", \"#\", s)"
   ]
  },
  {
   "cell_type": "code",
   "execution_count": 46,
   "metadata": {},
   "outputs": [],
   "source": [
    "### replace all numbers to #\n",
    "df['text'] = df['text'].apply(lambda x: re.sub(r\"\\d+\", \"#\", x))\n",
    "df['summary'] = df['summary'].apply(lambda x: re.sub(r\"\\d+\", \"#\", x))"
   ]
  },
  {
   "cell_type": "code",
   "execution_count": 47,
   "metadata": {},
   "outputs": [
    {
     "data": {
      "text/html": [
       "<div>\n",
       "<style scoped>\n",
       "    .dataframe tbody tr th:only-of-type {\n",
       "        vertical-align: middle;\n",
       "    }\n",
       "\n",
       "    .dataframe tbody tr th {\n",
       "        vertical-align: top;\n",
       "    }\n",
       "\n",
       "    .dataframe thead th {\n",
       "        text-align: right;\n",
       "    }\n",
       "</style>\n",
       "<table border=\"1\" class=\"dataframe\">\n",
       "  <thead>\n",
       "    <tr style=\"text-align: right;\">\n",
       "      <th></th>\n",
       "      <th>text</th>\n",
       "      <th>summary</th>\n",
       "      <th>len_text</th>\n",
       "      <th>len_summary</th>\n",
       "    </tr>\n",
       "  </thead>\n",
       "  <tbody>\n",
       "    <tr>\n",
       "      <th>0</th>\n",
       "      <td>it does not copy cdr s to usb as advertised . ...</td>\n",
       "      <td>it does not copy cdr s to usb as advertised .</td>\n",
       "      <td>59</td>\n",
       "      <td>11</td>\n",
       "    </tr>\n",
       "    <tr>\n",
       "      <th>1</th>\n",
       "      <td>appears to work just great . used it to connec...</td>\n",
       "      <td>easy installation and setup use usb on your tv...</td>\n",
       "      <td>83</td>\n",
       "      <td>14</td>\n",
       "    </tr>\n",
       "    <tr>\n",
       "      <th>2</th>\n",
       "      <td>i got these and used them a couple o times to ...</td>\n",
       "      <td>i got these and used them a couple o times .</td>\n",
       "      <td>89</td>\n",
       "      <td>11</td>\n",
       "    </tr>\n",
       "    <tr>\n",
       "      <th>3</th>\n",
       "      <td>i'm really not qualified to review headphones ...</td>\n",
       "      <td>but some members on headfi gave them really go...</td>\n",
       "      <td>65</td>\n",
       "      <td>19</td>\n",
       "    </tr>\n",
       "    <tr>\n",
       "      <th>4</th>\n",
       "      <td>these do not hold as long of a charge as the g...</td>\n",
       "      <td>these do not hold as long of a charge as .</td>\n",
       "      <td>77</td>\n",
       "      <td>11</td>\n",
       "    </tr>\n",
       "    <tr>\n",
       "      <th>5</th>\n",
       "      <td>ordered to hookup a backup camera . this thing...</td>\n",
       "      <td>ordered to hookup a backup camera . this thing...</td>\n",
       "      <td>59</td>\n",
       "      <td>11</td>\n",
       "    </tr>\n",
       "    <tr>\n",
       "      <th>6</th>\n",
       "      <td>i bought this to replace a lost neoprene case ...</td>\n",
       "      <td>i bought this to replace a lost neoprene case ...</td>\n",
       "      <td>67</td>\n",
       "      <td>11</td>\n",
       "    </tr>\n",
       "    <tr>\n",
       "      <th>7</th>\n",
       "      <td>when i bought this speaker , i had one request...</td>\n",
       "      <td>which i recommend to anyone with a relative li...</td>\n",
       "      <td>155</td>\n",
       "      <td>10</td>\n",
       "    </tr>\n",
       "    <tr>\n",
       "      <th>8</th>\n",
       "      <td>product is just okay ! volume level is not ver...</td>\n",
       "      <td>volume level is not very good , i am used to g...</td>\n",
       "      <td>86</td>\n",
       "      <td>13</td>\n",
       "    </tr>\n",
       "    <tr>\n",
       "      <th>9</th>\n",
       "      <td>well , i purchased this masione® surge protect...</td>\n",
       "      <td>no longer labeled as surge protection after i ...</td>\n",
       "      <td>94</td>\n",
       "      <td>11</td>\n",
       "    </tr>\n",
       "  </tbody>\n",
       "</table>\n",
       "</div>"
      ],
      "text/plain": [
       "                                                text  \\\n",
       "0  it does not copy cdr s to usb as advertised . ...   \n",
       "1  appears to work just great . used it to connec...   \n",
       "2  i got these and used them a couple o times to ...   \n",
       "3  i'm really not qualified to review headphones ...   \n",
       "4  these do not hold as long of a charge as the g...   \n",
       "5  ordered to hookup a backup camera . this thing...   \n",
       "6  i bought this to replace a lost neoprene case ...   \n",
       "7  when i bought this speaker , i had one request...   \n",
       "8  product is just okay ! volume level is not ver...   \n",
       "9  well , i purchased this masione® surge protect...   \n",
       "\n",
       "                                             summary  len_text  len_summary  \n",
       "0     it does not copy cdr s to usb as advertised .         59           11  \n",
       "1  easy installation and setup use usb on your tv...        83           14  \n",
       "2      i got these and used them a couple o times .         89           11  \n",
       "3  but some members on headfi gave them really go...        65           19  \n",
       "4        these do not hold as long of a charge as .         77           11  \n",
       "5  ordered to hookup a backup camera . this thing...        59           11  \n",
       "6  i bought this to replace a lost neoprene case ...        67           11  \n",
       "7  which i recommend to anyone with a relative li...       155           10  \n",
       "8  volume level is not very good , i am used to g...        86           13  \n",
       "9  no longer labeled as surge protection after i ...        94           11  "
      ]
     },
     "execution_count": 47,
     "metadata": {},
     "output_type": "execute_result"
    }
   ],
   "source": [
    "df[:10]"
   ]
  },
  {
   "cell_type": "code",
   "execution_count": 48,
   "metadata": {},
   "outputs": [],
   "source": [
    "df.to_csv('output/amazon/clean_electronic2.csv',index=False)"
   ]
  },
  {
   "cell_type": "code",
   "execution_count": null,
   "metadata": {},
   "outputs": [],
   "source": []
  }
 ],
 "metadata": {
  "kernelspec": {
   "display_name": "Python 3",
   "language": "python",
   "name": "python3"
  },
  "language_info": {
   "codemirror_mode": {
    "name": "ipython",
    "version": 3
   },
   "file_extension": ".py",
   "mimetype": "text/x-python",
   "name": "python",
   "nbconvert_exporter": "python",
   "pygments_lexer": "ipython3",
   "version": "3.7.3"
  }
 },
 "nbformat": 4,
 "nbformat_minor": 2
}
