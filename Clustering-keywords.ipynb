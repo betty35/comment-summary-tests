{
 "cells": [
  {
   "cell_type": "code",
   "execution_count": 1,
   "metadata": {},
   "outputs": [
    {
     "name": "stderr",
     "output_type": "stream",
     "text": [
      "WARNING: Logging before flag parsing goes to stderr.\n",
      "W0527 13:30:12.414528   900 __init__.py:56] Some hub symbols are not available because TensorFlow version is less than 1.14\n"
     ]
    }
   ],
   "source": [
    "import pandas as pd\n",
    "import time, os, shutil\n",
    "import re\n",
    "import tensorflow as tf\n",
    "import tensorflow_hub as hub\n",
    "import numpy as np  \n",
    "from sklearn.cluster import KMeans  \n",
    "from sklearn.cluster import DBSCAN\n",
    "from nltk.parse import CoreNLPParser\n",
    "from sklearn import decomposition as dc\n",
    "\n",
    "#pos_tagger = CoreNLPParser(url='http://localhost:9000', tagtype='pos')"
   ]
  },
  {
   "cell_type": "code",
   "execution_count": 2,
   "metadata": {},
   "outputs": [],
   "source": [
    "#############################LOAD##################\n",
    "# If load data with 'text' and 'main'\n",
    "data_source = 'output/sub-set/'\n",
    "file_name = 'fireHD-tag'+'.csv'\n",
    "reviews = pd.read_csv(data_source+file_name, sep=\"\\t\", error_bad_lines=False).loc[:,['text','main']]\n",
    "###################################################"
   ]
  },
  {
   "cell_type": "code",
   "execution_count": 3,
   "metadata": {},
   "outputs": [
    {
     "name": "stdout",
     "output_type": "stream",
     "text": [
      ", , you, How are Tim doing\n"
     ]
    }
   ],
   "source": [
    "import re\n",
    "\n",
    "def remove_banned(s,words):\n",
    "    #words = sorted(words, key=len, reverse=True)\n",
    "    pattern = '|'.join(words)\n",
    "    s = re.sub(pattern, '', s, flags = re.I) # remove words\n",
    "    s = re.sub(r'[0-9]+', '', s) # remove numbers\n",
    "    s = re.sub('\\s+', ' ', s, flags = re.I) # remove extra blank space'\n",
    "    return s\n",
    "\n",
    "bannedWords = ['hi', 'hi you', 'hello', 'and you']\n",
    "s = \"Hi, Hello, hi you, How are Tim and you doing\"\n",
    "\n",
    "print(remove_banned(s,bannedWords))"
   ]
  },
  {
   "cell_type": "code",
   "execution_count": 4,
   "metadata": {},
   "outputs": [],
   "source": [
    "word_list = pd.read_csv('sentiment/wordlist.csv')\n",
    "word_list = word_list.dropna()\n",
    "word_list['count'] = word_list['word'].apply(lambda x: len(x.split()))\n",
    "wd2 = word_list"
   ]
  },
  {
   "cell_type": "code",
   "execution_count": 5,
   "metadata": {},
   "outputs": [],
   "source": [
    "word_list = word_list.sort_values(by=['count'],ascending =False).reset_index(drop=True)\n",
    "word_list['word'] = word_list['word'].apply(lambda x: x+' ')\n",
    "wordlist = word_list.loc[word_list['count']<10, ['word']]\n",
    "wordlist = wordlist['word'].tolist()"
   ]
  },
  {
   "cell_type": "code",
   "execution_count": 6,
   "metadata": {},
   "outputs": [],
   "source": [
    "one_word = wd2[wd2['count']==1]['word'].tolist()\n",
    "mylist = ['love','loves','loved','like','likes','liked','enjoy','enjoys','enjoyed',\n",
    "            'hate','hates','hated','do','does','did','don','don\\'t','want','wants','wanted']\n",
    "subject = ['kindle','paperwhite','fire']\n",
    "one_word.extend(mylist)\n",
    "one_word.extend(subject)\n",
    "one_word = set(one_word)"
   ]
  },
  {
   "cell_type": "code",
   "execution_count": 7,
   "metadata": {},
   "outputs": [],
   "source": [
    "def clean_review(x):\n",
    "\n",
    "    words = one_word\n",
    "\n",
    "    resultwords  = [word for word in re.split(\"[.,; :-?!&]+\",x) if word.lower() not in words]\n",
    "    result = ' '.join(resultwords)\n",
    "    return result"
   ]
  },
  {
   "cell_type": "code",
   "execution_count": 8,
   "metadata": {},
   "outputs": [
    {
     "name": "stdout",
     "output_type": "stream",
     "text": [
      "in\n",
      "finished\n"
     ]
    }
   ],
   "source": [
    "for i in range(len(wordlist)):\n",
    "    if wordlist[i]=='love ':\n",
    "        print('in')\n",
    "        \n",
    "print('finished')"
   ]
  },
  {
   "cell_type": "code",
   "execution_count": 9,
   "metadata": {},
   "outputs": [],
   "source": [
    "reviews['removed'] = reviews['text'].apply(lambda x: remove_banned(x,wordlist))\n",
    "reviews['removed'] = reviews['text'].apply(lambda x: clean_review(x))"
   ]
  },
  {
   "cell_type": "code",
   "execution_count": 10,
   "metadata": {},
   "outputs": [],
   "source": [
    "def clean_punct(line):\n",
    "    line = re.sub('[0-9%]+','',line)\n",
    "    line = re.sub(' +', ' ',line)\n",
    "    return line.strip()"
   ]
  },
  {
   "cell_type": "code",
   "execution_count": 11,
   "metadata": {},
   "outputs": [
    {
     "data": {
      "text/plain": [
       "\"aaa bbb, good. Don't be sad.\""
      ]
     },
     "execution_count": 11,
     "metadata": {},
     "output_type": "execute_result"
    }
   ],
   "source": [
    "test_str = \"34 34 aaa bbb, 100% good. Don't be sad.\"\n",
    "clean_punct(test_str)"
   ]
  },
  {
   "cell_type": "code",
   "execution_count": 12,
   "metadata": {},
   "outputs": [],
   "source": [
    "reviews['removed'] = reviews['removed'].apply(lambda x: clean_punct(x))"
   ]
  },
  {
   "cell_type": "code",
   "execution_count": 13,
   "metadata": {},
   "outputs": [],
   "source": [
    "from sklearn.feature_extraction.text import CountVectorizer\n",
    "from sklearn.feature_extraction.text import TfidfTransformer\n",
    "from itertools import islice\n"
   ]
  },
  {
   "cell_type": "code",
   "execution_count": 14,
   "metadata": {},
   "outputs": [
    {
     "data": {
      "text/plain": [
       "133"
      ]
     },
     "execution_count": 14,
     "metadata": {},
     "output_type": "execute_result"
    }
   ],
   "source": [
    "cvec = CountVectorizer(stop_words='english', min_df=0.001, max_df=.2, ngram_range=(2,3))\n",
    "cvec.fit(reviews.removed)\n",
    "len(cvec.vocabulary_)\n",
    "#list(islice(cvec.vocabulary_.items(), 20))"
   ]
  },
  {
   "cell_type": "code",
   "execution_count": 15,
   "metadata": {},
   "outputs": [
    {
     "name": "stdout",
     "output_type": "stream",
     "text": [
      "sparse matrix shape: (3355, 133)\n",
      "nonzero count: 738\n",
      "sparsity: 0.17%\n"
     ]
    }
   ],
   "source": [
    "cvec_counts = cvec.transform(reviews.text)\n",
    "print('sparse matrix shape:', cvec_counts.shape)\n",
    "print('nonzero count:', cvec_counts.nnz)\n",
    "print('sparsity: %.2f%%' % (100.0 * cvec_counts.nnz / (cvec_counts.shape[0] * cvec_counts.shape[1])))\n",
    "occ = np.asarray(cvec_counts.sum(axis=0)).ravel().tolist()\n",
    "counts_df = pd.DataFrame({'term': cvec.get_feature_names(), 'occurrences': occ})\n",
    "#counts_df.sort_values(by='occurrences', ascending=False).head(20)"
   ]
  },
  {
   "cell_type": "code",
   "execution_count": 16,
   "metadata": {},
   "outputs": [],
   "source": [
    "transformer = TfidfTransformer()\n",
    "transformed_weights = transformer.fit_transform(cvec_counts)\n",
    "weights = np.asarray(transformed_weights.mean(axis=0)).ravel().tolist()\n",
    "weights_df = pd.DataFrame({'term': cvec.get_feature_names(), 'weight': weights})\n",
    "weights_df = weights_df.sort_values(by='weight', ascending=False).reset_index(drop=True)"
   ]
  },
  {
   "cell_type": "code",
   "execution_count": 17,
   "metadata": {},
   "outputs": [],
   "source": [
    "key_words = weights_df[weights_df.weight>=0.0005]"
   ]
  },
  {
   "cell_type": "code",
   "execution_count": 18,
   "metadata": {},
   "outputs": [
    {
     "data": {
      "text/plain": [
       "127"
      ]
     },
     "execution_count": 18,
     "metadata": {},
     "output_type": "execute_result"
    }
   ],
   "source": [
    "len(key_words)"
   ]
  },
  {
   "cell_type": "code",
   "execution_count": 19,
   "metadata": {},
   "outputs": [
    {
     "data": {
      "text/html": [
       "<div>\n",
       "<style scoped>\n",
       "    .dataframe tbody tr th:only-of-type {\n",
       "        vertical-align: middle;\n",
       "    }\n",
       "\n",
       "    .dataframe tbody tr th {\n",
       "        vertical-align: top;\n",
       "    }\n",
       "\n",
       "    .dataframe thead th {\n",
       "        text-align: right;\n",
       "    }\n",
       "</style>\n",
       "<table border=\"1\" class=\"dataframe\">\n",
       "  <thead>\n",
       "    <tr style=\"text-align: right;\">\n",
       "      <th></th>\n",
       "      <th>term</th>\n",
       "      <th>weight</th>\n",
       "    </tr>\n",
       "  </thead>\n",
       "  <tbody>\n",
       "    <tr>\n",
       "      <th>0</th>\n",
       "      <td>battery life</td>\n",
       "      <td>0.010422</td>\n",
       "    </tr>\n",
       "    <tr>\n",
       "      <th>1</th>\n",
       "      <td>wi fi</td>\n",
       "      <td>0.005124</td>\n",
       "    </tr>\n",
       "    <tr>\n",
       "      <th>2</th>\n",
       "      <td>customer service</td>\n",
       "      <td>0.005067</td>\n",
       "    </tr>\n",
       "    <tr>\n",
       "      <th>3</th>\n",
       "      <td>read books</td>\n",
       "      <td>0.004790</td>\n",
       "    </tr>\n",
       "    <tr>\n",
       "      <th>4</th>\n",
       "      <td>learning use</td>\n",
       "      <td>0.004639</td>\n",
       "    </tr>\n",
       "    <tr>\n",
       "      <th>5</th>\n",
       "      <td>play games</td>\n",
       "      <td>0.003856</td>\n",
       "    </tr>\n",
       "    <tr>\n",
       "      <th>6</th>\n",
       "      <td>christmas gift</td>\n",
       "      <td>0.003618</td>\n",
       "    </tr>\n",
       "    <tr>\n",
       "      <th>7</th>\n",
       "      <td>couldn happier</td>\n",
       "      <td>0.002886</td>\n",
       "    </tr>\n",
       "    <tr>\n",
       "      <th>8</th>\n",
       "      <td>reading books</td>\n",
       "      <td>0.002708</td>\n",
       "    </tr>\n",
       "    <tr>\n",
       "      <th>9</th>\n",
       "      <td>bought son</td>\n",
       "      <td>0.002585</td>\n",
       "    </tr>\n",
       "    <tr>\n",
       "      <th>10</th>\n",
       "      <td>years ago</td>\n",
       "      <td>0.002585</td>\n",
       "    </tr>\n",
       "    <tr>\n",
       "      <th>11</th>\n",
       "      <td>exceeded expectations</td>\n",
       "      <td>0.002585</td>\n",
       "    </tr>\n",
       "    <tr>\n",
       "      <th>12</th>\n",
       "      <td>google play</td>\n",
       "      <td>0.002539</td>\n",
       "    </tr>\n",
       "    <tr>\n",
       "      <th>13</th>\n",
       "      <td>app store</td>\n",
       "      <td>0.002422</td>\n",
       "    </tr>\n",
       "    <tr>\n",
       "      <th>14</th>\n",
       "      <td>watch movies</td>\n",
       "      <td>0.002377</td>\n",
       "    </tr>\n",
       "    <tr>\n",
       "      <th>15</th>\n",
       "      <td>paper white</td>\n",
       "      <td>0.002271</td>\n",
       "    </tr>\n",
       "    <tr>\n",
       "      <th>16</th>\n",
       "      <td>little tablet</td>\n",
       "      <td>0.002121</td>\n",
       "    </tr>\n",
       "    <tr>\n",
       "      <th>17</th>\n",
       "      <td>rear camera</td>\n",
       "      <td>0.002086</td>\n",
       "    </tr>\n",
       "    <tr>\n",
       "      <th>18</th>\n",
       "      <td>tablet price</td>\n",
       "      <td>0.001995</td>\n",
       "    </tr>\n",
       "    <tr>\n",
       "      <th>19</th>\n",
       "      <td>christmas present</td>\n",
       "      <td>0.001956</td>\n",
       "    </tr>\n",
       "    <tr>\n",
       "      <th>20</th>\n",
       "      <td>apps available</td>\n",
       "      <td>0.001925</td>\n",
       "    </tr>\n",
       "    <tr>\n",
       "      <th>21</th>\n",
       "      <td>sd card</td>\n",
       "      <td>0.001920</td>\n",
       "    </tr>\n",
       "    <tr>\n",
       "      <th>22</th>\n",
       "      <td>download books</td>\n",
       "      <td>0.001804</td>\n",
       "    </tr>\n",
       "    <tr>\n",
       "      <th>23</th>\n",
       "      <td>met expectations</td>\n",
       "      <td>0.001788</td>\n",
       "    </tr>\n",
       "    <tr>\n",
       "      <th>24</th>\n",
       "      <td>amazon account</td>\n",
       "      <td>0.001788</td>\n",
       "    </tr>\n",
       "    <tr>\n",
       "      <th>25</th>\n",
       "      <td>tech savvy</td>\n",
       "      <td>0.001788</td>\n",
       "    </tr>\n",
       "    <tr>\n",
       "      <th>26</th>\n",
       "      <td>use time</td>\n",
       "      <td>0.001788</td>\n",
       "    </tr>\n",
       "    <tr>\n",
       "      <th>27</th>\n",
       "      <td>easier read</td>\n",
       "      <td>0.001727</td>\n",
       "    </tr>\n",
       "    <tr>\n",
       "      <th>28</th>\n",
       "      <td>screen size</td>\n",
       "      <td>0.001699</td>\n",
       "    </tr>\n",
       "    <tr>\n",
       "      <th>29</th>\n",
       "      <td>volume buttons</td>\n",
       "      <td>0.001693</td>\n",
       "    </tr>\n",
       "    <tr>\n",
       "      <th>...</th>\n",
       "      <td>...</td>\n",
       "      <td>...</td>\n",
       "    </tr>\n",
       "    <tr>\n",
       "      <th>97</th>\n",
       "      <td>audio books</td>\n",
       "      <td>0.000897</td>\n",
       "    </tr>\n",
       "    <tr>\n",
       "      <th>98</th>\n",
       "      <td>got year</td>\n",
       "      <td>0.000894</td>\n",
       "    </tr>\n",
       "    <tr>\n",
       "      <th>99</th>\n",
       "      <td>hd tablet</td>\n",
       "      <td>0.000894</td>\n",
       "    </tr>\n",
       "    <tr>\n",
       "      <th>100</th>\n",
       "      <td>battery doesn</td>\n",
       "      <td>0.000894</td>\n",
       "    </tr>\n",
       "    <tr>\n",
       "      <th>101</th>\n",
       "      <td>hd display</td>\n",
       "      <td>0.000894</td>\n",
       "    </tr>\n",
       "    <tr>\n",
       "      <th>102</th>\n",
       "      <td>figure use</td>\n",
       "      <td>0.000894</td>\n",
       "    </tr>\n",
       "    <tr>\n",
       "      <th>103</th>\n",
       "      <td>gb storage</td>\n",
       "      <td>0.000894</td>\n",
       "    </tr>\n",
       "    <tr>\n",
       "      <th>104</th>\n",
       "      <td>amazon app store</td>\n",
       "      <td>0.000888</td>\n",
       "    </tr>\n",
       "    <tr>\n",
       "      <th>105</th>\n",
       "      <td>amazon app</td>\n",
       "      <td>0.000888</td>\n",
       "    </tr>\n",
       "    <tr>\n",
       "      <th>106</th>\n",
       "      <td>amazon store</td>\n",
       "      <td>0.000883</td>\n",
       "    </tr>\n",
       "    <tr>\n",
       "      <th>107</th>\n",
       "      <td>short battery</td>\n",
       "      <td>0.000853</td>\n",
       "    </tr>\n",
       "    <tr>\n",
       "      <th>108</th>\n",
       "      <td>google play store</td>\n",
       "      <td>0.000842</td>\n",
       "    </tr>\n",
       "    <tr>\n",
       "      <th>109</th>\n",
       "      <td>make use</td>\n",
       "      <td>0.000815</td>\n",
       "    </tr>\n",
       "    <tr>\n",
       "      <th>110</th>\n",
       "      <td>hd screen</td>\n",
       "      <td>0.000815</td>\n",
       "    </tr>\n",
       "    <tr>\n",
       "      <th>111</th>\n",
       "      <td>download apps</td>\n",
       "      <td>0.000812</td>\n",
       "    </tr>\n",
       "    <tr>\n",
       "      <th>112</th>\n",
       "      <td>device use</td>\n",
       "      <td>0.000810</td>\n",
       "    </tr>\n",
       "    <tr>\n",
       "      <th>113</th>\n",
       "      <td>husband christmas</td>\n",
       "      <td>0.000803</td>\n",
       "    </tr>\n",
       "    <tr>\n",
       "      <th>114</th>\n",
       "      <td>use apps</td>\n",
       "      <td>0.000726</td>\n",
       "    </tr>\n",
       "    <tr>\n",
       "      <th>115</th>\n",
       "      <td>rear facing camera</td>\n",
       "      <td>0.000700</td>\n",
       "    </tr>\n",
       "    <tr>\n",
       "      <th>116</th>\n",
       "      <td>movies tv shows</td>\n",
       "      <td>0.000649</td>\n",
       "    </tr>\n",
       "    <tr>\n",
       "      <th>117</th>\n",
       "      <td>tv shows</td>\n",
       "      <td>0.000649</td>\n",
       "    </tr>\n",
       "    <tr>\n",
       "      <th>118</th>\n",
       "      <td>apps download</td>\n",
       "      <td>0.000596</td>\n",
       "    </tr>\n",
       "    <tr>\n",
       "      <th>119</th>\n",
       "      <td>apps amazon</td>\n",
       "      <td>0.000593</td>\n",
       "    </tr>\n",
       "    <tr>\n",
       "      <th>120</th>\n",
       "      <td>use reading</td>\n",
       "      <td>0.000583</td>\n",
       "    </tr>\n",
       "    <tr>\n",
       "      <th>121</th>\n",
       "      <td>short battery life</td>\n",
       "      <td>0.000572</td>\n",
       "    </tr>\n",
       "    <tr>\n",
       "      <th>122</th>\n",
       "      <td>access google</td>\n",
       "      <td>0.000544</td>\n",
       "    </tr>\n",
       "    <tr>\n",
       "      <th>123</th>\n",
       "      <td>access google play</td>\n",
       "      <td>0.000544</td>\n",
       "    </tr>\n",
       "    <tr>\n",
       "      <th>124</th>\n",
       "      <td>hd hd</td>\n",
       "      <td>0.000518</td>\n",
       "    </tr>\n",
       "    <tr>\n",
       "      <th>125</th>\n",
       "      <td>bought year</td>\n",
       "      <td>0.000516</td>\n",
       "    </tr>\n",
       "    <tr>\n",
       "      <th>126</th>\n",
       "      <td>gift year</td>\n",
       "      <td>0.000516</td>\n",
       "    </tr>\n",
       "  </tbody>\n",
       "</table>\n",
       "<p>127 rows × 2 columns</p>\n",
       "</div>"
      ],
      "text/plain": [
       "                      term    weight\n",
       "0             battery life  0.010422\n",
       "1                    wi fi  0.005124\n",
       "2         customer service  0.005067\n",
       "3               read books  0.004790\n",
       "4             learning use  0.004639\n",
       "5               play games  0.003856\n",
       "6           christmas gift  0.003618\n",
       "7           couldn happier  0.002886\n",
       "8            reading books  0.002708\n",
       "9               bought son  0.002585\n",
       "10               years ago  0.002585\n",
       "11   exceeded expectations  0.002585\n",
       "12             google play  0.002539\n",
       "13               app store  0.002422\n",
       "14            watch movies  0.002377\n",
       "15             paper white  0.002271\n",
       "16           little tablet  0.002121\n",
       "17             rear camera  0.002086\n",
       "18            tablet price  0.001995\n",
       "19       christmas present  0.001956\n",
       "20          apps available  0.001925\n",
       "21                 sd card  0.001920\n",
       "22          download books  0.001804\n",
       "23        met expectations  0.001788\n",
       "24          amazon account  0.001788\n",
       "25              tech savvy  0.001788\n",
       "26                use time  0.001788\n",
       "27             easier read  0.001727\n",
       "28             screen size  0.001699\n",
       "29          volume buttons  0.001693\n",
       "..                     ...       ...\n",
       "97             audio books  0.000897\n",
       "98                got year  0.000894\n",
       "99               hd tablet  0.000894\n",
       "100          battery doesn  0.000894\n",
       "101             hd display  0.000894\n",
       "102             figure use  0.000894\n",
       "103             gb storage  0.000894\n",
       "104       amazon app store  0.000888\n",
       "105             amazon app  0.000888\n",
       "106           amazon store  0.000883\n",
       "107          short battery  0.000853\n",
       "108      google play store  0.000842\n",
       "109               make use  0.000815\n",
       "110              hd screen  0.000815\n",
       "111          download apps  0.000812\n",
       "112             device use  0.000810\n",
       "113      husband christmas  0.000803\n",
       "114               use apps  0.000726\n",
       "115     rear facing camera  0.000700\n",
       "116        movies tv shows  0.000649\n",
       "117               tv shows  0.000649\n",
       "118          apps download  0.000596\n",
       "119            apps amazon  0.000593\n",
       "120            use reading  0.000583\n",
       "121     short battery life  0.000572\n",
       "122          access google  0.000544\n",
       "123     access google play  0.000544\n",
       "124                  hd hd  0.000518\n",
       "125            bought year  0.000516\n",
       "126              gift year  0.000516\n",
       "\n",
       "[127 rows x 2 columns]"
      ]
     },
     "execution_count": 19,
     "metadata": {},
     "output_type": "execute_result"
    }
   ],
   "source": [
    "key_words"
   ]
  },
  {
   "cell_type": "code",
   "execution_count": 20,
   "metadata": {},
   "outputs": [],
   "source": [
    "import pandas as pd\n",
    "import time, os, shutil\n",
    "import re\n",
    "import tensorflow as tf\n",
    "import tensorflow_hub as hub\n",
    "import numpy as np  \n",
    "from sklearn.cluster import KMeans  \n",
    "from sklearn.cluster import DBSCAN\n",
    "from nltk.parse import CoreNLPParser\n",
    "from sklearn import decomposition as dc"
   ]
  },
  {
   "cell_type": "code",
   "execution_count": 21,
   "metadata": {},
   "outputs": [
    {
     "name": "stdout",
     "output_type": "stream",
     "text": [
      "WARNING:tensorflow:From C:\\Users\\betty\\Anaconda3\\lib\\site-packages\\tensorflow\\python\\ops\\control_flow_ops.py:3632: colocate_with (from tensorflow.python.framework.ops) is deprecated and will be removed in a future version.\n",
      "Instructions for updating:\n",
      "Colocations handled automatically by placer.\n"
     ]
    },
    {
     "name": "stderr",
     "output_type": "stream",
     "text": [
      "W0527 13:31:24.780227   900 deprecation.py:323] From C:\\Users\\betty\\Anaconda3\\lib\\site-packages\\tensorflow\\python\\ops\\control_flow_ops.py:3632: colocate_with (from tensorflow.python.framework.ops) is deprecated and will be removed in a future version.\n",
      "Instructions for updating:\n",
      "Colocations handled automatically by placer.\n"
     ]
    }
   ],
   "source": [
    "# Load google Universal Sentence Encoder\n",
    "module_dir =\"downloads/encoder-DNA\" #\"downloads/encoder\"\n",
    "embed = hub.Module(module_dir)\n"
   ]
  },
  {
   "cell_type": "code",
   "execution_count": 22,
   "metadata": {},
   "outputs": [
    {
     "name": "stdout",
     "output_type": "stream",
     "text": [
      "INFO:tensorflow:Saver not created because there are no variables in the graph to restore\n"
     ]
    },
    {
     "name": "stderr",
     "output_type": "stream",
     "text": [
      "I0527 13:31:46.830368   900 saver.py:1483] Saver not created because there are no variables in the graph to restore\n",
      "C:\\Users\\betty\\Anaconda3\\lib\\site-packages\\ipykernel_launcher.py:4: SettingWithCopyWarning: \n",
      "A value is trying to be set on a copy of a slice from a DataFrame.\n",
      "Try using .loc[row_indexer,col_indexer] = value instead\n",
      "\n",
      "See the caveats in the documentation: http://pandas.pydata.org/pandas-docs/stable/indexing.html#indexing-view-versus-copy\n",
      "  after removing the cwd from sys.path.\n"
     ]
    },
    {
     "name": "stdout",
     "output_type": "stream",
     "text": [
      "time1: 3.3031222820281982\n"
     ]
    }
   ],
   "source": [
    "with tf.Session() as session:\n",
    "    session.run([tf.global_variables_initializer(), tf.tables_initializer()])\n",
    "    start_time=time.time()\n",
    "    key_words['embedding'] = pd.Series(list(session.run(embed(list(key_words['term'])))))\n",
    "    end_time1=time.time()\n",
    "    print('time1:',(end_time1-start_time))"
   ]
  },
  {
   "cell_type": "code",
   "execution_count": 23,
   "metadata": {},
   "outputs": [],
   "source": [
    "terms = key_words['term'].tolist()\n",
    "embs = key_words['embedding'].tolist()"
   ]
  },
  {
   "cell_type": "code",
   "execution_count": 24,
   "metadata": {},
   "outputs": [],
   "source": [
    "##\n",
    "X = np.array(embs,)\n",
    "\n",
    "from sklearn.decomposition import PCA\n",
    "pca = PCA(n_components=2)\n",
    "X2 = pca.fit_transform(embs)"
   ]
  },
  {
   "cell_type": "code",
   "execution_count": 25,
   "metadata": {},
   "outputs": [
    {
     "data": {
      "text/plain": [
       "(127, 512)"
      ]
     },
     "execution_count": 25,
     "metadata": {},
     "output_type": "execute_result"
    }
   ],
   "source": [
    "X.shape"
   ]
  },
  {
   "cell_type": "code",
   "execution_count": 26,
   "metadata": {},
   "outputs": [
    {
     "data": {
      "text/plain": [
       "<Figure size 1000x700 with 1 Axes>"
      ]
     },
     "metadata": {},
     "output_type": "display_data"
    }
   ],
   "source": [
    "import matplotlib.pyplot as plt\n",
    "\n",
    "labels = terms \n",
    "plt.figure(figsize=(10, 7))  \n",
    "plt.subplots_adjust(bottom=0.1)  \n",
    "plt.scatter(X2[:,0],X2[:,1], label='True Position')\n",
    "\n",
    "for label, x, y in zip(labels, X2[:, 0], X2[:, 1]):  \n",
    "    plt.annotate(\n",
    "        label,\n",
    "        xy=(x, y), xytext=(-3, 3),\n",
    "        textcoords='offset points', ha='right', va='bottom')\n",
    "plt.show()  "
   ]
  },
  {
   "cell_type": "code",
   "execution_count": 52,
   "metadata": {},
   "outputs": [
    {
     "data": {
      "image/png": "[encoded data removed]",
      "text/plain": [
       "<Figure size 2160x360 with 1 Axes>"
      ]
     },
     "metadata": {
      "needs_background": "light"
     },
     "output_type": "display_data"
    }
   ],
   "source": [
    "from scipy.cluster.hierarchy import dendrogram, linkage  \n",
    "from matplotlib import pyplot as plt\n",
    "import numpy as np\n",
    "from scipy.spatial.distance import pdist\n",
    "\n",
    "#dist_condensed = pdist(X)\n",
    "#linked = linkage(X, 'single',metric='cosine',optimal_ordering=True)\n",
    "linked = linkage(X, 'average', metric='cosine',optimal_ordering=True)\n",
    "labelList = terms\n",
    "\n",
    "plt.figure(figsize=(30, 5))  \n",
    "dh = dendrogram(linked,  \n",
    "            orientation='top',\n",
    "            labels=labelList,\n",
    "            leaf_font_size=12,\n",
    "            distance_sort='descending',\n",
    "            show_leaf_counts=True)\n",
    "plt.show()  "
   ]
  },
  {
   "cell_type": "code",
   "execution_count": 28,
   "metadata": {},
   "outputs": [
    {
     "name": "stdout",
     "output_type": "stream",
     "text": [
      "The nltk version is 3.4.\n",
      "The scikit-learn version is 0.21.2.\n"
     ]
    }
   ],
   "source": [
    "import nltk\n",
    "import sklearn\n",
    "\n",
    "print('The nltk version is {}.'.format(nltk.__version__))\n",
    "print('The scikit-learn version is {}.'.format(sklearn.__version__))"
   ]
  },
  {
   "cell_type": "code",
   "execution_count": 86,
   "metadata": {},
   "outputs": [
    {
     "data": {
      "text/plain": [
       "array([13, 24,  2, 10, 17, 11, 20,  7, 10,  4,  9, 30,  0,  0, 12, 23, 14,\n",
       "       22, 14, 20,  0, 16, 10, 30, 15,  2,  6,  8, 34,  5, 35,  6, 31,  4,\n",
       "        0, 11, 19,  7,  9,  5, 14, 16,  1,  4, 14,  9,  3, 20, 20, 21,  1,\n",
       "       34,  0,  0, 27,  1,  5,  3, 26,  1, 25, 14,  3, 18,  7, 14, 17,  1,\n",
       "        4,  9, 33,  6,  0, 10, 26, 29,  3, 16, 10, 13, 32,  0, 17, 15,  7,\n",
       "        0,  0, 12,  3, 36, 17,  7, 10, 22, 22, 20, 12, 10,  9, 34, 13, 34,\n",
       "        6, 16, 15, 15, 15, 13,  0,  6, 34,  0,  0, 20,  0, 22, 12, 12,  0,\n",
       "       15,  8, 13, 28,  0, 34,  4, 20], dtype=int64)"
      ]
     },
     "execution_count": 86,
     "metadata": {},
     "output_type": "execute_result"
    }
   ],
   "source": [
    "import matplotlib.pyplot as plt  \n",
    "import pandas as pd  \n",
    "%matplotlib inline\n",
    "import numpy as np  \n",
    "from sklearn.cluster import AgglomerativeClustering\n",
    "\n",
    "cluster = AgglomerativeClustering(n_clusters=None, affinity='cosine', linkage='average', distance_threshold =0.45)  \n",
    "term_clusters = cluster.fit_predict(X)  \n",
    "term_clusters"
   ]
  },
  {
   "cell_type": "code",
   "execution_count": 87,
   "metadata": {},
   "outputs": [
    {
     "data": {
      "text/plain": [
       "<matplotlib.collections.PathCollection at 0x1d505852128>"
      ]
     },
     "execution_count": 87,
     "metadata": {},
     "output_type": "execute_result"
    },
    {
     "data": {
      "image/png": "[encoded data removed]",
      "text/plain": [
       "<Figure size 432x288 with 1 Axes>"
      ]
     },
     "metadata": {
      "needs_background": "light"
     },
     "output_type": "display_data"
    }
   ],
   "source": [
    "plt.scatter(X2[:,0],X2[:,1], c=cluster.labels_, cmap='rainbow') "
   ]
  },
  {
   "cell_type": "code",
   "execution_count": 88,
   "metadata": {},
   "outputs": [
    {
     "name": "stdout",
     "output_type": "stream",
     "text": [
      "Number of keyword clusters: 36\n"
     ]
    }
   ],
   "source": [
    "cluster_numbers = np.amax(term_clusters)\n",
    "print('Number of keyword clusters:',cluster_numbers)"
   ]
  },
  {
   "cell_type": "code",
   "execution_count": 89,
   "metadata": {},
   "outputs": [],
   "source": [
    "cluster_data = {'term':terms, 'cluster':term_clusters}\n",
    "df_cluster = pd.DataFrame(cluster_data)"
   ]
  },
  {
   "cell_type": "code",
   "execution_count": 91,
   "metadata": {},
   "outputs": [],
   "source": [
    "#df_cluster.to_csv(\"output/kindle_keywords.csv\",index=False)\n",
    "####### load\n",
    "df_cluster = pd.read_csv(\"output/kindle_keywords.csv\")"
   ]
  },
  {
   "cell_type": "code",
   "execution_count": 90,
   "metadata": {},
   "outputs": [
    {
     "name": "stdout",
     "output_type": "stream",
     "text": [
      "Group 0:\n",
      " ['google play', 'app store', 'apps available', 'google apps', 'apps cloud', 'games apps', 'play store', 'use device', 'apps games', 'apps books', 'google play store', 'download apps', 'device use', 'use apps', 'apps download', 'access google play'] \n",
      "\n",
      "Group 1:\n",
      " ['worth money', 'price point', 'worth price', 'price paid', 'beat price'] \n",
      "\n",
      "Group 3:\n",
      " ['bought gift', 'bought hd', 'purchased gift', 'got sale', 'received gift'] \n",
      "\n",
      "Group 4:\n",
      " ['bought son', 'bought husband', 've bought', 'bought wife', 'bought year'] \n",
      "\n",
      "Group 5:\n",
      " ['volume buttons', 'power button', 'home screen'] \n",
      "\n",
      "Group 6:\n",
      " ['use time', 'ease use', 'use everyday', 'figure use', 'make use'] \n",
      "\n",
      "Group 7:\n",
      " ['couldn happier', 'meets needs', 'let know', 'look forward', 'didn realize'] \n",
      "\n",
      "Group 9:\n",
      " ['years ago', 'months ago', 'earlier expected', 'couple weeks', 'got year'] \n",
      "\n",
      "Group 10:\n",
      " ['read books', 'reading books', 'download books', 'reading night', 'books read', 'books games', 'audio books'] \n",
      "\n",
      "Group 12:\n",
      " ['watch movies', 'watching movies', 'movies tv', 'movies tv shows', 'tv shows'] \n",
      "\n",
      "Group 13:\n",
      " ['battery life', 'battery runs', 'battery doesn', 'short battery', 'short battery life'] \n",
      "\n",
      "Group 14:\n",
      " ['little tablet', 'tablet price', 'ipad mini', 'touch screen', 'using tablet', 'samsung galaxy'] \n",
      "\n",
      "Group 15:\n",
      " ['amazon account', 'amazon hd', 'amazon app store', 'amazon app', 'amazon store', 'apps amazon'] \n",
      "\n",
      "Group 16:\n",
      " ['sd card', 'sd slot', 'storage space', 'gb storage'] \n",
      "\n",
      "Group 17:\n",
      " ['learning use', 'learn use', 'learning things', 'lot learn'] \n",
      "\n",
      "Group 20:\n",
      " ['christmas gift', 'christmas present', 'gift son', 'got christmas', 'gift husband', 'husband christmas', 'gift year'] \n",
      "\n",
      "Group 22:\n",
      " ['rear camera', 'rear facing', 'facing camera', 'rear facing camera'] \n",
      "\n",
      "Group 34:\n",
      " ['screen size', 'screen resolution', 'hd tablet', 'hd display', 'hd screen', 'hd hd'] \n",
      "\n"
     ]
    }
   ],
   "source": [
    "group = []\n",
    "for i in range(cluster_numbers+1):\n",
    "    terms_in_group = df_cluster.loc[df_cluster['cluster']==i]['term'].tolist()\n",
    "    if len(terms_in_group)>=3:\n",
    "        group.append(terms_in_group)\n",
    "        print('Group '+str(i)+':\\n',terms_in_group,'\\n')"
   ]
  },
  {
   "cell_type": "code",
   "execution_count": 92,
   "metadata": {},
   "outputs": [
    {
     "data": {
      "text/plain": [
       "['worth money', 'price point', 'worth price', 'price paid', 'beat price']"
      ]
     },
     "execution_count": 92,
     "metadata": {},
     "output_type": "execute_result"
    }
   ],
   "source": [
    "test1 = group[1]\n",
    "test1"
   ]
  },
  {
   "cell_type": "code",
   "execution_count": 93,
   "metadata": {},
   "outputs": [
    {
     "data": {
      "text/plain": [
       "array([1.5, 2.5, 3.5, 4.5, 5.5])"
      ]
     },
     "execution_count": 93,
     "metadata": {},
     "output_type": "execute_result"
    }
   ],
   "source": [
    "ar1 = np.array([1,2,3,4,5])\n",
    "ar2 = np.array([2,3,4,5,6])\n",
    "ar3 = (ar1+ar2)/2\n",
    "ar3"
   ]
  },
  {
   "cell_type": "code",
   "execution_count": 94,
   "metadata": {},
   "outputs": [
    {
     "data": {
      "text/plain": [
       "array([0., 0., 0., 0., 0.])"
      ]
     },
     "execution_count": 94,
     "metadata": {},
     "output_type": "execute_result"
    }
   ],
   "source": [
    "np.zeros(5)"
   ]
  },
  {
   "cell_type": "code",
   "execution_count": 95,
   "metadata": {
    "collapsed": true
   },
   "outputs": [
    {
     "name": "stdout",
     "output_type": "stream",
     "text": [
      "INFO:tensorflow:Saver not created because there are no variables in the graph to restore\n"
     ]
    },
    {
     "name": "stderr",
     "output_type": "stream",
     "text": [
      "I0527 14:11:44.251040   900 saver.py:1483] Saver not created because there are no variables in the graph to restore\n"
     ]
    },
    {
     "name": "stdout",
     "output_type": "stream",
     "text": [
      "INFO:tensorflow:Saver not created because there are no variables in the graph to restore\n"
     ]
    },
    {
     "name": "stderr",
     "output_type": "stream",
     "text": [
      "I0527 14:11:47.943655   900 saver.py:1483] Saver not created because there are no variables in the graph to restore\n"
     ]
    },
    {
     "name": "stdout",
     "output_type": "stream",
     "text": [
      "INFO:tensorflow:Saver not created because there are no variables in the graph to restore\n"
     ]
    },
    {
     "name": "stderr",
     "output_type": "stream",
     "text": [
      "I0527 14:11:52.019928   900 saver.py:1483] Saver not created because there are no variables in the graph to restore\n"
     ]
    },
    {
     "name": "stdout",
     "output_type": "stream",
     "text": [
      "INFO:tensorflow:Saver not created because there are no variables in the graph to restore\n"
     ]
    },
    {
     "name": "stderr",
     "output_type": "stream",
     "text": [
      "I0527 14:11:56.606353   900 saver.py:1483] Saver not created because there are no variables in the graph to restore\n"
     ]
    },
    {
     "name": "stdout",
     "output_type": "stream",
     "text": [
      "INFO:tensorflow:Saver not created because there are no variables in the graph to restore\n"
     ]
    },
    {
     "name": "stderr",
     "output_type": "stream",
     "text": [
      "I0527 14:12:02.517012   900 saver.py:1483] Saver not created because there are no variables in the graph to restore\n"
     ]
    },
    {
     "name": "stdout",
     "output_type": "stream",
     "text": [
      "INFO:tensorflow:Saver not created because there are no variables in the graph to restore\n"
     ]
    },
    {
     "name": "stderr",
     "output_type": "stream",
     "text": [
      "I0527 14:12:09.091380   900 saver.py:1483] Saver not created because there are no variables in the graph to restore\n"
     ]
    },
    {
     "name": "stdout",
     "output_type": "stream",
     "text": [
      "INFO:tensorflow:Saver not created because there are no variables in the graph to restore\n"
     ]
    },
    {
     "name": "stderr",
     "output_type": "stream",
     "text": [
      "I0527 14:12:16.190929   900 saver.py:1483] Saver not created because there are no variables in the graph to restore\n"
     ]
    },
    {
     "name": "stdout",
     "output_type": "stream",
     "text": [
      "INFO:tensorflow:Saver not created because there are no variables in the graph to restore\n"
     ]
    },
    {
     "name": "stderr",
     "output_type": "stream",
     "text": [
      "I0527 14:12:24.306383   900 saver.py:1483] Saver not created because there are no variables in the graph to restore\n"
     ]
    },
    {
     "name": "stdout",
     "output_type": "stream",
     "text": [
      "INFO:tensorflow:Saver not created because there are no variables in the graph to restore\n"
     ]
    },
    {
     "name": "stderr",
     "output_type": "stream",
     "text": [
      "I0527 14:12:33.716720   900 saver.py:1483] Saver not created because there are no variables in the graph to restore\n"
     ]
    },
    {
     "name": "stdout",
     "output_type": "stream",
     "text": [
      "INFO:tensorflow:Saver not created because there are no variables in the graph to restore\n"
     ]
    },
    {
     "name": "stderr",
     "output_type": "stream",
     "text": [
      "I0527 14:12:43.962343   900 saver.py:1483] Saver not created because there are no variables in the graph to restore\n"
     ]
    },
    {
     "name": "stdout",
     "output_type": "stream",
     "text": [
      "INFO:tensorflow:Saver not created because there are no variables in the graph to restore\n"
     ]
    },
    {
     "name": "stderr",
     "output_type": "stream",
     "text": [
      "I0527 14:12:55.349213   900 saver.py:1483] Saver not created because there are no variables in the graph to restore\n"
     ]
    },
    {
     "name": "stdout",
     "output_type": "stream",
     "text": [
      "INFO:tensorflow:Saver not created because there are no variables in the graph to restore\n"
     ]
    },
    {
     "name": "stderr",
     "output_type": "stream",
     "text": [
      "I0527 14:13:08.751834   900 saver.py:1483] Saver not created because there are no variables in the graph to restore\n"
     ]
    },
    {
     "name": "stdout",
     "output_type": "stream",
     "text": [
      "INFO:tensorflow:Saver not created because there are no variables in the graph to restore\n"
     ]
    },
    {
     "name": "stderr",
     "output_type": "stream",
     "text": [
      "I0527 14:13:22.684003   900 saver.py:1483] Saver not created because there are no variables in the graph to restore\n"
     ]
    },
    {
     "name": "stdout",
     "output_type": "stream",
     "text": [
      "INFO:tensorflow:Saver not created because there are no variables in the graph to restore\n"
     ]
    },
    {
     "name": "stderr",
     "output_type": "stream",
     "text": [
      "I0527 14:13:37.960776   900 saver.py:1483] Saver not created because there are no variables in the graph to restore\n"
     ]
    },
    {
     "name": "stdout",
     "output_type": "stream",
     "text": [
      "INFO:tensorflow:Saver not created because there are no variables in the graph to restore\n"
     ]
    },
    {
     "name": "stderr",
     "output_type": "stream",
     "text": [
      "I0527 14:13:54.611655   900 saver.py:1483] Saver not created because there are no variables in the graph to restore\n"
     ]
    },
    {
     "name": "stdout",
     "output_type": "stream",
     "text": [
      "INFO:tensorflow:Saver not created because there are no variables in the graph to restore\n"
     ]
    },
    {
     "name": "stderr",
     "output_type": "stream",
     "text": [
      "I0527 14:14:13.028981   900 saver.py:1483] Saver not created because there are no variables in the graph to restore\n"
     ]
    },
    {
     "name": "stdout",
     "output_type": "stream",
     "text": [
      "INFO:tensorflow:Saver not created because there are no variables in the graph to restore\n"
     ]
    },
    {
     "name": "stderr",
     "output_type": "stream",
     "text": [
      "I0527 14:14:33.092058   900 saver.py:1483] Saver not created because there are no variables in the graph to restore\n"
     ]
    },
    {
     "name": "stdout",
     "output_type": "stream",
     "text": [
      "INFO:tensorflow:Saver not created because there are no variables in the graph to restore\n"
     ]
    },
    {
     "name": "stderr",
     "output_type": "stream",
     "text": [
      "I0527 14:14:57.023438   900 saver.py:1483] Saver not created because there are no variables in the graph to restore\n"
     ]
    },
    {
     "name": "stdout",
     "output_type": "stream",
     "text": [
      "time1: 219.2972137928009\n"
     ]
    }
   ],
   "source": [
    "avg_embs = []\n",
    "with tf.Session() as session:\n",
    "    session.run([tf.global_variables_initializer(), tf.tables_initializer()])\n",
    "    start_time=time.time()\n",
    "    \n",
    "    for word_group in group:\n",
    "        temp_embs = np.array(session.run(embed(word_group)))\n",
    "        temp_avg = np.zeros(len(temp_embs[0]))\n",
    "        for term_emb1 in temp_embs:\n",
    "            temp_avg = temp_avg+term_emb1\n",
    "        term_avg = temp_avg/len(word_group)\n",
    "        avg_embs.append(term_avg)\n",
    "    end_time1=time.time()\n",
    "    print('time1:',(end_time1-start_time))"
   ]
  },
  {
   "cell_type": "code",
   "execution_count": 97,
   "metadata": {},
   "outputs": [
    {
     "data": {
      "text/html": [
       "<div>\n",
       "<style scoped>\n",
       "    .dataframe tbody tr th:only-of-type {\n",
       "        vertical-align: middle;\n",
       "    }\n",
       "\n",
       "    .dataframe tbody tr th {\n",
       "        vertical-align: top;\n",
       "    }\n",
       "\n",
       "    .dataframe thead th {\n",
       "        text-align: right;\n",
       "    }\n",
       "</style>\n",
       "<table border=\"1\" class=\"dataframe\">\n",
       "  <thead>\n",
       "    <tr style=\"text-align: right;\">\n",
       "      <th></th>\n",
       "      <th>terms</th>\n",
       "      <th>avg_emb</th>\n",
       "    </tr>\n",
       "  </thead>\n",
       "  <tbody>\n",
       "    <tr>\n",
       "      <th>0</th>\n",
       "      <td>[google play, app store, apps available, googl...</td>\n",
       "      <td>[-0.004011161458038259, -0.0006794111832277849...</td>\n",
       "    </tr>\n",
       "    <tr>\n",
       "      <th>1</th>\n",
       "      <td>[worth money, price point, worth price, price ...</td>\n",
       "      <td>[0.03527634814381599, 0.016698149498552084, -0...</td>\n",
       "    </tr>\n",
       "    <tr>\n",
       "      <th>2</th>\n",
       "      <td>[bought gift, bought hd, purchased gift, got s...</td>\n",
       "      <td>[-0.0075700411573052405, 0.011954342387616635,...</td>\n",
       "    </tr>\n",
       "    <tr>\n",
       "      <th>3</th>\n",
       "      <td>[bought son, bought husband, ve bought, bought...</td>\n",
       "      <td>[0.03638896523043513, 0.0066331471782177685, -...</td>\n",
       "    </tr>\n",
       "    <tr>\n",
       "      <th>4</th>\n",
       "      <td>[volume buttons, power button, home screen]</td>\n",
       "      <td>[-0.04336073684195677, -0.017115998702744644, ...</td>\n",
       "    </tr>\n",
       "    <tr>\n",
       "      <th>5</th>\n",
       "      <td>[use time, ease use, use everyday, figure use,...</td>\n",
       "      <td>[0.021161016076803207, 0.015681715711252764, 0...</td>\n",
       "    </tr>\n",
       "    <tr>\n",
       "      <th>6</th>\n",
       "      <td>[couldn happier, meets needs, let know, look f...</td>\n",
       "      <td>[0.03414165154099465, -0.014147660648450255, -...</td>\n",
       "    </tr>\n",
       "    <tr>\n",
       "      <th>7</th>\n",
       "      <td>[years ago, months ago, earlier expected, coup...</td>\n",
       "      <td>[-0.024673844501376153, -0.0026353015564382076...</td>\n",
       "    </tr>\n",
       "    <tr>\n",
       "      <th>8</th>\n",
       "      <td>[read books, reading books, download books, re...</td>\n",
       "      <td>[-0.004771817309249725, 0.020882067187423154, ...</td>\n",
       "    </tr>\n",
       "    <tr>\n",
       "      <th>9</th>\n",
       "      <td>[watch movies, watching movies, movies tv, mov...</td>\n",
       "      <td>[-0.024579526856541634, -0.0075764037435874345...</td>\n",
       "    </tr>\n",
       "    <tr>\n",
       "      <th>10</th>\n",
       "      <td>[battery life, battery runs, battery doesn, sh...</td>\n",
       "      <td>[-0.010038580372929573, 0.0005230589769780636,...</td>\n",
       "    </tr>\n",
       "    <tr>\n",
       "      <th>11</th>\n",
       "      <td>[little tablet, tablet price, ipad mini, touch...</td>\n",
       "      <td>[0.043052554285774626, 0.020906602420533698, -...</td>\n",
       "    </tr>\n",
       "    <tr>\n",
       "      <th>12</th>\n",
       "      <td>[amazon account, amazon hd, amazon app store, ...</td>\n",
       "      <td>[0.025864041255166132, 0.04293150113274654, -0...</td>\n",
       "    </tr>\n",
       "    <tr>\n",
       "      <th>13</th>\n",
       "      <td>[sd card, sd slot, storage space, gb storage]</td>\n",
       "      <td>[0.03495426243171096, -0.058180863969027996, -...</td>\n",
       "    </tr>\n",
       "    <tr>\n",
       "      <th>14</th>\n",
       "      <td>[learning use, learn use, learning things, lot...</td>\n",
       "      <td>[0.015222462359815836, 0.027191931614652276, -...</td>\n",
       "    </tr>\n",
       "    <tr>\n",
       "      <th>15</th>\n",
       "      <td>[christmas gift, christmas present, gift son, ...</td>\n",
       "      <td>[0.011574966134503484, 0.03911410884133407, -0...</td>\n",
       "    </tr>\n",
       "    <tr>\n",
       "      <th>16</th>\n",
       "      <td>[rear camera, rear facing, facing camera, rear...</td>\n",
       "      <td>[0.055201626382768154, -0.06630698684602976, -...</td>\n",
       "    </tr>\n",
       "    <tr>\n",
       "      <th>17</th>\n",
       "      <td>[screen size, screen resolution, hd tablet, hd...</td>\n",
       "      <td>[0.025699661967034142, -0.05884442230065664, -...</td>\n",
       "    </tr>\n",
       "  </tbody>\n",
       "</table>\n",
       "</div>"
      ],
      "text/plain": [
       "                                                terms  \\\n",
       "0   [google play, app store, apps available, googl...   \n",
       "1   [worth money, price point, worth price, price ...   \n",
       "2   [bought gift, bought hd, purchased gift, got s...   \n",
       "3   [bought son, bought husband, ve bought, bought...   \n",
       "4         [volume buttons, power button, home screen]   \n",
       "5   [use time, ease use, use everyday, figure use,...   \n",
       "6   [couldn happier, meets needs, let know, look f...   \n",
       "7   [years ago, months ago, earlier expected, coup...   \n",
       "8   [read books, reading books, download books, re...   \n",
       "9   [watch movies, watching movies, movies tv, mov...   \n",
       "10  [battery life, battery runs, battery doesn, sh...   \n",
       "11  [little tablet, tablet price, ipad mini, touch...   \n",
       "12  [amazon account, amazon hd, amazon app store, ...   \n",
       "13      [sd card, sd slot, storage space, gb storage]   \n",
       "14  [learning use, learn use, learning things, lot...   \n",
       "15  [christmas gift, christmas present, gift son, ...   \n",
       "16  [rear camera, rear facing, facing camera, rear...   \n",
       "17  [screen size, screen resolution, hd tablet, hd...   \n",
       "\n",
       "                                              avg_emb  \n",
       "0   [-0.004011161458038259, -0.0006794111832277849...  \n",
       "1   [0.03527634814381599, 0.016698149498552084, -0...  \n",
       "2   [-0.0075700411573052405, 0.011954342387616635,...  \n",
       "3   [0.03638896523043513, 0.0066331471782177685, -...  \n",
       "4   [-0.04336073684195677, -0.017115998702744644, ...  \n",
       "5   [0.021161016076803207, 0.015681715711252764, 0...  \n",
       "6   [0.03414165154099465, -0.014147660648450255, -...  \n",
       "7   [-0.024673844501376153, -0.0026353015564382076...  \n",
       "8   [-0.004771817309249725, 0.020882067187423154, ...  \n",
       "9   [-0.024579526856541634, -0.0075764037435874345...  \n",
       "10  [-0.010038580372929573, 0.0005230589769780636,...  \n",
       "11  [0.043052554285774626, 0.020906602420533698, -...  \n",
       "12  [0.025864041255166132, 0.04293150113274654, -0...  \n",
       "13  [0.03495426243171096, -0.058180863969027996, -...  \n",
       "14  [0.015222462359815836, 0.027191931614652276, -...  \n",
       "15  [0.011574966134503484, 0.03911410884133407, -0...  \n",
       "16  [0.055201626382768154, -0.06630698684602976, -...  \n",
       "17  [0.025699661967034142, -0.05884442230065664, -...  "
      ]
     },
     "execution_count": 97,
     "metadata": {},
     "output_type": "execute_result"
    }
   ],
   "source": [
    "data2 = {'terms':group, 'avg_emb':avg_embs}\n",
    "cluster_embs = pd.DataFrame(data2)\n",
    "cluster_embs"
   ]
  },
  {
   "cell_type": "code",
   "execution_count": 98,
   "metadata": {},
   "outputs": [],
   "source": [
    "import pickle\n",
    "pickle.dump(cluster_embs, open(\"output/kindle_cluster_embs.pickle\", \"wb\"))"
   ]
  },
  {
   "cell_type": "code",
   "execution_count": 99,
   "metadata": {},
   "outputs": [
    {
     "data": {
      "text/html": [
       "<div>\n",
       "<style scoped>\n",
       "    .dataframe tbody tr th:only-of-type {\n",
       "        vertical-align: middle;\n",
       "    }\n",
       "\n",
       "    .dataframe tbody tr th {\n",
       "        vertical-align: top;\n",
       "    }\n",
       "\n",
       "    .dataframe thead th {\n",
       "        text-align: right;\n",
       "    }\n",
       "</style>\n",
       "<table border=\"1\" class=\"dataframe\">\n",
       "  <thead>\n",
       "    <tr style=\"text-align: right;\">\n",
       "      <th></th>\n",
       "      <th>terms</th>\n",
       "      <th>avg_emb</th>\n",
       "    </tr>\n",
       "  </thead>\n",
       "  <tbody>\n",
       "    <tr>\n",
       "      <th>0</th>\n",
       "      <td>[google play, app store, apps available, googl...</td>\n",
       "      <td>[-0.004011161458038259, -0.0006794111832277849...</td>\n",
       "    </tr>\n",
       "    <tr>\n",
       "      <th>1</th>\n",
       "      <td>[worth money, price point, worth price, price ...</td>\n",
       "      <td>[0.03527634814381599, 0.016698149498552084, -0...</td>\n",
       "    </tr>\n",
       "    <tr>\n",
       "      <th>2</th>\n",
       "      <td>[bought gift, bought hd, purchased gift, got s...</td>\n",
       "      <td>[-0.0075700411573052405, 0.011954342387616635,...</td>\n",
       "    </tr>\n",
       "    <tr>\n",
       "      <th>3</th>\n",
       "      <td>[bought son, bought husband, ve bought, bought...</td>\n",
       "      <td>[0.03638896523043513, 0.0066331471782177685, -...</td>\n",
       "    </tr>\n",
       "    <tr>\n",
       "      <th>4</th>\n",
       "      <td>[volume buttons, power button, home screen]</td>\n",
       "      <td>[-0.04336073684195677, -0.017115998702744644, ...</td>\n",
       "    </tr>\n",
       "    <tr>\n",
       "      <th>5</th>\n",
       "      <td>[use time, ease use, use everyday, figure use,...</td>\n",
       "      <td>[0.021161016076803207, 0.015681715711252764, 0...</td>\n",
       "    </tr>\n",
       "    <tr>\n",
       "      <th>6</th>\n",
       "      <td>[couldn happier, meets needs, let know, look f...</td>\n",
       "      <td>[0.03414165154099465, -0.014147660648450255, -...</td>\n",
       "    </tr>\n",
       "    <tr>\n",
       "      <th>7</th>\n",
       "      <td>[years ago, months ago, earlier expected, coup...</td>\n",
       "      <td>[-0.024673844501376153, -0.0026353015564382076...</td>\n",
       "    </tr>\n",
       "    <tr>\n",
       "      <th>8</th>\n",
       "      <td>[read books, reading books, download books, re...</td>\n",
       "      <td>[-0.004771817309249725, 0.020882067187423154, ...</td>\n",
       "    </tr>\n",
       "    <tr>\n",
       "      <th>9</th>\n",
       "      <td>[watch movies, watching movies, movies tv, mov...</td>\n",
       "      <td>[-0.024579526856541634, -0.0075764037435874345...</td>\n",
       "    </tr>\n",
       "    <tr>\n",
       "      <th>10</th>\n",
       "      <td>[battery life, battery runs, battery doesn, sh...</td>\n",
       "      <td>[-0.010038580372929573, 0.0005230589769780636,...</td>\n",
       "    </tr>\n",
       "    <tr>\n",
       "      <th>11</th>\n",
       "      <td>[little tablet, tablet price, ipad mini, touch...</td>\n",
       "      <td>[0.043052554285774626, 0.020906602420533698, -...</td>\n",
       "    </tr>\n",
       "    <tr>\n",
       "      <th>12</th>\n",
       "      <td>[amazon account, amazon hd, amazon app store, ...</td>\n",
       "      <td>[0.025864041255166132, 0.04293150113274654, -0...</td>\n",
       "    </tr>\n",
       "    <tr>\n",
       "      <th>13</th>\n",
       "      <td>[sd card, sd slot, storage space, gb storage]</td>\n",
       "      <td>[0.03495426243171096, -0.058180863969027996, -...</td>\n",
       "    </tr>\n",
       "    <tr>\n",
       "      <th>14</th>\n",
       "      <td>[learning use, learn use, learning things, lot...</td>\n",
       "      <td>[0.015222462359815836, 0.027191931614652276, -...</td>\n",
       "    </tr>\n",
       "    <tr>\n",
       "      <th>15</th>\n",
       "      <td>[christmas gift, christmas present, gift son, ...</td>\n",
       "      <td>[0.011574966134503484, 0.03911410884133407, -0...</td>\n",
       "    </tr>\n",
       "    <tr>\n",
       "      <th>16</th>\n",
       "      <td>[rear camera, rear facing, facing camera, rear...</td>\n",
       "      <td>[0.055201626382768154, -0.06630698684602976, -...</td>\n",
       "    </tr>\n",
       "    <tr>\n",
       "      <th>17</th>\n",
       "      <td>[screen size, screen resolution, hd tablet, hd...</td>\n",
       "      <td>[0.025699661967034142, -0.05884442230065664, -...</td>\n",
       "    </tr>\n",
       "  </tbody>\n",
       "</table>\n",
       "</div>"
      ],
      "text/plain": [
       "                                                terms  \\\n",
       "0   [google play, app store, apps available, googl...   \n",
       "1   [worth money, price point, worth price, price ...   \n",
       "2   [bought gift, bought hd, purchased gift, got s...   \n",
       "3   [bought son, bought husband, ve bought, bought...   \n",
       "4         [volume buttons, power button, home screen]   \n",
       "5   [use time, ease use, use everyday, figure use,...   \n",
       "6   [couldn happier, meets needs, let know, look f...   \n",
       "7   [years ago, months ago, earlier expected, coup...   \n",
       "8   [read books, reading books, download books, re...   \n",
       "9   [watch movies, watching movies, movies tv, mov...   \n",
       "10  [battery life, battery runs, battery doesn, sh...   \n",
       "11  [little tablet, tablet price, ipad mini, touch...   \n",
       "12  [amazon account, amazon hd, amazon app store, ...   \n",
       "13      [sd card, sd slot, storage space, gb storage]   \n",
       "14  [learning use, learn use, learning things, lot...   \n",
       "15  [christmas gift, christmas present, gift son, ...   \n",
       "16  [rear camera, rear facing, facing camera, rear...   \n",
       "17  [screen size, screen resolution, hd tablet, hd...   \n",
       "\n",
       "                                              avg_emb  \n",
       "0   [-0.004011161458038259, -0.0006794111832277849...  \n",
       "1   [0.03527634814381599, 0.016698149498552084, -0...  \n",
       "2   [-0.0075700411573052405, 0.011954342387616635,...  \n",
       "3   [0.03638896523043513, 0.0066331471782177685, -...  \n",
       "4   [-0.04336073684195677, -0.017115998702744644, ...  \n",
       "5   [0.021161016076803207, 0.015681715711252764, 0...  \n",
       "6   [0.03414165154099465, -0.014147660648450255, -...  \n",
       "7   [-0.024673844501376153, -0.0026353015564382076...  \n",
       "8   [-0.004771817309249725, 0.020882067187423154, ...  \n",
       "9   [-0.024579526856541634, -0.0075764037435874345...  \n",
       "10  [-0.010038580372929573, 0.0005230589769780636,...  \n",
       "11  [0.043052554285774626, 0.020906602420533698, -...  \n",
       "12  [0.025864041255166132, 0.04293150113274654, -0...  \n",
       "13  [0.03495426243171096, -0.058180863969027996, -...  \n",
       "14  [0.015222462359815836, 0.027191931614652276, -...  \n",
       "15  [0.011574966134503484, 0.03911410884133407, -0...  \n",
       "16  [0.055201626382768154, -0.06630698684602976, -...  \n",
       "17  [0.025699661967034142, -0.05884442230065664, -...  "
      ]
     },
     "execution_count": 99,
     "metadata": {},
     "output_type": "execute_result"
    }
   ],
   "source": [
    "test_load = pickle.load(open(\"output/kindle_cluster_embs.pickle\", \"rb\"))\n",
    "test_load"
   ]
  },
  {
   "cell_type": "code",
   "execution_count": null,
   "metadata": {},
   "outputs": [],
   "source": []
  },
  {
   "cell_type": "code",
   "execution_count": null,
   "metadata": {},
   "outputs": [],
   "source": []
  },
  {
   "cell_type": "code",
   "execution_count": null,
   "metadata": {},
   "outputs": [],
   "source": [
    "####### corr\n",
    "corr = np.inner(embs,embs)"
   ]
  },
  {
   "cell_type": "code",
   "execution_count": null,
   "metadata": {},
   "outputs": [],
   "source": [
    "corr[7][26]"
   ]
  },
  {
   "cell_type": "code",
   "execution_count": null,
   "metadata": {},
   "outputs": [],
   "source": [
    "corr[corr<0]=0\n",
    "corr[corr>0.99]=0"
   ]
  },
  {
   "cell_type": "code",
   "execution_count": null,
   "metadata": {},
   "outputs": [],
   "source": [
    "result = np.where(corr == np.amax(corr))\n",
    "result[0]"
   ]
  },
  {
   "cell_type": "code",
   "execution_count": null,
   "metadata": {},
   "outputs": [],
   "source": [
    "n_sentence = len(terms)\n",
    "corr_maxes = np.amax(corr,axis=1)\n",
    "corr_mins = np.amin(corr,axis=1)\n",
    "avg_corr = sum(sum(corr))/n_sentence/n_sentence\n",
    "avg_max_corr = sum(corr_maxes) / n_sentence\n",
    "avg_min_corr = sum(corr_mins) / n_sentence\n",
    "print('avg max corr:{}, avg min corr:{}. avg corr:{}'.format(avg_max_corr, avg_min_corr, avg_corr))"
   ]
  },
  {
   "cell_type": "code",
   "execution_count": null,
   "metadata": {},
   "outputs": [],
   "source": []
  },
  {
   "cell_type": "code",
   "execution_count": null,
   "metadata": {},
   "outputs": [],
   "source": []
  },
  {
   "cell_type": "code",
   "execution_count": null,
   "metadata": {},
   "outputs": [],
   "source": []
  },
  {
   "cell_type": "code",
   "execution_count": null,
   "metadata": {},
   "outputs": [],
   "source": []
  },
  {
   "cell_type": "code",
   "execution_count": null,
   "metadata": {},
   "outputs": [],
   "source": []
  },
  {
   "cell_type": "code",
   "execution_count": null,
   "metadata": {},
   "outputs": [],
   "source": [
    "# Clustering\n",
    "time1 = time.time()\n",
    "db_w = DBSCAN(eps=0.25, metric='cosine').fit(embs)\n",
    "print('time for clustering sentence embeddings:', (time.time()-time1))\n",
    "# Get labels\n",
    "labels_w = db_w.labels_.tolist()\n",
    "key_words['label'] = labels_w\n",
    "key_words"
   ]
  },
  {
   "cell_type": "code",
   "execution_count": null,
   "metadata": {},
   "outputs": [],
   "source": []
  },
  {
   "cell_type": "code",
   "execution_count": null,
   "metadata": {},
   "outputs": [],
   "source": []
  },
  {
   "cell_type": "code",
   "execution_count": null,
   "metadata": {},
   "outputs": [],
   "source": [
    "import matplotlib.pyplot as plt\n",
    "import seaborn as sns\n",
    "\n",
    "def plot_similarity(labels, features, rotation):\n",
    "    corr = np.inner(features, features)\n",
    "    sns.set(font_scale=1.2)\n",
    "    g = sns.heatmap(\n",
    "      corr,\n",
    "      xticklabels=labels,\n",
    "      yticklabels=labels,\n",
    "      vmin=0,\n",
    "      vmax=1,\n",
    "      cmap=\"YlOrRd\")\n",
    "    g.set_xticklabels(labels, rotation=rotation)\n",
    "    g.set_title(\"Semantic Textual Similarity\")\n",
    "\n",
    "plot_similarity(np.array(key_words['term'].tolist()),np.array(key_words['embedding'].tolist()),90)"
   ]
  },
  {
   "cell_type": "code",
   "execution_count": null,
   "metadata": {},
   "outputs": [],
   "source": [
    "print(reviews['text'][1193])\n",
    "print(reviews['text'][1648])"
   ]
  },
  {
   "cell_type": "code",
   "execution_count": null,
   "metadata": {},
   "outputs": [],
   "source": [
    "corr_maxes = np.amax(corr,axis=1)\n",
    "corr_mins = np.amin(corr,axis=1)\n",
    "avg_corr = sum(sum(corr))/n_sentence/n_sentence\n",
    "avg_max_corr = sum(corr_maxes) / n_sentence\n",
    "avg_min_corr = sum(corr_mins) / n_sentence\n",
    "print('avg max corr:{}, avg min corr:{}. avg corr:{}'.format(avg_max_corr, avg_min_corr, avg_corr))"
   ]
  },
  {
   "cell_type": "code",
   "execution_count": null,
   "metadata": {},
   "outputs": [],
   "source": [
    "corr_min_of_max = np.amin(corr_maxes)\n",
    "corr_min_of_max"
   ]
  },
  {
   "cell_type": "code",
   "execution_count": null,
   "metadata": {},
   "outputs": [],
   "source": [
    "np.amax(corr)"
   ]
  },
  {
   "cell_type": "code",
   "execution_count": null,
   "metadata": {},
   "outputs": [],
   "source": [
    "labels = np.zeros(shape=n_sentence, dtype=np.int8)\n",
    "chain = np.zeros(shape=n_sentence, dtype=np.int8)\n",
    "\n",
    "the_line = 0.85#0.9*avg_max_corr+0.1*avg_corr\n",
    "the_line"
   ]
  },
  {
   "cell_type": "code",
   "execution_count": null,
   "metadata": {},
   "outputs": [],
   "source": [
    "np.where(corr > the_line)[0].shape[0]/(n_sentence*n_sentence)"
   ]
  },
  {
   "cell_type": "code",
   "execution_count": null,
   "metadata": {},
   "outputs": [],
   "source": [
    "pairs = np.where(corr > 0.85)"
   ]
  },
  {
   "cell_type": "code",
   "execution_count": null,
   "metadata": {},
   "outputs": [],
   "source": [
    "my_i=4\n",
    "print(reviews['text'][pairs[0][my_i]])\n",
    "print(reviews['text'][pairs[1][my_i]])"
   ]
  },
  {
   "cell_type": "code",
   "execution_count": null,
   "metadata": {},
   "outputs": [],
   "source": [
    "def find_close_pt_with_label(s): # s: the index of the sentence\n",
    "    for i in range(0, n_sentence):\n",
    "        if corr[s][i]>the_line and labels[i]!=0:\n",
    "            return i,labels[i]\n",
    "    return 0, 0\n",
    "\n",
    "def group_labels(labels):\n",
    "    clusters = []\n",
    "    for i in range(-1,np.amax(labels)):\n",
    "        index = np.where(labels == i)\n",
    "        clusters.append(index[0])\n",
    "    return clusters"
   ]
  },
  {
   "cell_type": "code",
   "execution_count": null,
   "metadata": {},
   "outputs": [],
   "source": [
    "label_count = 1\n",
    "current_label=0\n",
    "\n",
    "for i in range(0,n_sentence):\n",
    "    if np.amax(corr[i])<0.85:\n",
    "        labels[i] = -1 \n",
    "        continue\n",
    "    #######check if we should skip to next ####################\n",
    "    if labels[i]!= 0: # if i already has a label\n",
    "        continue\n",
    "    ######or need to find the current sentence a label########\n",
    "    else:\n",
    "        (index_, temp) = find_close_pt_with_label(i) # try to find i an existing label\n",
    "        if temp!=0:\n",
    "            labels[i] = temp\n",
    "            chain[i] = 1+chain[index_]\n",
    "            if chain[i]>1: #1: # does not allow 2+ chain\n",
    "                labels[i] = label_count\n",
    "                label_count = label_count+1\n",
    "        else:\n",
    "            labels[i] = label_count # else, assign a new label\n",
    "            label_count = label_count+1\n",
    "    ###### finished assigning the current sentence a label#########\n",
    "    \n",
    "    current_label = labels[i]\n",
    "    ###### move on to spread the label  ###########################\n",
    "    for j in range(i, n_sentence):\n",
    "        if labels[j]!=0: # if j already has a label\n",
    "            continue # skip\n",
    "        if corr[i][j]>the_line: # if sentence i is similar to sentence j enough\n",
    "            if labels[j]==0: # if sentence j doesn't have a label\n",
    "                labels[j] = current_label\n",
    "                "
   ]
  },
  {
   "cell_type": "code",
   "execution_count": null,
   "metadata": {},
   "outputs": [],
   "source": [
    "clusters = group_labels(labels)"
   ]
  },
  {
   "cell_type": "code",
   "execution_count": null,
   "metadata": {},
   "outputs": [],
   "source": [
    "len(clusters)"
   ]
  },
  {
   "cell_type": "code",
   "execution_count": null,
   "metadata": {},
   "outputs": [],
   "source": [
    "clusters"
   ]
  },
  {
   "cell_type": "code",
   "execution_count": null,
   "metadata": {},
   "outputs": [],
   "source": [
    "clusters[1].shape[0]"
   ]
  },
  {
   "cell_type": "code",
   "execution_count": null,
   "metadata": {},
   "outputs": [],
   "source": [
    "loose = []\n",
    "remove_group = []\n",
    "for i in range(0,len(clusters)):\n",
    "    if clusters[i].shape[0]<10:\n",
    "        for j in range(0,clusters[i].shape[0]):\n",
    "            loose.append(clusters[i][j])\n",
    "        remove_group.append(i)\n",
    "        \n",
    "loose = np.array(loose)"
   ]
  },
  {
   "cell_type": "code",
   "execution_count": null,
   "metadata": {},
   "outputs": [],
   "source": [
    "clusters = np.array(clusters)\n",
    "clusters = np.delete(clusters, remove_group, 0)\n",
    "clusters = clusters.tolist()\n",
    "clusters.append(loose)"
   ]
  },
  {
   "cell_type": "code",
   "execution_count": null,
   "metadata": {},
   "outputs": [],
   "source": [
    "clusters"
   ]
  },
  {
   "cell_type": "code",
   "execution_count": null,
   "metadata": {},
   "outputs": [],
   "source": [
    "##############save##############\n",
    "product_title='Fire HD'\n",
    "params='greedy-cosine'\n",
    "dir1 = save_results_dir(product_title,'similarity',params+'/sentence')\n",
    "make_or_clean_dir(dir1)\n",
    "for i in range(0,len(clusters)):    \n",
    "    temp = reviews.loc[clusters[i].tolist(),['text']]\n",
    "    file_name = str(i)+'.txt'\n",
    "    np.savetxt(r''+dir1+file_name, temp.values, fmt='%s')\n",
    "\n",
    "#################################"
   ]
  },
  {
   "cell_type": "code",
   "execution_count": null,
   "metadata": {},
   "outputs": [],
   "source": [
    "pca = dc.PCA(n_components=10)\n",
    "pca.fit(X1)\n",
    "X1 = pca.transform(X1)\n",
    "\n",
    "pca = dc.PCA(n_components=10)\n",
    "pca.fit(X2)\n",
    "X2 = pca.transform(X2)\n",
    "\n",
    "n_sentence = len(X2.tolist())\n",
    "import math\n",
    "n_min_pts = math.ceil(n_sentence*0.01)\n",
    "\n",
    "print('number of sentences:{}, min points:{}'.format(n_sentence,n_min_pts))"
   ]
  },
  {
   "cell_type": "code",
   "execution_count": null,
   "metadata": {},
   "outputs": [],
   "source": [
    "import matplotlib.pyplot as plt\n",
    "import seaborn as sns\n",
    "\n",
    "def plot_similarity(labels, features, rotation):\n",
    "    corr = np.inner(features, features)\n",
    "    sns.set(font_scale=1.2)\n",
    "    g = sns.heatmap(\n",
    "      corr,\n",
    "      xticklabels=labels,\n",
    "      yticklabels=labels,\n",
    "      vmin=0,\n",
    "      vmax=1,\n",
    "      cmap=\"YlOrRd\")\n",
    "    g.set_xticklabels(labels, rotation=rotation)\n",
    "    g.set_title(\"Semantic Textual Similarity\")\n",
    "\n",
    "plot_similarity(np.array(reviews['text'].tolist())[0:50],np.array(reviews['sentence_embedding'].tolist())[0:50],90)"
   ]
  },
  {
   "cell_type": "code",
   "execution_count": null,
   "metadata": {},
   "outputs": [],
   "source": [
    "label_s = np.array([])\n",
    "label_w = np.array([])\n",
    "\n",
    "\n",
    "def cluster_number(labels):\n",
    "    return (len(set(labels)) - (1 if -1 in labels else 0))\n",
    "\n"
   ]
  },
  {
   "cell_type": "code",
   "execution_count": null,
   "metadata": {},
   "outputs": [],
   "source": [
    "print('total sentences:',len(list(labels_s)))\n",
    "print('clusters for sentences:',n_sentence, 'noise:',list(labels_s).count(-1))\n",
    "print('clusters for words:',n_words, 'noise:',list(labels_w).count(-1))"
   ]
  },
  {
   "cell_type": "code",
   "execution_count": null,
   "metadata": {},
   "outputs": [],
   "source": [
    "def save_results_dir(product_name, method, params):\n",
    "    dir_pre = '/home/betty35/桌面/Capstone/workspace/data_testing/output/'\n",
    "    dir_ = dir_pre+product_name+'/'+method+'/'+params+'/'\n",
    "    return dir_\n",
    "\n",
    "\n",
    "def make_dir(dir_):\n",
    "    if not os.path.exists(dir_):\n",
    "        try:\n",
    "            os.makedirs(dir_)\n",
    "        except FileExistsError:\n",
    "            pass\n",
    "\n",
    "def clean_dir(dir_):\n",
    "    for file_ in os.listdir(dir_):\n",
    "        file_dir = os.path.join(dir_, file_)\n",
    "        try:\n",
    "            if os.path.isfile(file_dir):\n",
    "                os.unlink(file_dir)\n",
    "            elif os.path.isdir(file_dir): shutil.rmtree(file_dir)\n",
    "        except Exception as e:\n",
    "            print(e)\n",
    "\n",
    "def make_or_clean_dir(dir_):\n",
    "    make_dir(dir_)\n",
    "    clean_dir(dir_)\n",
    "    "
   ]
  },
  {
   "cell_type": "code",
   "execution_count": null,
   "metadata": {},
   "outputs": [],
   "source": [
    "product_title='Fire HD'\n",
    "params='0.27-PCA10'\n",
    "dir1 = save_results_dir(product_title,'dbscan',params+'/sentence')\n",
    "make_or_clean_dir(dir1)\n",
    "for i in range(0,n_sentence):    \n",
    "    temp = reviews.loc[reviews['label_db_sentence']==i,['text']]\n",
    "    file_name = str(i)+'.txt'\n",
    "    np.savetxt(r''+dir1+file_name, temp.values, fmt='%s')\n",
    "\n",
    "noise_s = temp = reviews.loc[reviews['label_db_sentence']==-1,['text']] \n",
    "np.savetxt(r''+dir1+'noise.txt', temp.values, fmt='%s')\n",
    "\n",
    "dir1 = save_results_dir(product_title,'dbscan',params+'/word')\n",
    "make_or_clean_dir(dir1)\n",
    "for i in range(0,n_words):\n",
    "    temp = reviews.loc[reviews['label_db_word']==i,['text']]\n",
    "    file_name = str(i)+'.txt'\n",
    "    np.savetxt(r''+dir1+file_name, temp.values, fmt='%s')\n",
    "noise_s = temp = reviews.loc[reviews['label_db_word']==-1,['text']] \n",
    "np.savetxt(r''+dir1+'noise.txt', temp.values, fmt='%s')"
   ]
  },
  {
   "cell_type": "code",
   "execution_count": null,
   "metadata": {},
   "outputs": [],
   "source": [
    "def cal_distance(X250):\n",
    "    "
   ]
  }
 ],
 "metadata": {
  "kernelspec": {
   "display_name": "Python 3",
   "language": "python",
   "name": "python3"
  },
  "language_info": {
   "codemirror_mode": {
    "name": "ipython",
    "version": 3
   },
   "file_extension": ".py",
   "mimetype": "text/x-python",
   "name": "python",
   "nbconvert_exporter": "python",
   "pygments_lexer": "ipython3",
   "version": "3.7.3"
  }
 },
 "nbformat": 4,
 "nbformat_minor": 2
}
