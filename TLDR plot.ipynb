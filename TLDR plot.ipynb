{
 "cells": [
  {
   "cell_type": "code",
   "execution_count": 1,
   "metadata": {},
   "outputs": [],
   "source": [
    "import pandas as pd\n",
    "import re\n",
    "import time\n",
    "import matplotlib.pyplot as plt\n",
    "import numpy as np\n",
    "\n",
    "i=0 ## batch counter\n",
    "\n",
    "n=10000"
   ]
  },
  {
   "cell_type": "code",
   "execution_count": 2,
   "metadata": {},
   "outputs": [
    {
     "name": "stdout",
     "output_type": "stream",
     "text": [
      "currently processing:  0\n",
      "currently processing:  50\n",
      "currently processing:  100\n",
      "currently processing:  150\n",
      "currently processing:  200\n",
      "currently processing:  250\n",
      "currently processing:  300\n",
      "currently processing:  350\n",
      "Done processing with length.\n"
     ]
    }
   ],
   "source": [
    "chunks = pd.read_json(\"downloads/corpus-webis-tldr-17.json\", lines=True, chunksize = n,encoding='utf-8')\n",
    "for c in chunks:\n",
    "    if i%n == 0:\n",
    "        if i ==0:\n",
    "            df = c.loc[:,['content_len','summary_len','id','subreddit','subreddit_id','title']].reset_index(drop=True)\n",
    "    else:\n",
    "        df = df.append(c.loc[:,['content_len','summary_len','id','subreddit','subreddit_id','title']]\n",
    "                       ,ignore_index=True)\n",
    "    if i % 50 ==0:\n",
    "        print('currently processing: ', i)\n",
    "    i=i+1\n",
    "### save the last one\n",
    "print('Done processing with length.')"
   ]
  },
  {
   "cell_type": "code",
   "execution_count": 3,
   "metadata": {},
   "outputs": [
    {
     "data": {
      "text/plain": [
       "3848330"
      ]
     },
     "execution_count": 3,
     "metadata": {},
     "output_type": "execute_result"
    }
   ],
   "source": [
    "lines = len(df)\n",
    "lines"
   ]
  },
  {
   "cell_type": "code",
   "execution_count": 4,
   "metadata": {},
   "outputs": [],
   "source": [
    "import matplotlib as mpl\n",
    "import matplotlib.pyplot as plt"
   ]
  },
  {
   "cell_type": "code",
   "execution_count": 23,
   "metadata": {},
   "outputs": [
    {
     "data": {
      "text/plain": [
       "Text(0, 0.5, 'Frequency')"
      ]
     },
     "execution_count": 23,
     "metadata": {},
     "output_type": "execute_result"
    },
    {
     "data": {
      "image/png": "[encoded data removed]",
      "text/plain": [
       "<Figure size 432x288 with 1 Axes>"
      ]
     },
     "metadata": {
      "needs_background": "light"
     },
     "output_type": "display_data"
    }
   ],
   "source": [
    "df['content_len'].plot.hist(grid=True, bins=1000,color='#607c8e',logx = True)\n",
    "plt.title('Histogram of content length')\n",
    "plt.xlabel('Words (log)')\n",
    "plt.ylabel('Frequency')"
   ]
  },
  {
   "cell_type": "code",
   "execution_count": 24,
   "metadata": {},
   "outputs": [
    {
     "data": {
      "text/plain": [
       "Text(0, 0.5, 'Frequency')"
      ]
     },
     "execution_count": 24,
     "metadata": {},
     "output_type": "execute_result"
    },
    {
     "data": {
      "image/png": "[encoded data removed]",
      "text/plain": [
       "<Figure size 432x288 with 1 Axes>"
      ]
     },
     "metadata": {
      "needs_background": "light"
     },
     "output_type": "display_data"
    }
   ],
   "source": [
    "df['summary_len'].plot.hist(grid=True, bins=1000,color='#7c9ed3',logx = True)\n",
    "plt.title('Histogram of summary length')\n",
    "plt.xlabel('Words (log)')\n",
    "plt.ylabel('Frequency')"
   ]
  },
  {
   "cell_type": "code",
   "execution_count": 25,
   "metadata": {},
   "outputs": [
    {
     "data": {
      "text/plain": [
       "count    3848330.000000\n",
       "mean         271.930963\n",
       "std          273.008506\n",
       "min            2.000000\n",
       "25%          106.000000\n",
       "50%          189.000000\n",
       "75%          341.000000\n",
       "max         9952.000000\n",
       "Name: content_len, dtype: object"
      ]
     },
     "execution_count": 25,
     "metadata": {},
     "output_type": "execute_result"
    }
   ],
   "source": [
    "df['content_len'].describe(include='all').apply(lambda x: format(x, 'f'))"
   ]
  },
  {
   "cell_type": "code",
   "execution_count": 26,
   "metadata": {},
   "outputs": [
    {
     "data": {
      "text/plain": [
       "count    3848330.000000\n",
       "mean          26.169619\n",
       "std           33.170301\n",
       "min            1.000000\n",
       "25%           10.000000\n",
       "50%           18.000000\n",
       "75%           31.000000\n",
       "max         3525.000000\n",
       "Name: summary_len, dtype: object"
      ]
     },
     "execution_count": 26,
     "metadata": {},
     "output_type": "execute_result"
    }
   ],
   "source": [
    "df['summary_len'].describe(include='all').apply(lambda x: format(x, 'f'))"
   ]
  },
  {
   "cell_type": "code",
   "execution_count": 28,
   "metadata": {},
   "outputs": [
    {
     "data": {
      "text/html": [
       "<div>\n",
       "<style scoped>\n",
       "    .dataframe tbody tr th:only-of-type {\n",
       "        vertical-align: middle;\n",
       "    }\n",
       "\n",
       "    .dataframe tbody tr th {\n",
       "        vertical-align: top;\n",
       "    }\n",
       "\n",
       "    .dataframe thead th {\n",
       "        text-align: right;\n",
       "    }\n",
       "</style>\n",
       "<table border=\"1\" class=\"dataframe\">\n",
       "  <thead>\n",
       "    <tr style=\"text-align: right;\">\n",
       "      <th></th>\n",
       "      <th>content_len</th>\n",
       "      <th>summary_len</th>\n",
       "      <th>id</th>\n",
       "      <th>subreddit</th>\n",
       "      <th>subreddit_id</th>\n",
       "      <th>title</th>\n",
       "    </tr>\n",
       "  </thead>\n",
       "  <tbody>\n",
       "    <tr>\n",
       "      <th>0</th>\n",
       "      <td>178</td>\n",
       "      <td>8</td>\n",
       "      <td>c69al3r</td>\n",
       "      <td>math</td>\n",
       "      <td>t5_2qh0n</td>\n",
       "      <td>NaN</td>\n",
       "    </tr>\n",
       "    <tr>\n",
       "      <th>1</th>\n",
       "      <td>148</td>\n",
       "      <td>4</td>\n",
       "      <td>c6a9nxd</td>\n",
       "      <td>funny</td>\n",
       "      <td>t5_2qh33</td>\n",
       "      <td>NaN</td>\n",
       "    </tr>\n",
       "    <tr>\n",
       "      <th>2</th>\n",
       "      <td>76</td>\n",
       "      <td>73</td>\n",
       "      <td>c6acx4l</td>\n",
       "      <td>Borderlands</td>\n",
       "      <td>t5_2r8cd</td>\n",
       "      <td>NaN</td>\n",
       "    </tr>\n",
       "    <tr>\n",
       "      <th>3</th>\n",
       "      <td>213</td>\n",
       "      <td>19</td>\n",
       "      <td>c8onqew</td>\n",
       "      <td>gamingpc</td>\n",
       "      <td>t5_2sq2y</td>\n",
       "      <td>NaN</td>\n",
       "    </tr>\n",
       "    <tr>\n",
       "      <th>4</th>\n",
       "      <td>404</td>\n",
       "      <td>7</td>\n",
       "      <td>c6acxvc</td>\n",
       "      <td>Diablo</td>\n",
       "      <td>t5_2qore</td>\n",
       "      <td>D2 help?</td>\n",
       "    </tr>\n",
       "  </tbody>\n",
       "</table>\n",
       "</div>"
      ],
      "text/plain": [
       "   content_len  summary_len       id    subreddit subreddit_id     title\n",
       "0          178            8  c69al3r         math     t5_2qh0n       NaN\n",
       "1          148            4  c6a9nxd        funny     t5_2qh33       NaN\n",
       "2           76           73  c6acx4l  Borderlands     t5_2r8cd       NaN\n",
       "3          213           19  c8onqew     gamingpc     t5_2sq2y       NaN\n",
       "4          404            7  c6acxvc       Diablo     t5_2qore  D2 help?"
      ]
     },
     "execution_count": 28,
     "metadata": {},
     "output_type": "execute_result"
    }
   ],
   "source": [
    "df.head()"
   ]
  },
  {
   "cell_type": "code",
   "execution_count": 30,
   "metadata": {},
   "outputs": [
    {
     "data": {
      "text/html": [
       "<div>\n",
       "<style scoped>\n",
       "    .dataframe tbody tr th:only-of-type {\n",
       "        vertical-align: middle;\n",
       "    }\n",
       "\n",
       "    .dataframe tbody tr th {\n",
       "        vertical-align: top;\n",
       "    }\n",
       "\n",
       "    .dataframe thead th {\n",
       "        text-align: right;\n",
       "    }\n",
       "</style>\n",
       "<table border=\"1\" class=\"dataframe\">\n",
       "  <thead>\n",
       "    <tr style=\"text-align: right;\">\n",
       "      <th></th>\n",
       "      <th>id</th>\n",
       "      <th>subreddit</th>\n",
       "    </tr>\n",
       "  </thead>\n",
       "  <tbody>\n",
       "    <tr>\n",
       "      <th>0</th>\n",
       "      <td>c69al3r</td>\n",
       "      <td>math</td>\n",
       "    </tr>\n",
       "    <tr>\n",
       "      <th>1</th>\n",
       "      <td>c6a9nxd</td>\n",
       "      <td>funny</td>\n",
       "    </tr>\n",
       "    <tr>\n",
       "      <th>2</th>\n",
       "      <td>c6acx4l</td>\n",
       "      <td>Borderlands</td>\n",
       "    </tr>\n",
       "    <tr>\n",
       "      <th>3</th>\n",
       "      <td>c8onqew</td>\n",
       "      <td>gamingpc</td>\n",
       "    </tr>\n",
       "    <tr>\n",
       "      <th>4</th>\n",
       "      <td>c6acxvc</td>\n",
       "      <td>Diablo</td>\n",
       "    </tr>\n",
       "  </tbody>\n",
       "</table>\n",
       "</div>"
      ],
      "text/plain": [
       "        id    subreddit\n",
       "0  c69al3r         math\n",
       "1  c6a9nxd        funny\n",
       "2  c6acx4l  Borderlands\n",
       "3  c8onqew     gamingpc\n",
       "4  c6acxvc       Diablo"
      ]
     },
     "execution_count": 30,
     "metadata": {},
     "output_type": "execute_result"
    }
   ],
   "source": [
    "id_ = df.loc[:,['id','subreddit']]\n",
    "id_.head()"
   ]
  },
  {
   "cell_type": "code",
   "execution_count": 32,
   "metadata": {},
   "outputs": [],
   "source": [
    "sub = id_.groupby(['subreddit']).count()"
   ]
  },
  {
   "cell_type": "code",
   "execution_count": 39,
   "metadata": {},
   "outputs": [
    {
     "data": {
      "text/html": [
       "<div>\n",
       "<style scoped>\n",
       "    .dataframe tbody tr th:only-of-type {\n",
       "        vertical-align: middle;\n",
       "    }\n",
       "\n",
       "    .dataframe tbody tr th {\n",
       "        vertical-align: top;\n",
       "    }\n",
       "\n",
       "    .dataframe thead th {\n",
       "        text-align: right;\n",
       "    }\n",
       "</style>\n",
       "<table border=\"1\" class=\"dataframe\">\n",
       "  <thead>\n",
       "    <tr style=\"text-align: right;\">\n",
       "      <th></th>\n",
       "      <th>id</th>\n",
       "    </tr>\n",
       "    <tr>\n",
       "      <th>subreddit</th>\n",
       "      <th></th>\n",
       "    </tr>\n",
       "  </thead>\n",
       "  <tbody>\n",
       "    <tr>\n",
       "      <th>AskReddit</th>\n",
       "      <td>589947</td>\n",
       "    </tr>\n",
       "    <tr>\n",
       "      <th>relationships</th>\n",
       "      <td>352049</td>\n",
       "    </tr>\n",
       "    <tr>\n",
       "      <th>leagueoflegends</th>\n",
       "      <td>109307</td>\n",
       "    </tr>\n",
       "    <tr>\n",
       "      <th>tifu</th>\n",
       "      <td>52219</td>\n",
       "    </tr>\n",
       "    <tr>\n",
       "      <th>relationship_advice</th>\n",
       "      <td>50416</td>\n",
       "    </tr>\n",
       "    <tr>\n",
       "      <th>trees</th>\n",
       "      <td>47286</td>\n",
       "    </tr>\n",
       "    <tr>\n",
       "      <th>gaming</th>\n",
       "      <td>43851</td>\n",
       "    </tr>\n",
       "    <tr>\n",
       "      <th>atheism</th>\n",
       "      <td>43268</td>\n",
       "    </tr>\n",
       "    <tr>\n",
       "      <th>AdviceAnimals</th>\n",
       "      <td>40783</td>\n",
       "    </tr>\n",
       "    <tr>\n",
       "      <th>funny</th>\n",
       "      <td>40171</td>\n",
       "    </tr>\n",
       "    <tr>\n",
       "      <th>politics</th>\n",
       "      <td>36518</td>\n",
       "    </tr>\n",
       "    <tr>\n",
       "      <th>pics</th>\n",
       "      <td>35098</td>\n",
       "    </tr>\n",
       "    <tr>\n",
       "      <th>sex</th>\n",
       "      <td>28806</td>\n",
       "    </tr>\n",
       "    <tr>\n",
       "      <th>WTF</th>\n",
       "      <td>25781</td>\n",
       "    </tr>\n",
       "    <tr>\n",
       "      <th>explainlikeimfive</th>\n",
       "      <td>25482</td>\n",
       "    </tr>\n",
       "    <tr>\n",
       "      <th>todayilearned</th>\n",
       "      <td>25004</td>\n",
       "    </tr>\n",
       "    <tr>\n",
       "      <th>Fitness</th>\n",
       "      <td>22694</td>\n",
       "    </tr>\n",
       "    <tr>\n",
       "      <th>IAmA</th>\n",
       "      <td>22689</td>\n",
       "    </tr>\n",
       "    <tr>\n",
       "      <th>worldnews</th>\n",
       "      <td>22577</td>\n",
       "    </tr>\n",
       "    <tr>\n",
       "      <th>DotA2</th>\n",
       "      <td>22405</td>\n",
       "    </tr>\n",
       "  </tbody>\n",
       "</table>\n",
       "</div>"
      ],
      "text/plain": [
       "                         id\n",
       "subreddit                  \n",
       "AskReddit            589947\n",
       "relationships        352049\n",
       "leagueoflegends      109307\n",
       "tifu                  52219\n",
       "relationship_advice   50416\n",
       "trees                 47286\n",
       "gaming                43851\n",
       "atheism               43268\n",
       "AdviceAnimals         40783\n",
       "funny                 40171\n",
       "politics              36518\n",
       "pics                  35098\n",
       "sex                   28806\n",
       "WTF                   25781\n",
       "explainlikeimfive     25482\n",
       "todayilearned         25004\n",
       "Fitness               22694\n",
       "IAmA                  22689\n",
       "worldnews             22577\n",
       "DotA2                 22405"
      ]
     },
     "execution_count": 39,
     "metadata": {},
     "output_type": "execute_result"
    }
   ],
   "source": [
    "sub = sub.sort_values('id', ascending=False)\n",
    "sub[:20]"
   ]
  },
  {
   "cell_type": "code",
   "execution_count": 100,
   "metadata": {},
   "outputs": [
    {
     "data": {
      "text/plain": [
       "count     29650.000000\n",
       "mean        129.787319\n",
       "std        4169.846651\n",
       "min           1.000000\n",
       "25%           1.000000\n",
       "50%           2.000000\n",
       "75%           9.000000\n",
       "max      589947.000000\n",
       "Name: id, dtype: object"
      ]
     },
     "execution_count": 100,
     "metadata": {},
     "output_type": "execute_result"
    }
   ],
   "source": [
    "sub['id'].describe(include='all').apply(lambda x: format(x, 'f'))"
   ]
  },
  {
   "cell_type": "code",
   "execution_count": 93,
   "metadata": {},
   "outputs": [],
   "source": [
    "labels_sub = sub.index[:30].tolist()\n",
    "counts_sub = sub['id'][:10].tolist()\n",
    "labels_sub.append('others')\n",
    "other_counts = np.array(sub['id'][10:].tolist())\n",
    "all_others = other_counts.sum()\n",
    "counts_sub.append(all_others)"
   ]
  },
  {
   "cell_type": "code",
   "execution_count": 97,
   "metadata": {},
   "outputs": [
    {
     "data": {
      "image/png": "[encoded data removed]",
      "text/plain": [
       "<Figure size 432x288 with 1 Axes>"
      ]
     },
     "metadata": {},
     "output_type": "display_data"
    },
    {
     "data": {
      "text/plain": [
       "<Figure size 1440x1080 with 0 Axes>"
      ]
     },
     "metadata": {},
     "output_type": "display_data"
    }
   ],
   "source": [
    "from matplotlib import cm\n",
    "\n",
    "cs=cm.twilight(np.arange(21)*45)\n",
    "\n",
    "fig1, ax1 = plt.subplots()\n",
    "wedges, texts, autotexts = ax1.pie(counts_sub, autopct='%1.1f%%',\n",
    "        shadow=True, startangle=90, colors = cs)\n",
    "ax1.axis('equal')  # Equal aspect ratio ensures that pie is drawn as a circle.\n",
    "ax1.legend(wedges, labels_sub,\n",
    "          title=\"Subreddit\",\n",
    "          loc=\"center left\",\n",
    "          bbox_to_anchor=(1, 0, 0.5, 1))\n",
    "plt.figure(figsize=(20,15))\n",
    "plt.show()\n"
   ]
  },
  {
   "cell_type": "code",
   "execution_count": 101,
   "metadata": {},
   "outputs": [
    {
     "data": {
      "image/png": "[encoded data removed]",
      "text/plain": [
       "<Figure size 432x288 with 1 Axes>"
      ]
     },
     "metadata": {},
     "output_type": "display_data"
    },
    {
     "data": {
      "text/plain": [
       "<Figure size 1440x1080 with 0 Axes>"
      ]
     },
     "metadata": {},
     "output_type": "display_data"
    }
   ],
   "source": [
    "labels_sub = ['top 100','others']\n",
    "counts_sub = [np.array(sub['id'][:100].tolist()).sum(),np.array(sub['id'][100:].tolist()).sum()]\n",
    "\n",
    "cs=cm.twilight(np.arange(2)*100)\n",
    "\n",
    "fig1, ax1 = plt.subplots()\n",
    "wedges, texts, autotexts = ax1.pie(counts_sub, labels = labels_sub, autopct='%1.1f%%',\n",
    "        shadow=True, startangle=90, colors = cs)\n",
    "ax1.axis('equal')  # Equal aspect ratio ensures that pie is drawn as a circle.\n",
    "plt.figure(figsize=(20,15))\n",
    "plt.show()\n"
   ]
  },
  {
   "cell_type": "code",
   "execution_count": null,
   "metadata": {},
   "outputs": [],
   "source": []
  }
 ],
 "metadata": {
  "kernelspec": {
   "display_name": "Python 3",
   "language": "python",
   "name": "python3"
  },
  "language_info": {
   "codemirror_mode": {
    "name": "ipython",
    "version": 3
   },
   "file_extension": ".py",
   "mimetype": "text/x-python",
   "name": "python",
   "nbconvert_exporter": "python",
   "pygments_lexer": "ipython3",
   "version": "3.7.3"
  }
 },
 "nbformat": 4,
 "nbformat_minor": 2
}
