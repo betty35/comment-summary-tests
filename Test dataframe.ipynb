{
 "cells": [
  {
   "cell_type": "markdown",
   "metadata": {},
   "source": [
    "# Page for trying out the data"
   ]
  },
  {
   "cell_type": "code",
   "execution_count": null,
   "metadata": {},
   "outputs": [],
   "source": [
    "import pandas as pd\n",
    "import time\n",
    "import nltk\n",
    "import re\n",
    "import tensorflow as tf\n",
    "import tensorflow_hub as hub\n",
    "import numpy as np  \n",
    "from sklearn.cluster import KMeans  "
   ]
  },
  {
   "cell_type": "code",
   "execution_count": null,
   "metadata": {},
   "outputs": [],
   "source": [
    "df1 = pd.read_csv('amazon_reviews_us_Mobile_Electronics_v1_00.tsv',sep=\"\\t\", error_bad_lines=False)\n",
    "# bad lines exist......"
   ]
  },
  {
   "cell_type": "markdown",
   "metadata": {},
   "source": [
    "### DATA COLUMNS:\n",
    "marketplace       - 2 letter country code of the marketplace where the review was written.  \n",
    "customer_id       - Random identifier that can be used to aggregate reviews written by a single author.  \n",
    "review_id         - The unique ID of the review.  \n",
    "product_id        - The unique Product ID the review pertains to. In the multilingual dataset the reviews\n",
    "                    for the same product in different countries can be grouped by the same product_id.  \n",
    "product_parent    - Random identifier that can be used to aggregate reviews for the same product.  \n",
    "product_title     - Title of the product.  \n",
    "product_category  - Broad product category that can be used to group reviews  \n",
    "                    (also used to group the dataset into coherent parts).  \n",
    "star_rating       - The 1-5 star rating of the review.  \n",
    "helpful_votes     - Number of helpful votes.  \n",
    "total_votes       - Number of total votes the review received.  \n",
    "vine              - Review was written as part of the Vine program.  \n",
    "verified_purchase - The review is on a verified purchase.  \n",
    "review_headline   - The title of the review.  \n",
    "review_body       - The review text.  \n",
    "review_date       - The date the review was written.  "
   ]
  },
  {
   "cell_type": "markdown",
   "metadata": {},
   "source": [
    "Filter out the ones not versified and get a subset of the data"
   ]
  },
  {
   "cell_type": "code",
   "execution_count": null,
   "metadata": {},
   "outputs": [],
   "source": [
    "df1 = df1.loc[df1['verified_purchase']=='Y',['review_id', 'product_id', 'product_title', 'helpful_votes','review_headline', 'review_body']]\n",
    "df1['product_id'].nunique()"
   ]
  },
  {
   "cell_type": "markdown",
   "metadata": {},
   "source": [
    "Get a list of products that are with at least 200 reviews"
   ]
  },
  {
   "cell_type": "code",
   "execution_count": null,
   "metadata": {},
   "outputs": [],
   "source": [
    "count_df = df1.groupby('product_id').count()\n",
    "count_df = count_df['review_id']\n",
    "\n",
    "print('mean count:', count_df.mean(),'; max count:',count_df.max())\n",
    "\n",
    "count_df = count_df.loc[lambda x: x>=200]\n",
    "count_df = count_df.sort_values(ascending=False)\n",
    "\n",
    "product_list = count_df.index.values.tolist()"
   ]
  },
  {
   "cell_type": "code",
   "execution_count": null,
   "metadata": {},
   "outputs": [],
   "source": [
    "df1 = df1[df1['product_id'].isin(product_list)]\n",
    "\n",
    "df1[0:5]"
   ]
  },
  {
   "cell_type": "markdown",
   "metadata": {},
   "source": [
    "Test on one product. Get the reviews for one product"
   ]
  },
  {
   "cell_type": "code",
   "execution_count": null,
   "metadata": {},
   "outputs": [],
   "source": [
    "reviews = df1[df1['product_id']==product_list[10]]#.drop(columns=['review_id','product_title','product_id'])\n",
    "reviews = reviews['review_body']\n",
    "\n",
    "reviews = reviews.str.replace('<br />','')\n",
    "\n",
    "def remove_consecutive(text):\n",
    "    one = re.sub(r\"([eoEO])\\1\\1+\",r\"\\1\\1\",text)\n",
    "    return re.sub(r\"([^eoEO])\\1\\1+\",r\"\\1\",one)\n",
    "\n",
    "reviews = pd.Series(list(map(remove_consecutive,reviews)))"
   ]
  },
  {
   "cell_type": "code",
   "execution_count": null,
   "metadata": {},
   "outputs": [],
   "source": [
    "reviews = reviews.str.split(\"[.!?]+\",expand=True).stack().reset_index() # split sentences\n",
    "\n",
    "#remove empty lines\n",
    "reviews['word_count'] = reviews[0].str.split().apply(len)#.strip().apply(len)\n",
    "reviews = reviews.loc[reviews['word_count']>4,[0]]\n",
    "\n",
    "reviews['text'] = reviews[0].str.strip()\n",
    "reviews = reviews.drop(columns=0)"
   ]
  },
  {
   "cell_type": "code",
   "execution_count": null,
   "metadata": {},
   "outputs": [],
   "source": [
    "# Part of speech tagging\n",
    "reviews['POS'] = reviews['text'].apply(nltk.word_tokenize).apply(nltk.pos_tag)\n",
    "\n",
    "def getMainWords(pos):\n",
    "    result = '';\n",
    "    for x in pos:\n",
    "        if x[1][0:2] in ['NN','VB']:\n",
    "            result= result+x[0]+' '\n",
    "    if len(result)>0:\n",
    "        result= result[0:len(result)-1]\n",
    "    return result\n",
    "\n",
    "reviews['main'] = list(map(getMainWords,reviews['POS']))"
   ]
  },
  {
   "cell_type": "code",
   "execution_count": null,
   "metadata": {},
   "outputs": [],
   "source": [
    "reviews = reviews.loc[reviews['main'].apply(len)>0,['text','main']] #filtering out sentences without any nouns or verbs\n",
    "\n",
    "reviews = reviews.reset_index(drop=True)# reset index"
   ]
  },
  {
   "cell_type": "markdown",
   "metadata": {},
   "source": [
    "Word Embedding / Sentence Embedding"
   ]
  },
  {
   "cell_type": "code",
   "execution_count": null,
   "metadata": {},
   "outputs": [],
   "source": [
    "# Load google Universal Sentence Encoder\n",
    "module_dir = \"downloads/encoder\"\n",
    "embed = hub.Module(module_dir)"
   ]
  },
  {
   "cell_type": "code",
   "execution_count": null,
   "metadata": {},
   "outputs": [],
   "source": [
    "with tf.Session() as session:\n",
    "    session.run([tf.global_variables_initializer(), tf.tables_initializer()])\n",
    "    start_time=time.time()\n",
    "    reviews['sentence_embedding'] = pd.Series(list(session.run(embed(list(reviews['text'])))))\n",
    "    end_time1=time.time()\n",
    "    reviews['words_embedding'] = pd.Series(list(session.run(embed(list(reviews['main'])))))\n",
    "    end_time2=time.time()\n",
    "    print('time1:',(end_time1-start_time),' time2:',(end_time2-end_time1))"
   ]
  },
  {
   "cell_type": "code",
   "execution_count": null,
   "metadata": {},
   "outputs": [],
   "source": [
    "reviews"
   ]
  },
  {
   "cell_type": "code",
   "execution_count": null,
   "metadata": {},
   "outputs": [],
   "source": [
    "# Preparing datasets\n",
    "X1 = np.array(reviews['sentence_embedding'].tolist())\n",
    "X2 = np.array(reviews['words_embedding'].tolist())"
   ]
  },
  {
   "cell_type": "code",
   "execution_count": null,
   "metadata": {},
   "outputs": [],
   "source": [
    "# Clustering\n",
    "km_s = KMeans(n_clusters=10)  \n",
    "km_s.fit(X1)\n",
    "\n",
    "km_w = KMeans(n_clusters=10)\n",
    "km_w.fit(X2)\n",
    "\n"
   ]
  },
  {
   "cell_type": "code",
   "execution_count": null,
   "metadata": {},
   "outputs": [],
   "source": [
    "# Get labels\n",
    "reviews['label_km_sentence'] = km_s.labels_.tolist()\n",
    "reviews['label_km_word'] = km_w.labels_.tolist()"
   ]
  },
  {
   "cell_type": "code",
   "execution_count": null,
   "metadata": {},
   "outputs": [],
   "source": [
    "# Save results\n",
    "result_save = '';\n",
    "\n",
    "for i in range(0,9):\n",
    "    temp = reviews.loc[reviews['label_km_sentence']==i,['text']]\n",
    "    temp2 = reviews.loc[reviews['label_km_word']==i,['text']]\n",
    "    file_name = 'km10/sentence/'+str(i)+'.txt'\n",
    "    file_name2 = 'km10/word/'+str(i)+'.txt'\n",
    "    np.savetxt(r'/home/betty35/桌面/Capstone/workspace/data_testing/output/'+file_name, temp.values, fmt='%s')\n",
    "    np.savetxt(r'/home/betty35/桌面/Capstone/workspace/data_testing/output/'+file_name2, temp2.values, fmt='%s')"
   ]
  },
  {
   "cell_type": "code",
   "execution_count": null,
   "metadata": {},
   "outputs": [],
   "source": []
  }
 ],
 "metadata": {
  "kernelspec": {
   "display_name": "Python 3",
   "language": "python",
   "name": "python3"
  },
  "language_info": {
   "codemirror_mode": {
    "name": "ipython",
    "version": 3
   },
   "file_extension": ".py",
   "mimetype": "text/x-python",
   "name": "python",
   "nbconvert_exporter": "python",
   "pygments_lexer": "ipython3",
   "version": "3.6.8"
  }
 },
 "nbformat": 4,
 "nbformat_minor": 2
}
