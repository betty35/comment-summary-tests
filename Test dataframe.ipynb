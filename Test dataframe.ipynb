{
 "cells": [
  {
   "cell_type": "markdown",
   "metadata": {},
   "source": [
    "# Page for trying out the data"
   ]
  },
  {
   "cell_type": "code",
   "execution_count": 1,
   "metadata": {},
   "outputs": [
    {
     "name": "stderr",
     "output_type": "stream",
     "text": [
      "/home/betty35/anaconda3/lib/python3.6/site-packages/h5py/__init__.py:36: FutureWarning: Conversion of the second argument of issubdtype from `float` to `np.floating` is deprecated. In future, it will be treated as `np.float64 == np.dtype(float).type`.\n",
      "  from ._conv import register_converters as _register_converters\n",
      "WARNING: Logging before flag parsing goes to stderr.\n",
      "W0405 10:18:47.189100 139972654188288 __init__.py:56] Some hub symbols are not available because TensorFlow version is less than 1.14\n"
     ]
    }
   ],
   "source": [
    "import pandas as pd\n",
    "import nltk\n",
    "import re\n",
    "import tensorflow as tf\n",
    "import tensorflow_hub as hub"
   ]
  },
  {
   "cell_type": "code",
   "execution_count": 2,
   "metadata": {},
   "outputs": [
    {
     "name": "stderr",
     "output_type": "stream",
     "text": [
      "b'Skipping line 35246: expected 15 fields, saw 22\\n'\n",
      "b'Skipping line 87073: expected 15 fields, saw 22\\n'\n"
     ]
    }
   ],
   "source": [
    "df1 = pd.read_csv('amazon_reviews_us_Mobile_Electronics_v1_00.tsv',sep=\"\\t\", error_bad_lines=False)\n",
    "# bad lines exist......"
   ]
  },
  {
   "cell_type": "markdown",
   "metadata": {},
   "source": [
    "### DATA COLUMNS:\n",
    "marketplace       - 2 letter country code of the marketplace where the review was written.  \n",
    "customer_id       - Random identifier that can be used to aggregate reviews written by a single author.  \n",
    "review_id         - The unique ID of the review.  \n",
    "product_id        - The unique Product ID the review pertains to. In the multilingual dataset the reviews\n",
    "                    for the same product in different countries can be grouped by the same product_id.  \n",
    "product_parent    - Random identifier that can be used to aggregate reviews for the same product.  \n",
    "product_title     - Title of the product.  \n",
    "product_category  - Broad product category that can be used to group reviews  \n",
    "                    (also used to group the dataset into coherent parts).  \n",
    "star_rating       - The 1-5 star rating of the review.  \n",
    "helpful_votes     - Number of helpful votes.  \n",
    "total_votes       - Number of total votes the review received.  \n",
    "vine              - Review was written as part of the Vine program.  \n",
    "verified_purchase - The review is on a verified purchase.  \n",
    "review_headline   - The title of the review.  \n",
    "review_body       - The review text.  \n",
    "review_date       - The date the review was written.  "
   ]
  },
  {
   "cell_type": "markdown",
   "metadata": {},
   "source": [
    "Filter out the ones not versified and get a subset of the data"
   ]
  },
  {
   "cell_type": "code",
   "execution_count": 3,
   "metadata": {},
   "outputs": [
    {
     "data": {
      "text/plain": [
       "22299"
      ]
     },
     "execution_count": 3,
     "metadata": {},
     "output_type": "execute_result"
    }
   ],
   "source": [
    "df1 = df1.loc[df1['verified_purchase']=='Y',['review_id', 'product_id', 'product_title', 'helpful_votes','review_headline', 'review_body']]\n",
    "df1['product_id'].nunique()"
   ]
  },
  {
   "cell_type": "markdown",
   "metadata": {},
   "source": [
    "Get a list of products that are with at least 200 reviews"
   ]
  },
  {
   "cell_type": "code",
   "execution_count": 4,
   "metadata": {},
   "outputs": [],
   "source": [
    "count_df = df1.groupby('product_id').count()\n",
    "count_df = count_df['review_id']\n",
    "\n",
    "count_df.mean()\n",
    "count_df.max()\n",
    "\n",
    "count_df = count_df.loc[lambda x: x>=200]\n",
    "count_df = count_df.sort_values(ascending=False)\n",
    "\n",
    "product_list = count_df.index.values.tolist()"
   ]
  },
  {
   "cell_type": "code",
   "execution_count": 5,
   "metadata": {},
   "outputs": [
    {
     "data": {
      "text/html": [
       "<div>\n",
       "<style scoped>\n",
       "    .dataframe tbody tr th:only-of-type {\n",
       "        vertical-align: middle;\n",
       "    }\n",
       "\n",
       "    .dataframe tbody tr th {\n",
       "        vertical-align: top;\n",
       "    }\n",
       "\n",
       "    .dataframe thead th {\n",
       "        text-align: right;\n",
       "    }\n",
       "</style>\n",
       "<table border=\"1\" class=\"dataframe\">\n",
       "  <thead>\n",
       "    <tr style=\"text-align: right;\">\n",
       "      <th></th>\n",
       "      <th>review_id</th>\n",
       "      <th>product_id</th>\n",
       "      <th>product_title</th>\n",
       "      <th>helpful_votes</th>\n",
       "      <th>review_headline</th>\n",
       "      <th>review_body</th>\n",
       "    </tr>\n",
       "  </thead>\n",
       "  <tbody>\n",
       "    <tr>\n",
       "      <th>2</th>\n",
       "      <td>R2Y0MM9YE6OP3P</td>\n",
       "      <td>B00QERR5CY</td>\n",
       "      <td>iXCC Multi pack Lightning cable</td>\n",
       "      <td>0.0</td>\n",
       "      <td>great cables</td>\n",
       "      <td>These work great and fit my life proof case fo...</td>\n",
       "    </tr>\n",
       "    <tr>\n",
       "      <th>4</th>\n",
       "      <td>R26I2RI1GFV8QG</td>\n",
       "      <td>B0067XVNTG</td>\n",
       "      <td>Generic Car Dashboard Video Camera Vehicle Vid...</td>\n",
       "      <td>0.0</td>\n",
       "      <td>Cameras has battery issues</td>\n",
       "      <td>Be careful with these products, I have bought ...</td>\n",
       "    </tr>\n",
       "    <tr>\n",
       "      <th>48</th>\n",
       "      <td>R2WGDZBMIMZ1HK</td>\n",
       "      <td>B00LAG4HN4</td>\n",
       "      <td>iXCC Element II Lightning Cable 6ft, iPhone Ch...</td>\n",
       "      <td>0.0</td>\n",
       "      <td>Good, strong, and 6 feet long!</td>\n",
       "      <td>Good, strong, and 6 feet long.</td>\n",
       "    </tr>\n",
       "    <tr>\n",
       "      <th>60</th>\n",
       "      <td>RRPOCULNRBGQ</td>\n",
       "      <td>B00LAG4HN4</td>\n",
       "      <td>iXCC Element II Lightning Cable 6ft, iPhone Ch...</td>\n",
       "      <td>0.0</td>\n",
       "      <td>made with excellent materials at the joints be...</td>\n",
       "      <td>Apple makes their charging products with infer...</td>\n",
       "    </tr>\n",
       "    <tr>\n",
       "      <th>77</th>\n",
       "      <td>R2K2WK38XR5FKZ</td>\n",
       "      <td>B00QERR5CY</td>\n",
       "      <td>iXCC Multi pack Lightning cable</td>\n",
       "      <td>0.0</td>\n",
       "      <td>One Star</td>\n",
       "      <td>Two failed</td>\n",
       "    </tr>\n",
       "  </tbody>\n",
       "</table>\n",
       "</div>"
      ],
      "text/plain": [
       "         review_id  product_id  \\\n",
       "2   R2Y0MM9YE6OP3P  B00QERR5CY   \n",
       "4   R26I2RI1GFV8QG  B0067XVNTG   \n",
       "48  R2WGDZBMIMZ1HK  B00LAG4HN4   \n",
       "60    RRPOCULNRBGQ  B00LAG4HN4   \n",
       "77  R2K2WK38XR5FKZ  B00QERR5CY   \n",
       "\n",
       "                                        product_title  helpful_votes  \\\n",
       "2                     iXCC Multi pack Lightning cable            0.0   \n",
       "4   Generic Car Dashboard Video Camera Vehicle Vid...            0.0   \n",
       "48  iXCC Element II Lightning Cable 6ft, iPhone Ch...            0.0   \n",
       "60  iXCC Element II Lightning Cable 6ft, iPhone Ch...            0.0   \n",
       "77                    iXCC Multi pack Lightning cable            0.0   \n",
       "\n",
       "                                      review_headline  \\\n",
       "2                                        great cables   \n",
       "4                          Cameras has battery issues   \n",
       "48                     Good, strong, and 6 feet long!   \n",
       "60  made with excellent materials at the joints be...   \n",
       "77                                           One Star   \n",
       "\n",
       "                                          review_body  \n",
       "2   These work great and fit my life proof case fo...  \n",
       "4   Be careful with these products, I have bought ...  \n",
       "48                     Good, strong, and 6 feet long.  \n",
       "60  Apple makes their charging products with infer...  \n",
       "77                                         Two failed  "
      ]
     },
     "execution_count": 5,
     "metadata": {},
     "output_type": "execute_result"
    }
   ],
   "source": [
    "df1 = df1[df1['product_id'].isin(product_list)]\n",
    "\n",
    "df1[0:5]"
   ]
  },
  {
   "cell_type": "markdown",
   "metadata": {},
   "source": [
    "Test on one product. Get the reviews for one product"
   ]
  },
  {
   "cell_type": "code",
   "execution_count": 6,
   "metadata": {},
   "outputs": [],
   "source": [
    "reviews = df1[df1['product_id']==product_list[0]]#.drop(columns=['review_id','product_title','product_id'])\n",
    "reviews = reviews['review_body']\n",
    "\n",
    "reviews = reviews.str.replace('<br />','')\n",
    "\n",
    "def remove_consecutive(text):\n",
    "    one = re.sub(r\"([eoEO])\\1\\1+\",r\"\\1\\1\",text)\n",
    "    return re.sub(r\"([^eoEO])\\1\\1+\",r\"\\1\",one)\n",
    "\n",
    "reviews = pd.Series(list(map(remove_consecutive,reviews)))"
   ]
  },
  {
   "cell_type": "code",
   "execution_count": 7,
   "metadata": {},
   "outputs": [],
   "source": [
    "reviews = reviews.str.split('.',expand=True).stack().reset_index()"
   ]
  },
  {
   "cell_type": "code",
   "execution_count": 8,
   "metadata": {
    "scrolled": true
   },
   "outputs": [
    {
     "data": {
      "text/html": [
       "<div>\n",
       "<style scoped>\n",
       "    .dataframe tbody tr th:only-of-type {\n",
       "        vertical-align: middle;\n",
       "    }\n",
       "\n",
       "    .dataframe tbody tr th {\n",
       "        vertical-align: top;\n",
       "    }\n",
       "\n",
       "    .dataframe thead th {\n",
       "        text-align: right;\n",
       "    }\n",
       "</style>\n",
       "<table border=\"1\" class=\"dataframe\">\n",
       "  <thead>\n",
       "    <tr style=\"text-align: right;\">\n",
       "      <th></th>\n",
       "      <th>level_0</th>\n",
       "      <th>level_1</th>\n",
       "      <th>0</th>\n",
       "      <th>word_count</th>\n",
       "    </tr>\n",
       "  </thead>\n",
       "  <tbody>\n",
       "    <tr>\n",
       "      <th>0</th>\n",
       "      <td>0</td>\n",
       "      <td>0</td>\n",
       "      <td>Very good quality</td>\n",
       "      <td>3</td>\n",
       "    </tr>\n",
       "    <tr>\n",
       "      <th>1</th>\n",
       "      <td>0</td>\n",
       "      <td>1</td>\n",
       "      <td>So far so good</td>\n",
       "      <td>4</td>\n",
       "    </tr>\n",
       "    <tr>\n",
       "      <th>2</th>\n",
       "      <td>0</td>\n",
       "      <td>2</td>\n",
       "      <td></td>\n",
       "      <td>0</td>\n",
       "    </tr>\n",
       "    <tr>\n",
       "      <th>3</th>\n",
       "      <td>1</td>\n",
       "      <td>0</td>\n",
       "      <td>Good product and good seller</td>\n",
       "      <td>5</td>\n",
       "    </tr>\n",
       "    <tr>\n",
       "      <th>4</th>\n",
       "      <td>2</td>\n",
       "      <td>0</td>\n",
       "      <td>Great product!</td>\n",
       "      <td>2</td>\n",
       "    </tr>\n",
       "    <tr>\n",
       "      <th>5</th>\n",
       "      <td>3</td>\n",
       "      <td>0</td>\n",
       "      <td>They charge my wife's phone</td>\n",
       "      <td>5</td>\n",
       "    </tr>\n",
       "    <tr>\n",
       "      <th>6</th>\n",
       "      <td>4</td>\n",
       "      <td>0</td>\n",
       "      <td>Works like a charm!</td>\n",
       "      <td>4</td>\n",
       "    </tr>\n",
       "    <tr>\n",
       "      <th>7</th>\n",
       "      <td>5</td>\n",
       "      <td>0</td>\n",
       "      <td>I've ordered a ton of these white and black, l...</td>\n",
       "      <td>12</td>\n",
       "    </tr>\n",
       "    <tr>\n",
       "      <th>8</th>\n",
       "      <td>5</td>\n",
       "      <td>1</td>\n",
       "      <td>I keep buying them because they are made so ...</td>\n",
       "      <td>10</td>\n",
       "    </tr>\n",
       "    <tr>\n",
       "      <th>9</th>\n",
       "      <td>5</td>\n",
       "      <td>2</td>\n",
       "      <td>I need more to buy for the office, my car, t...</td>\n",
       "      <td>12</td>\n",
       "    </tr>\n",
       "  </tbody>\n",
       "</table>\n",
       "</div>"
      ],
      "text/plain": [
       "   level_0  level_1                                                  0  \\\n",
       "0        0        0                                  Very good quality   \n",
       "1        0        1                                     So far so good   \n",
       "2        0        2                                                      \n",
       "3        1        0                       Good product and good seller   \n",
       "4        2        0                                     Great product!   \n",
       "5        3        0                        They charge my wife's phone   \n",
       "6        4        0                                Works like a charm!   \n",
       "7        5        0  I've ordered a ton of these white and black, l...   \n",
       "8        5        1    I keep buying them because they are made so ...   \n",
       "9        5        2    I need more to buy for the office, my car, t...   \n",
       "\n",
       "   word_count  \n",
       "0           3  \n",
       "1           4  \n",
       "2           0  \n",
       "3           5  \n",
       "4           2  \n",
       "5           5  \n",
       "6           4  \n",
       "7          12  \n",
       "8          10  \n",
       "9          12  "
      ]
     },
     "execution_count": 8,
     "metadata": {},
     "output_type": "execute_result"
    }
   ],
   "source": [
    "reviews['word_count'] = reviews[0].str.split().apply(len)#.strip().apply(len)\n",
    "reviews[0:10]"
   ]
  },
  {
   "cell_type": "code",
   "execution_count": 9,
   "metadata": {},
   "outputs": [],
   "source": [
    "reviews = reviews.loc[reviews['word_count']>0,[0]]"
   ]
  },
  {
   "cell_type": "code",
   "execution_count": 10,
   "metadata": {},
   "outputs": [],
   "source": [
    "reviews['text'] = reviews[0]\n",
    "reviews = reviews.drop(columns=0)"
   ]
  },
  {
   "cell_type": "code",
   "execution_count": 11,
   "metadata": {},
   "outputs": [
    {
     "data": {
      "text/html": [
       "<div>\n",
       "<style scoped>\n",
       "    .dataframe tbody tr th:only-of-type {\n",
       "        vertical-align: middle;\n",
       "    }\n",
       "\n",
       "    .dataframe tbody tr th {\n",
       "        vertical-align: top;\n",
       "    }\n",
       "\n",
       "    .dataframe thead th {\n",
       "        text-align: right;\n",
       "    }\n",
       "</style>\n",
       "<table border=\"1\" class=\"dataframe\">\n",
       "  <thead>\n",
       "    <tr style=\"text-align: right;\">\n",
       "      <th></th>\n",
       "      <th>text</th>\n",
       "      <th>POS</th>\n",
       "    </tr>\n",
       "  </thead>\n",
       "  <tbody>\n",
       "    <tr>\n",
       "      <th>0</th>\n",
       "      <td>Very good quality</td>\n",
       "      <td>[(Very, RB), (good, JJ), (quality, NN)]</td>\n",
       "    </tr>\n",
       "    <tr>\n",
       "      <th>1</th>\n",
       "      <td>So far so good</td>\n",
       "      <td>[(So, RB), (far, RB), (so, RB), (good, JJ)]</td>\n",
       "    </tr>\n",
       "    <tr>\n",
       "      <th>3</th>\n",
       "      <td>Good product and good seller</td>\n",
       "      <td>[(Good, JJ), (product, NN), (and, CC), (good, ...</td>\n",
       "    </tr>\n",
       "    <tr>\n",
       "      <th>4</th>\n",
       "      <td>Great product!</td>\n",
       "      <td>[(Great, JJ), (product, NN), (!, .)]</td>\n",
       "    </tr>\n",
       "    <tr>\n",
       "      <th>5</th>\n",
       "      <td>They charge my wife's phone</td>\n",
       "      <td>[(They, PRP), (charge, VBP), (my, PRP$), (wife...</td>\n",
       "    </tr>\n",
       "  </tbody>\n",
       "</table>\n",
       "</div>"
      ],
      "text/plain": [
       "                           text  \\\n",
       "0             Very good quality   \n",
       "1                So far so good   \n",
       "3  Good product and good seller   \n",
       "4                Great product!   \n",
       "5   They charge my wife's phone   \n",
       "\n",
       "                                                 POS  \n",
       "0            [(Very, RB), (good, JJ), (quality, NN)]  \n",
       "1        [(So, RB), (far, RB), (so, RB), (good, JJ)]  \n",
       "3  [(Good, JJ), (product, NN), (and, CC), (good, ...  \n",
       "4               [(Great, JJ), (product, NN), (!, .)]  \n",
       "5  [(They, PRP), (charge, VBP), (my, PRP$), (wife...  "
      ]
     },
     "execution_count": 11,
     "metadata": {},
     "output_type": "execute_result"
    }
   ],
   "source": [
    "reviews['POS'] = reviews['text'].apply(nltk.word_tokenize).apply(nltk.pos_tag)\n",
    "reviews[0:5]"
   ]
  },
  {
   "cell_type": "code",
   "execution_count": 12,
   "metadata": {},
   "outputs": [
    {
     "data": {
      "text/html": [
       "<div>\n",
       "<style scoped>\n",
       "    .dataframe tbody tr th:only-of-type {\n",
       "        vertical-align: middle;\n",
       "    }\n",
       "\n",
       "    .dataframe tbody tr th {\n",
       "        vertical-align: top;\n",
       "    }\n",
       "\n",
       "    .dataframe thead th {\n",
       "        text-align: right;\n",
       "    }\n",
       "</style>\n",
       "<table border=\"1\" class=\"dataframe\">\n",
       "  <thead>\n",
       "    <tr style=\"text-align: right;\">\n",
       "      <th></th>\n",
       "      <th>text</th>\n",
       "      <th>POS</th>\n",
       "      <th>main</th>\n",
       "    </tr>\n",
       "  </thead>\n",
       "  <tbody>\n",
       "    <tr>\n",
       "      <th>0</th>\n",
       "      <td>Very good quality</td>\n",
       "      <td>[(Very, RB), (good, JJ), (quality, NN)]</td>\n",
       "      <td>quality</td>\n",
       "    </tr>\n",
       "    <tr>\n",
       "      <th>1</th>\n",
       "      <td>So far so good</td>\n",
       "      <td>[(So, RB), (far, RB), (so, RB), (good, JJ)]</td>\n",
       "      <td></td>\n",
       "    </tr>\n",
       "    <tr>\n",
       "      <th>3</th>\n",
       "      <td>Good product and good seller</td>\n",
       "      <td>[(Good, JJ), (product, NN), (and, CC), (good, ...</td>\n",
       "      <td>product seller</td>\n",
       "    </tr>\n",
       "    <tr>\n",
       "      <th>4</th>\n",
       "      <td>Great product!</td>\n",
       "      <td>[(Great, JJ), (product, NN), (!, .)]</td>\n",
       "      <td>product</td>\n",
       "    </tr>\n",
       "    <tr>\n",
       "      <th>5</th>\n",
       "      <td>They charge my wife's phone</td>\n",
       "      <td>[(They, PRP), (charge, VBP), (my, PRP$), (wife...</td>\n",
       "      <td>charge wife phone</td>\n",
       "    </tr>\n",
       "  </tbody>\n",
       "</table>\n",
       "</div>"
      ],
      "text/plain": [
       "                           text  \\\n",
       "0             Very good quality   \n",
       "1                So far so good   \n",
       "3  Good product and good seller   \n",
       "4                Great product!   \n",
       "5   They charge my wife's phone   \n",
       "\n",
       "                                                 POS               main  \n",
       "0            [(Very, RB), (good, JJ), (quality, NN)]            quality  \n",
       "1        [(So, RB), (far, RB), (so, RB), (good, JJ)]                     \n",
       "3  [(Good, JJ), (product, NN), (and, CC), (good, ...     product seller  \n",
       "4               [(Great, JJ), (product, NN), (!, .)]            product  \n",
       "5  [(They, PRP), (charge, VBP), (my, PRP$), (wife...  charge wife phone  "
      ]
     },
     "execution_count": 12,
     "metadata": {},
     "output_type": "execute_result"
    }
   ],
   "source": [
    "def getMainWords(pos):\n",
    "    result = '';\n",
    "    for x in pos:\n",
    "        if x[1][0:2] in ['NN','VB']:\n",
    "            result= result+x[0]+' '\n",
    "    if len(result)>0:\n",
    "        result= result[0:len(result)-1]\n",
    "    return result\n",
    "\n",
    "reviews['main'] = list(map(getMainWords,reviews['POS']))\n",
    "\n",
    "reviews[0:5]"
   ]
  },
  {
   "cell_type": "code",
   "execution_count": 13,
   "metadata": {},
   "outputs": [],
   "source": [
    "reviews = reviews.loc[reviews['main'].apply(len)>0,['text','main']]"
   ]
  },
  {
   "cell_type": "code",
   "execution_count": 14,
   "metadata": {},
   "outputs": [
    {
     "data": {
      "text/html": [
       "<div>\n",
       "<style scoped>\n",
       "    .dataframe tbody tr th:only-of-type {\n",
       "        vertical-align: middle;\n",
       "    }\n",
       "\n",
       "    .dataframe tbody tr th {\n",
       "        vertical-align: top;\n",
       "    }\n",
       "\n",
       "    .dataframe thead th {\n",
       "        text-align: right;\n",
       "    }\n",
       "</style>\n",
       "<table border=\"1\" class=\"dataframe\">\n",
       "  <thead>\n",
       "    <tr style=\"text-align: right;\">\n",
       "      <th></th>\n",
       "      <th>text</th>\n",
       "      <th>main</th>\n",
       "    </tr>\n",
       "  </thead>\n",
       "  <tbody>\n",
       "    <tr>\n",
       "      <th>0</th>\n",
       "      <td>Very good quality</td>\n",
       "      <td>quality</td>\n",
       "    </tr>\n",
       "    <tr>\n",
       "      <th>3</th>\n",
       "      <td>Good product and good seller</td>\n",
       "      <td>product seller</td>\n",
       "    </tr>\n",
       "    <tr>\n",
       "      <th>4</th>\n",
       "      <td>Great product!</td>\n",
       "      <td>product</td>\n",
       "    </tr>\n",
       "    <tr>\n",
       "      <th>5</th>\n",
       "      <td>They charge my wife's phone</td>\n",
       "      <td>charge wife phone</td>\n",
       "    </tr>\n",
       "    <tr>\n",
       "      <th>6</th>\n",
       "      <td>Works like a charm!</td>\n",
       "      <td>Works charm</td>\n",
       "    </tr>\n",
       "    <tr>\n",
       "      <th>7</th>\n",
       "      <td>I've ordered a ton of these white and black, l...</td>\n",
       "      <td>'ve ordered ton</td>\n",
       "    </tr>\n",
       "    <tr>\n",
       "      <th>8</th>\n",
       "      <td>I keep buying them because they are made so ...</td>\n",
       "      <td>keep buying are made</td>\n",
       "    </tr>\n",
       "    <tr>\n",
       "      <th>9</th>\n",
       "      <td>I need more to buy for the office, my car, t...</td>\n",
       "      <td>need buy office car house</td>\n",
       "    </tr>\n",
       "    <tr>\n",
       "      <th>10</th>\n",
       "      <td>etc</td>\n",
       "      <td>etc</td>\n",
       "    </tr>\n",
       "    <tr>\n",
       "      <th>11</th>\n",
       "      <td>awesome stuff!</td>\n",
       "      <td>stuff</td>\n",
       "    </tr>\n",
       "    <tr>\n",
       "      <th>12</th>\n",
       "      <td>I've bought a total of 3 of these cables I've ...</td>\n",
       "      <td>'ve bought total cables 've had month works</td>\n",
       "    </tr>\n",
       "    <tr>\n",
       "      <th>13</th>\n",
       "      <td>Lasted longer than the ones I got from Apple</td>\n",
       "      <td>Lasted ones got Apple</td>\n",
       "    </tr>\n",
       "    <tr>\n",
       "      <th>14</th>\n",
       "      <td>I needed one that worked with my lifeproof ca...</td>\n",
       "      <td>needed one worked case does</td>\n",
       "    </tr>\n",
       "    <tr>\n",
       "      <th>15</th>\n",
       "      <td>This cable works lightening-fast</td>\n",
       "      <td>cable works lightening-fast</td>\n",
       "    </tr>\n",
       "    <tr>\n",
       "      <th>16</th>\n",
       "      <td>As soon as I plug it into my iPhone, it recog...</td>\n",
       "      <td>plug iPhone recognizes charger begins charging</td>\n",
       "    </tr>\n",
       "    <tr>\n",
       "      <th>17</th>\n",
       "      <td>No need to wiggle the cable around the port t...</td>\n",
       "      <td>need wiggle cable port get fit device pick</td>\n",
       "    </tr>\n",
       "    <tr>\n",
       "      <th>18</th>\n",
       "      <td>I actually think it works better than the cha...</td>\n",
       "      <td>think works charger iphone came 've had year w...</td>\n",
       "    </tr>\n",
       "    <tr>\n",
       "      <th>19</th>\n",
       "      <td>No tears to the cable, like you often have wi...</td>\n",
       "      <td>tears cable have apple headphones chargers wir...</td>\n",
       "    </tr>\n",
       "    <tr>\n",
       "      <th>20</th>\n",
       "      <td>The cable also stays straight, i</td>\n",
       "      <td>cable stays i</td>\n",
       "    </tr>\n",
       "    <tr>\n",
       "      <th>21</th>\n",
       "      <td>e</td>\n",
       "      <td>e</td>\n",
       "    </tr>\n",
       "  </tbody>\n",
       "</table>\n",
       "</div>"
      ],
      "text/plain": [
       "                                                 text  \\\n",
       "0                                   Very good quality   \n",
       "3                        Good product and good seller   \n",
       "4                                      Great product!   \n",
       "5                         They charge my wife's phone   \n",
       "6                                 Works like a charm!   \n",
       "7   I've ordered a ton of these white and black, l...   \n",
       "8     I keep buying them because they are made so ...   \n",
       "9     I need more to buy for the office, my car, t...   \n",
       "10                                                etc   \n",
       "11                                     awesome stuff!   \n",
       "12  I've bought a total of 3 of these cables I've ...   \n",
       "13       Lasted longer than the ones I got from Apple   \n",
       "14   I needed one that worked with my lifeproof ca...   \n",
       "15                   This cable works lightening-fast   \n",
       "16   As soon as I plug it into my iPhone, it recog...   \n",
       "17   No need to wiggle the cable around the port t...   \n",
       "18   I actually think it works better than the cha...   \n",
       "19   No tears to the cable, like you often have wi...   \n",
       "20                   The cable also stays straight, i   \n",
       "21                                                  e   \n",
       "\n",
       "                                                 main  \n",
       "0                                             quality  \n",
       "3                                      product seller  \n",
       "4                                             product  \n",
       "5                                   charge wife phone  \n",
       "6                                         Works charm  \n",
       "7                                     've ordered ton  \n",
       "8                                keep buying are made  \n",
       "9                           need buy office car house  \n",
       "10                                                etc  \n",
       "11                                              stuff  \n",
       "12        've bought total cables 've had month works  \n",
       "13                              Lasted ones got Apple  \n",
       "14                        needed one worked case does  \n",
       "15                        cable works lightening-fast  \n",
       "16     plug iPhone recognizes charger begins charging  \n",
       "17         need wiggle cable port get fit device pick  \n",
       "18  think works charger iphone came 've had year w...  \n",
       "19  tears cable have apple headphones chargers wir...  \n",
       "20                                      cable stays i  \n",
       "21                                                  e  "
      ]
     },
     "execution_count": 14,
     "metadata": {},
     "output_type": "execute_result"
    }
   ],
   "source": [
    "reviews[0:20]"
   ]
  },
  {
   "cell_type": "markdown",
   "metadata": {},
   "source": [
    "Word Embedding / Sentence Embedding"
   ]
  },
  {
   "cell_type": "code",
   "execution_count": 16,
   "metadata": {},
   "outputs": [
    {
     "name": "stdout",
     "output_type": "stream",
     "text": [
      "WARNING:tensorflow:From /home/betty35/anaconda3/lib/python3.6/site-packages/tensorflow/python/ops/control_flow_ops.py:3632: colocate_with (from tensorflow.python.framework.ops) is deprecated and will be removed in a future version.\n",
      "Instructions for updating:\n",
      "Colocations handled automatically by placer.\n"
     ]
    },
    {
     "name": "stderr",
     "output_type": "stream",
     "text": [
      "W0405 10:20:18.091065 139972654188288 deprecation.py:323] From /home/betty35/anaconda3/lib/python3.6/site-packages/tensorflow/python/ops/control_flow_ops.py:3632: colocate_with (from tensorflow.python.framework.ops) is deprecated and will be removed in a future version.\n",
      "Instructions for updating:\n",
      "Colocations handled automatically by placer.\n"
     ]
    }
   ],
   "source": [
    "# Load google Universal Sentence Encoder\n",
    "module_dir = \"downloads/encoder\"\n",
    "embed = hub.Module(module_dir)"
   ]
  },
  {
   "cell_type": "code",
   "execution_count": 20,
   "metadata": {},
   "outputs": [
    {
     "name": "stdout",
     "output_type": "stream",
     "text": [
      "INFO:tensorflow:Saver not created because there are no variables in the graph to restore\n"
     ]
    },
    {
     "name": "stderr",
     "output_type": "stream",
     "text": [
      "I0405 10:27:43.774258 139972654188288 saver.py:1483] Saver not created because there are no variables in the graph to restore\n"
     ]
    }
   ],
   "source": [
    "with tf.Session() as session:\n",
    "  session.run([tf.global_variables_initializer(), tf.tables_initializer()])\n",
    "  sentence_embedding= session.run(embed(list(reviews['text'])))"
   ]
  },
  {
   "cell_type": "code",
   "execution_count": 21,
   "metadata": {},
   "outputs": [
    {
     "data": {
      "text/plain": [
       "array([[ 0.06433529, -0.05392856,  0.02364377, ..., -0.03504702,\n",
       "        -0.00971428, -0.04463368],\n",
       "       [ 0.02487145, -0.01953173,  0.00984184, ..., -0.01322363,\n",
       "        -0.03477967,  0.05130831],\n",
       "       [ 0.03877192, -0.03623104,  0.01428011, ..., -0.02759716,\n",
       "        -0.00387881,  0.04328242],\n",
       "       [ 0.02674303, -0.06447621, -0.02215756, ...,  0.03415874,\n",
       "        -0.04212781, -0.00147286],\n",
       "       [-0.00213155,  0.02355909,  0.05261142, ..., -0.01222009,\n",
       "         0.04687894, -0.00129713]], dtype=float32)"
      ]
     },
     "execution_count": 21,
     "metadata": {},
     "output_type": "execute_result"
    }
   ],
   "source": [
    "sentence_embedding[0:5]"
   ]
  },
  {
   "cell_type": "code",
   "execution_count": 24,
   "metadata": {},
   "outputs": [
    {
     "data": {
      "text/plain": [
       "4584"
      ]
     },
     "execution_count": 24,
     "metadata": {},
     "output_type": "execute_result"
    }
   ],
   "source": [
    "reviews.size"
   ]
  },
  {
   "cell_type": "code",
   "execution_count": 28,
   "metadata": {},
   "outputs": [
    {
     "data": {
      "text/plain": [
       "2292"
      ]
     },
     "execution_count": 28,
     "metadata": {},
     "output_type": "execute_result"
    }
   ],
   "source": [
    "len(sentence_embedding)"
   ]
  },
  {
   "cell_type": "code",
   "execution_count": 31,
   "metadata": {},
   "outputs": [
    {
     "data": {
      "text/plain": [
       "512"
      ]
     },
     "execution_count": 31,
     "metadata": {},
     "output_type": "execute_result"
    }
   ],
   "source": [
    "len(sentence_embedding[0])"
   ]
  },
  {
   "cell_type": "code",
   "execution_count": 33,
   "metadata": {},
   "outputs": [],
   "source": [
    "#sentence embedding\n",
    "reviews['s_emb'] = pd.Series(list(sentence_embedding))"
   ]
  },
  {
   "cell_type": "code",
   "execution_count": 34,
   "metadata": {},
   "outputs": [
    {
     "data": {
      "text/html": [
       "<div>\n",
       "<style scoped>\n",
       "    .dataframe tbody tr th:only-of-type {\n",
       "        vertical-align: middle;\n",
       "    }\n",
       "\n",
       "    .dataframe tbody tr th {\n",
       "        vertical-align: top;\n",
       "    }\n",
       "\n",
       "    .dataframe thead th {\n",
       "        text-align: right;\n",
       "    }\n",
       "</style>\n",
       "<table border=\"1\" class=\"dataframe\">\n",
       "  <thead>\n",
       "    <tr style=\"text-align: right;\">\n",
       "      <th></th>\n",
       "      <th>text</th>\n",
       "      <th>main</th>\n",
       "      <th>s_emb</th>\n",
       "    </tr>\n",
       "  </thead>\n",
       "  <tbody>\n",
       "    <tr>\n",
       "      <th>0</th>\n",
       "      <td>Very good quality</td>\n",
       "      <td>quality</td>\n",
       "      <td>[0.064335294, -0.05392856, 0.023643766, 0.0281...</td>\n",
       "    </tr>\n",
       "    <tr>\n",
       "      <th>3</th>\n",
       "      <td>Good product and good seller</td>\n",
       "      <td>product seller</td>\n",
       "      <td>[0.026743034, -0.064476214, -0.022157555, 0.06...</td>\n",
       "    </tr>\n",
       "    <tr>\n",
       "      <th>4</th>\n",
       "      <td>Great product!</td>\n",
       "      <td>product</td>\n",
       "      <td>[-0.0021315496, 0.023559086, 0.05261142, -0.03...</td>\n",
       "    </tr>\n",
       "    <tr>\n",
       "      <th>5</th>\n",
       "      <td>They charge my wife's phone</td>\n",
       "      <td>charge wife phone</td>\n",
       "      <td>[0.033525135, -0.031799648, -0.012317592, 0.01...</td>\n",
       "    </tr>\n",
       "    <tr>\n",
       "      <th>6</th>\n",
       "      <td>Works like a charm!</td>\n",
       "      <td>Works charm</td>\n",
       "      <td>[0.01742137, -0.02121579, 0.021088673, 0.01316...</td>\n",
       "    </tr>\n",
       "    <tr>\n",
       "      <th>7</th>\n",
       "      <td>I've ordered a ton of these white and black, l...</td>\n",
       "      <td>'ve ordered ton</td>\n",
       "      <td>[0.009239573, -0.05190375, -0.009112191, -0.02...</td>\n",
       "    </tr>\n",
       "    <tr>\n",
       "      <th>8</th>\n",
       "      <td>I keep buying them because they are made so ...</td>\n",
       "      <td>keep buying are made</td>\n",
       "      <td>[0.03568201, -0.008994566, 0.045553826, -0.023...</td>\n",
       "    </tr>\n",
       "    <tr>\n",
       "      <th>9</th>\n",
       "      <td>I need more to buy for the office, my car, t...</td>\n",
       "      <td>need buy office car house</td>\n",
       "      <td>[0.021971293, -0.05539746, 0.012881672, 0.0043...</td>\n",
       "    </tr>\n",
       "    <tr>\n",
       "      <th>10</th>\n",
       "      <td>etc</td>\n",
       "      <td>etc</td>\n",
       "      <td>[0.024454864, -0.030930609, 0.010781822, 0.052...</td>\n",
       "    </tr>\n",
       "    <tr>\n",
       "      <th>11</th>\n",
       "      <td>awesome stuff!</td>\n",
       "      <td>stuff</td>\n",
       "      <td>[0.04618356, -0.0048306207, 0.011567681, 0.066...</td>\n",
       "    </tr>\n",
       "  </tbody>\n",
       "</table>\n",
       "</div>"
      ],
      "text/plain": [
       "                                                 text  \\\n",
       "0                                   Very good quality   \n",
       "3                        Good product and good seller   \n",
       "4                                      Great product!   \n",
       "5                         They charge my wife's phone   \n",
       "6                                 Works like a charm!   \n",
       "7   I've ordered a ton of these white and black, l...   \n",
       "8     I keep buying them because they are made so ...   \n",
       "9     I need more to buy for the office, my car, t...   \n",
       "10                                                etc   \n",
       "11                                     awesome stuff!   \n",
       "\n",
       "                         main  \\\n",
       "0                     quality   \n",
       "3              product seller   \n",
       "4                     product   \n",
       "5           charge wife phone   \n",
       "6                 Works charm   \n",
       "7             've ordered ton   \n",
       "8        keep buying are made   \n",
       "9   need buy office car house   \n",
       "10                        etc   \n",
       "11                      stuff   \n",
       "\n",
       "                                                s_emb  \n",
       "0   [0.064335294, -0.05392856, 0.023643766, 0.0281...  \n",
       "3   [0.026743034, -0.064476214, -0.022157555, 0.06...  \n",
       "4   [-0.0021315496, 0.023559086, 0.05261142, -0.03...  \n",
       "5   [0.033525135, -0.031799648, -0.012317592, 0.01...  \n",
       "6   [0.01742137, -0.02121579, 0.021088673, 0.01316...  \n",
       "7   [0.009239573, -0.05190375, -0.009112191, -0.02...  \n",
       "8   [0.03568201, -0.008994566, 0.045553826, -0.023...  \n",
       "9   [0.021971293, -0.05539746, 0.012881672, 0.0043...  \n",
       "10  [0.024454864, -0.030930609, 0.010781822, 0.052...  \n",
       "11  [0.04618356, -0.0048306207, 0.011567681, 0.066...  "
      ]
     },
     "execution_count": 34,
     "metadata": {},
     "output_type": "execute_result"
    }
   ],
   "source": [
    "reviews[0:10]"
   ]
  },
  {
   "cell_type": "code",
   "execution_count": null,
   "metadata": {},
   "outputs": [],
   "source": []
  }
 ],
 "metadata": {
  "kernelspec": {
   "display_name": "Python 3",
   "language": "python",
   "name": "python3"
  },
  "language_info": {
   "codemirror_mode": {
    "name": "ipython",
    "version": 3
   },
   "file_extension": ".py",
   "mimetype": "text/x-python",
   "name": "python",
   "nbconvert_exporter": "python",
   "pygments_lexer": "ipython3",
   "version": "3.6.8"
  }
 },
 "nbformat": 4,
 "nbformat_minor": 2
}
